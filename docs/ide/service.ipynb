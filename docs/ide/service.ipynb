{
 "cells": [
  {
   "cell_type": "markdown",
   "id": "meaning-invite",
   "metadata": {},
   "source": [
    "# `gcc` etc"
   ]
  },
  {
   "cell_type": "code",
   "execution_count": 1,
   "id": "based-flower",
   "metadata": {},
   "outputs": [
    {
     "name": "stdout",
     "output_type": "stream",
     "text": [
      "\u001b[0m\u001b[0mtotal 16\n",
      "-rwxr-xr-x 1 iot iot 9360 May 24 17:06 a.out\n",
      "-rw-r--r-- 1 iot iot  127 May 24 17:06 main.c\n",
      "\u001b[0mHello, World!\u001b[0m"
     ]
    }
   ],
   "source": [
    "%%service gcc\n",
    "\n",
    "mkdir -p /home/iot/gcc-demo\n",
    "cd /home/iot/gcc-demo\n",
    "\n",
    "cat >main.c <<EOF\n",
    "#include <stdio.h>\n",
    "int main() {\n",
    "   // printf() displays the string inside quotation\n",
    "   printf(\"Hello, World!\");\n",
    "   return 0;\n",
    "}\n",
    "EOF\n",
    "\n",
    "gcc main.c\n",
    "ls -l\n",
    "./a.out"
   ]
  },
  {
   "cell_type": "code",
   "execution_count": null,
   "id": "spatial-confidence",
   "metadata": {},
   "outputs": [],
   "source": [
    "!pip install iot-kernel -U"
   ]
  },
  {
   "cell_type": "code",
   "execution_count": 2,
   "id": "painted-breast",
   "metadata": {},
   "outputs": [
    {
     "name": "stdout",
     "output_type": "stream",
     "text": [
      "\u001b[0mName: iot-kernel\n",
      "Version: 0.4.14\n",
      "Summary: Jupyter Kernel for MicroPython\n",
      "Home-page: https://github.com/iot49/iot-kernel\n",
      "Author: Bernhard Boser\n",
      "Author-email: None\n",
      "License: MIT\n",
      "Location: /usr/local/lib/python3.8/site-packages\n",
      "Requires: iot-device, ipynbname, ipykernel, paramiko, argparse\n",
      "Required-by: \n"
     ]
    }
   ],
   "source": [
    "!pip show iot-kernel"
   ]
  },
  {
   "cell_type": "code",
   "execution_count": 2,
   "id": "running-sauce",
   "metadata": {},
   "outputs": [
    {
     "name": "stdout",
     "output_type": "stream",
     "text": [
      "\u001b[0m\u001b[0mtcp        0      0 127.0.0.1:60035         0.0.0.0:*               LISTEN      -\u001b[0m\n",
      "tcp        0      0 127.0.0.1:61987         0.0.0.0:*               LISTEN      -\u001b[0m\n",
      "tcp        0      0 127.0.0.1:55461         0.0.0.0:*               LISTEN      -\u001b[0m\n",
      "tcp        0      0 127.0.0.1:62661         0.0.0.0:*               LISTEN      -\u001b[0m\n",
      "tcp        0      0 127.0.0.1:63621         0.0.0.0:*               LISTEN      -\u001b[0m\n",
      "tcp        0      0 127.0.0.1:57159         0.0.0.0:*               LISTEN      44/python\u001b[0m\n",
      "tcp        0      0 127.0.0.1:50695         0.0.0.0:*               LISTEN      -\u001b[0m\n",
      "tcp        0      0 127.0.0.1:60937         0.0.0.0:*               LISTEN      44/python\u001b[0m\n",
      "tcp        0      0 127.0.0.1:57291         0.0.0.0:*               LISTEN      44/python\u001b[0m\n",
      "tcp        0      0 127.0.0.1:52813         0.0.0.0:*               LISTEN      -\u001b[0m\n",
      "tcp        0      0 127.0.0.1:64365         0.0.0.0:*               LISTEN      -\u001b[0m\n",
      "tcp        0      0 127.0.0.1:52015         0.0.0.0:*               LISTEN      44/python\u001b[0m\n",
      "tcp        0      0 127.0.0.1:55503         0.0.0.0:*               LISTEN      -\u001b[0m\n",
      "tcp        0      0 127.0.0.1:55345         0.0.0.0:*               LISTEN      -\u001b[0m\n",
      "tcp        0      0 127.0.0.1:55473         0.0.0.0:*               LISTEN      -\u001b[0m\n",
      "tcp        0      0 127.0.0.1:52307         0.0.0.0:*               LISTEN      -\u001b[0m\n",
      "tcp        0      0 127.0.0.1:50677         0.0.0.0:*               LISTEN      -\u001b[0m\n",
      "tcp        0      0 127.0.0.2:53            0.0.0.0:*               LISTEN      -\u001b[0m\n",
      "tcp        0      0 10.114.102.1:53         0.0.0.0:*               LISTEN      -\u001b[0m\n",
      "tcp        0      0 127.0.0.1:52215         0.0.0.0:*               LISTEN      -\u001b[0m\n",
      "tcp        0      0 127.0.0.1:60055         0.0.0.0:*               LISTEN      -\u001b[0m\n",
      "tcp        0      0 0.0.0.0:8888            0.0.0.0:*               LISTEN      -\u001b[0m\n",
      "tcp        0      0 0.0.0.0:8889            0.0.0.0:*               LISTEN      29/python3.8\u001b[0m\n",
      "tcp        0      0 127.0.0.1:56123         0.0.0.0:*               LISTEN      -\u001b[0m\n",
      "tcp        0      0 127.0.0.1:63453         0.0.0.0:*               LISTEN      44/python\u001b[0m\n",
      "tcp        0      0 127.0.0.1:49663         0.0.0.0:*               LISTEN      44/python\u001b[0m\n",
      "tcp        0      0 127.0.0.1:62815         0.0.0.0:*               LISTEN      -\u001b[0m\n",
      "tcp        0      0 127.0.0.1:64801         0.0.0.0:*               LISTEN      -\u001b[0m\n",
      "tcp6       0      0 :::48484                :::*                    LISTEN      -\u001b[0m\n",
      "tcp6       0      0 :::2375                 :::*                    LISTEN      -\u001b[0m\n",
      "tcp6       0      0 :::22222                :::*                    LISTEN      -\u001b[0m\n",
      "tcp6       0      0 :::8888                 :::*                    LISTEN      -\u001b[0m\n",
      "tcp6       0      0 :::8889                 :::*                    LISTEN      29/python3.8\u001b[0m\n",
      "tcp6       0      0 :::8444                 :::*                    LISTEN      -\u001b[0m\n"
     ]
    }
   ],
   "source": [
    "%%bash\n",
    "\n",
    "netstat -tulpn | grep LISTEN"
   ]
  },
  {
   "cell_type": "markdown",
   "id": "lovely-evanescence",
   "metadata": {},
   "source": [
    "# ssh\n",
    "\n",
    "https://superuser.com/questions/1634832/how-can-i-execute-a-command-on-a-remote-server-through-scp/\n",
    "\n",
    "1. Find service name, e.g. `gcc` -> `gcc_3572438_1785491`\n",
    "2. `ssh -t -p 22222 root@localhost \"balena-engine exec -it <service_name> <cmd>`"
   ]
  },
  {
   "cell_type": "code",
   "execution_count": 2,
   "id": "auburn-bleeding",
   "metadata": {},
   "outputs": [
    {
     "name": "stdout",
     "output_type": "stream",
     "text": [
      "Pseudo-terminal will not be allocated because stdin is not a terminal.\n",
      "Warning: Permanently added '[localhost]:22222' (ECDSA) to the list of known hosts.\n",
      "CONTAINER ID        IMAGE                                                                   COMMAND                  CREATED             STATUS                 PORTS                    NAMES\n",
      "97ada7db46dd        353af4faa6a4                                                            \"/usr/bin/entry.sh /…\"   About an hour ago   Up About an hour       0.0.0.0:8900->8900/tcp   gcc_3572438_1785491\n",
      "9bb7930fbb0b        8320870c5263                                                            \"/usr/bin/entry.sh /…\"   About an hour ago   Up About an hour                                iot49_3572436_1785491\n",
      "88eb2c7ad476        af8b6fa948cd                                                            \"/init\"                  About an hour ago   Up About an hour       0.0.0.0:8443->8443/tcp   code-server_3572439_1785491\n",
      "d4a3e9e032fd        registry2.balena-cloud.com/v2/ee8a630b4962f1e2b4ad682dd9468f7a:latest   \"/usr/src/app/entry.…\"   8 days ago          Up 2 hours (healthy)                            resin_supervisor\n"
     ]
    }
   ],
   "source": [
    "!echo balena-engine ps | ssh -o UserKnownHostsFile=/dev/null -o StrictHostKeyChecking=no -p 22222 localhost"
   ]
  },
  {
   "cell_type": "code",
   "execution_count": 14,
   "id": "marked-option",
   "metadata": {},
   "outputs": [
    {
     "name": "stdout",
     "output_type": "stream",
     "text": [
      "BALENA_SERVICE_NAME=gcc\n",
      "BALENA_SERVICE_NAME=code-server\n",
      "BALENA_SERVICE_NAME=iot49\n"
     ]
    }
   ],
   "source": [
    "!ssh -o UserKnownHostsFile=/dev/null -o StrictHostKeyChecking=no -t -p 22222 root@localhost \"balena-engine exec -it gcc_3572438_1785491 printenv\"         2>/dev/null | grep BALENA_SERVICE_NAME\n",
    "!ssh -o UserKnownHostsFile=/dev/null -o StrictHostKeyChecking=no -t -p 22222 root@localhost \"balena-engine exec -it code-server_3572439_1785491 printenv\" 2>/dev/null | grep BALENA_SERVICE_NAME\n",
    "!ssh -o UserKnownHostsFile=/dev/null -o StrictHostKeyChecking=no -t -p 22222 root@localhost \"balena-engine exec -it iot49_3572436_1785491 printenv\"       2>/dev/null | grep BALENA_SERVICE_NAME"
   ]
  },
  {
   "cell_type": "markdown",
   "id": "artistic-satin",
   "metadata": {},
   "source": [
    "# ssh from Python\n",
    "\n",
    "* https://stackoverflow.com/questions/3586106/perform-commands-over-ssh-with-python\n",
    "* [Paramiko](http://www.paramiko.org/)"
   ]
  },
  {
   "cell_type": "markdown",
   "id": "robust-brand",
   "metadata": {},
   "source": [
    "# Fix Container Names"
   ]
  },
  {
   "cell_type": "code",
   "execution_count": 24,
   "id": "mysterious-plasma",
   "metadata": {},
   "outputs": [
    {
     "name": "stdout",
     "output_type": "stream",
     "text": [
      "BALENA_SERVICE_NAME=gcc\n"
     ]
    }
   ],
   "source": [
    "!ssh -o UserKnownHostsFile=/dev/null -o StrictHostKeyChecking=no -t -p 22222 root@localhost \"balena-engine exec -it gcc printenv\" 2>/dev/null | grep BALENA_SERVICE_NAME"
   ]
  },
  {
   "cell_type": "code",
   "execution_count": 26,
   "id": "opposite-multiple",
   "metadata": {},
   "outputs": [
    {
     "name": "stdout",
     "output_type": "stream",
     "text": [
      "Pseudo-terminal will not be allocated because stdin is not a terminal.\n",
      "Warning: Permanently added '[localhost]:22222' (ECDSA) to the list of known hosts.\n",
      "\n",
      "Usage:\tbalena-engine [OPTIONS] COMMAND\n",
      "\n",
      "A self-sufficient runtime for containers\n",
      "\n",
      "Options:\n",
      "      --config string      Location of client config files (default\n",
      "                           \"/home/root/.balena-engine\")\n",
      "  -c, --context string     Name of the context to use to connect to the\n",
      "                           daemon (overrides DOCKER_HOST env var and\n",
      "                           default context set with \"docker context use\")\n",
      "  -D, --debug              Enable debug mode\n",
      "  -H, --host list          Daemon socket(s) to connect to\n",
      "  -l, --log-level string   Set the logging level\n",
      "                           (\"debug\"|\"info\"|\"warn\"|\"error\"|\"fatal\")\n",
      "                           (default \"info\")\n",
      "      --tls                Use TLS; implied by --tlsverify\n",
      "      --tlscacert string   Trust certs signed only by this CA (default\n",
      "                           \"/home/root/.balena-engine/ca.pem\")\n",
      "      --tlscert string     Path to TLS certificate file (default\n",
      "                           \"/home/root/.balena-engine/cert.pem\")\n",
      "      --tlskey string      Path to TLS key file (default\n",
      "                           \"/home/root/.balena-engine/key.pem\")\n",
      "      --tlsverify          Use TLS and verify the remote\n",
      "  -v, --version            Print version information and quit\n",
      "\n",
      "Management Commands:\n",
      "  builder     Manage builds\n",
      "  container   Manage containers\n",
      "  engine      Manage the docker engine\n",
      "  image       Manage images\n",
      "  network     Manage networks\n",
      "  system      Manage Docker\n",
      "  trust       Manage trust on Docker images\n",
      "  volume      Manage volumes\n",
      "\n",
      "Commands:\n",
      "  attach      Attach local standard input, output, and error streams to a running container\n",
      "  build       Build an image from a Dockerfile\n",
      "  commit      Create a new image from a container's changes\n",
      "  cp          Copy files/folders between a container and the local filesystem\n",
      "  create      Create a new container\n",
      "  diff        Inspect changes to files or directories on a container's filesystem\n",
      "  events      Get real time events from the server\n",
      "  exec        Run a command in a running container\n",
      "  export      Export a container's filesystem as a tar archive\n",
      "  history     Show the history of an image\n",
      "  images      List images\n",
      "  import      Import the contents from a tarball to create a filesystem image\n",
      "  info        Display system-wide information\n",
      "  inspect     Return low-level information on Docker objects\n",
      "  kill        Kill one or more running containers\n",
      "  load        Load an image from a tar archive or STDIN\n",
      "  login       Log in to a Docker registry\n",
      "  logout      Log out from a Docker registry\n",
      "  logs        Fetch the logs of a container\n",
      "  pause       Pause all processes within one or more containers\n",
      "  port        List port mappings or a specific mapping for the container\n",
      "  ps          List containers\n",
      "  pull        Pull an image or a repository from a registry\n",
      "  push        Push an image or a repository to a registry\n",
      "  rename      Rename a container\n",
      "  restart     Restart one or more containers\n",
      "  rm          Remove one or more containers\n",
      "  rmi         Remove one or more images\n",
      "  run         Run a command in a new container\n",
      "  save        Save one or more images to a tar archive (streamed to STDOUT by default)\n",
      "  search      Search the Docker Hub for images\n",
      "  start       Start one or more stopped containers\n",
      "  stats       Display a live stream of container(s) resource usage statistics\n",
      "  stop        Stop one or more running containers\n",
      "  tag         Create a tag TARGET_IMAGE that refers to SOURCE_IMAGE\n",
      "  top         Display the running processes of a container\n",
      "  unpause     Unpause all processes within one or more containers\n",
      "  update      Update configuration of one or more containers\n",
      "  version     Show the Docker version information\n",
      "  wait        Block until one or more containers stop, then print their exit codes\n",
      "\n",
      "Run 'balena-engine COMMAND --help' for more information on a command.\n"
     ]
    }
   ],
   "source": [
    "!echo balena-engine --help | ssh -o UserKnownHostsFile=/dev/null -o StrictHostKeyChecking=no -p 22222 localhost"
   ]
  },
  {
   "cell_type": "code",
   "execution_count": 27,
   "id": "ongoing-segment",
   "metadata": {},
   "outputs": [
    {
     "name": "stdout",
     "output_type": "stream",
     "text": [
      "Pseudo-terminal will not be allocated because stdin is not a terminal.\n",
      "Warning: Permanently added '[localhost]:22222' (ECDSA) to the list of known hosts.\n",
      "REPOSITORY                                                       TAG                      IMAGE ID            CREATED             SIZE\n",
      "registry2.balena-cloud.com/v2/9cc99a696bc3884d07ac37a68143ab07   delta-0e5e14c5979f7546   8320870c5263        3 hours ago         2.98GB\n",
      "registry2.balena-cloud.com/v2/dfa8be9261de38cf9fe038faf2491b60   delta-2ff37b0a42888e8b   353af4faa6a4        3 hours ago         1.92GB\n",
      "registry2.balena-cloud.com/v2/9b3868198b4e7ba06d09ecfb04154dec   delta-e26a1372e8986833   af8b6fa948cd        8 days ago          496MB\n",
      "registry2.balena-cloud.com/v2/ee8a630b4962f1e2b4ad682dd9468f7a   latest                   6b9eed135003        7 weeks ago         72.3MB\n",
      "balena/aarch64-supervisor                                        v12.4.6                  6b9eed135003        7 weeks ago         72.3MB\n",
      "balena-healthcheck-image                                         latest                   a29f45ccde2a        16 months ago       9.14kB\n"
     ]
    }
   ],
   "source": [
    "!echo balena-engine images | ssh -o UserKnownHostsFile=/dev/null -o StrictHostKeyChecking=no -p 22222 localhost"
   ]
  },
  {
   "cell_type": "code",
   "execution_count": 28,
   "id": "proof-beatles",
   "metadata": {},
   "outputs": [
    {
     "name": "stdout",
     "output_type": "stream",
     "text": [
      "Pseudo-terminal will not be allocated because stdin is not a terminal.\n",
      "Warning: Permanently added '[localhost]:22222' (ECDSA) to the list of known hosts.\n",
      "CONTAINER ID        NAME                CPU %               MEM USAGE / LIMIT     MEM %               NET I/O             BLOCK I/O           PIDS\n",
      "97ada7db46dd        gcc                 0.00%               67.37MiB / 1.856GiB   3.54%               131kB / 5.9MB       16.6MB / 152kB      3\n",
      "9bb7930fbb0b        iot49               7.61%               133.9MiB / 1.856GiB   7.04%               0B / 0B             64.1MB / 1.22MB     23\n",
      "88eb2c7ad476        code-server         0.00%               43.11MiB / 1.856GiB   2.27%               3.64kB / 0B         3.84MB / 6.04MB     25\n",
      "d4a3e9e032fd        resin_supervisor    0.30%               52.06MiB / 1.856GiB   2.74%               0B / 0B             45.5MB / 1.31MB     11\n"
     ]
    }
   ],
   "source": [
    "!echo balena-engine stats --no-stream | ssh -o UserKnownHostsFile=/dev/null -o StrictHostKeyChecking=no -p 22222 localhost"
   ]
  },
  {
   "cell_type": "code",
   "execution_count": 29,
   "id": "similar-sword",
   "metadata": {},
   "outputs": [
    {
     "name": "stdout",
     "output_type": "stream",
     "text": [
      "Pseudo-terminal will not be allocated because stdin is not a terminal.\n",
      "Warning: Permanently added '[localhost]:22222' (ECDSA) to the list of known hosts.\n",
      "CONTAINER ID        IMAGE                                                                   COMMAND                  CREATED             STATUS                 PORTS                    NAMES\n",
      "97ada7db46dd        353af4faa6a4                                                            \"/usr/bin/entry.sh /…\"   About an hour ago   Up About an hour       0.0.0.0:8900->8900/tcp   gcc\n",
      "9bb7930fbb0b        8320870c5263                                                            \"/usr/bin/entry.sh /…\"   About an hour ago   Up About an hour                                iot49\n",
      "88eb2c7ad476        af8b6fa948cd                                                            \"/init\"                  About an hour ago   Up About an hour       0.0.0.0:8443->8443/tcp   code-server\n",
      "d4a3e9e032fd        registry2.balena-cloud.com/v2/ee8a630b4962f1e2b4ad682dd9468f7a:latest   \"/usr/src/app/entry.…\"   8 days ago          Up 2 hours (healthy)                            resin_supervisor\n"
     ]
    }
   ],
   "source": [
    "!echo balena-engine ps | ssh -o UserKnownHostsFile=/dev/null -o StrictHostKeyChecking=no -p 22222 localhost"
   ]
  },
  {
   "cell_type": "code",
   "execution_count": 32,
   "id": "detailed-position",
   "metadata": {},
   "outputs": [
    {
     "name": "stdout",
     "output_type": "stream",
     "text": [
      "Pseudo-terminal will not be allocated because stdin is not a terminal.\n",
      "Warning: Permanently added '[localhost]:22222' (ECDSA) to the list of known hosts.\n",
      "8443/tcp -> 0.0.0.0:8443\n"
     ]
    }
   ],
   "source": [
    "!echo balena-engine port code-server | ssh -o UserKnownHostsFile=/dev/null -o StrictHostKeyChecking=no -p 22222 localhost"
   ]
  },
  {
   "cell_type": "code",
   "execution_count": 31,
   "id": "satellite-implementation",
   "metadata": {},
   "outputs": [
    {
     "name": "stdout",
     "output_type": "stream",
     "text": [
      "Pseudo-terminal will not be allocated because stdin is not a terminal.\n",
      "Warning: Permanently added '[localhost]:22222' (ECDSA) to the list of known hosts.\n",
      "Client:\n",
      " Debug Mode: false\n",
      "\n",
      "Server:\n",
      " Containers: 4\n",
      "  Running: 4\n",
      "  Paused: 0\n",
      "  Stopped: 0\n",
      " Images: 5\n",
      " Server Version: 19.03.13-dev\n",
      " Storage Driver: overlay2\n",
      "  Backing Filesystem: <unknown>\n",
      "  Supports d_type: true\n",
      "  Native Overlay Diff: true\n",
      " Logging Driver: journald\n",
      " Cgroup Driver: systemd\n",
      " Plugins:\n",
      "  Volume: local\n",
      "  Network: bridge host null\n",
      "  Log: journald json-file local\n",
      " Swarm: \n",
      "  NodeID: \n",
      "  Is Manager: false\n",
      "  Node Address: \n",
      " Runtimes: bare runc\n",
      " Default Runtime: runc\n",
      " Init Binary: balena-engine-init\n",
      " containerd version: \n",
      " runc version: dc9208a3303feef5b3839f4323d9beb36df0a9dd\n",
      " init version: 949e6fa-dirty (expected: fec3683b971d9)\n",
      " Kernel Version: 5.4.83-v8\n",
      " Operating System: balenaOS 2.73.1+rev1\n",
      " OSType: linux\n",
      " Architecture: aarch64\n",
      " CPUs: 4\n",
      " Total Memory: 1.856GiB\n",
      " Name: 2d1d51c\n",
      " ID: 5PVB:PLEG:77HJ:5ULX:HUHZ:E5HC:27EB:AO7T:CBD2:XMLP:5J4T:CPHI\n",
      " Docker Root Dir: /var/lib/docker\n",
      " Debug Mode: false\n",
      " Registry: https://index.docker.io/v1/\n",
      " Labels:\n",
      " Experimental: true\n",
      " Insecure Registries:\n",
      "  127.0.0.0/8\n",
      " Live Restore Enabled: false\n",
      "\n",
      "WARNING: API is accessible on http://0.0.0.0:2375 without encryption.\n",
      "         Access to the remote API is equivalent to root access on the host. Refer\n",
      "         to the 'Docker daemon attack surface' section in the documentation for\n",
      "         more information: https://docs.docker.com/engine/security/security/#docker-daemon-attack-surface\n",
      "WARNING: No swap limit support\n"
     ]
    }
   ],
   "source": [
    "!echo balena-engine info | ssh -o UserKnownHostsFile=/dev/null -o StrictHostKeyChecking=no -p 22222 localhost"
   ]
  },
  {
   "cell_type": "code",
   "execution_count": null,
   "id": "alien-empty",
   "metadata": {},
   "outputs": [],
   "source": []
  }
 ],
 "metadata": {
  "kernelspec": {
   "display_name": "IoT",
   "language": "python",
   "name": "iot_kernel"
  },
  "language_info": {
   "codemirror_mode": {
    "name": "python",
    "version": 3
   },
   "file_extension": ".py",
   "mimetype": "text/x-python",
   "name": "python",
   "pygments_lexer": "python3",
   "version": "3"
  }
 },
 "nbformat": 4,
 "nbformat_minor": 5
}
