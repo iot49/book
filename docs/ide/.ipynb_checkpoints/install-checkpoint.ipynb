{
 "cells": [
  {
   "cell_type": "markdown",
   "id": "c76d8f61-1f9f-4c41-ae7e-f960537bc249",
   "metadata": {},
   "source": [
    "# Install"
   ]
  },
  {
   "cell_type": "markdown",
   "id": "ca0ddef8-2178-4d93-9633-febfde8f9ad6",
   "metadata": {},
   "source": [
    "## change hostname\n",
    "\n",
    "https://www.balena.io/docs/reference/supervisor/supervisor-api/#patch-v1devicehost-config\n",
    "\n",
    "\n",
    "```\n",
    "curl -X PATCH --header \"Content-Type:application/json\" \\\n",
    "    --data '{\"network\": {\"hostname\": \"pi4server\"}}' \\\n",
    "    \"$BALENA_SUPERVISOR_ADDRESS/v1/device/host-config?apikey=$BALENA_SUPERVISOR_API_KEY\"\n",
    "```"
   ]
  },
  {
   "cell_type": "code",
   "execution_count": null,
   "id": "d8f1a90f-80e7-428e-b365-562b211120e7",
   "metadata": {},
   "outputs": [],
   "source": []
  }
 ],
 "metadata": {
  "kernelspec": {
   "display_name": "IoT",
   "language": "python",
   "name": "iot_kernel"
  },
  "language_info": {
   "codemirror_mode": {
    "name": "python",
    "version": 3
   },
   "file_extension": ".py",
   "mimetype": "text/x-python",
   "name": "python",
   "pygments_lexer": "python3",
   "version": "3"
  }
 },
 "nbformat": 4,
 "nbformat_minor": 5
}
