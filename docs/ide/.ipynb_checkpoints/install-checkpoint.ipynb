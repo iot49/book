{
 "cells": [
  {
   "cell_type": "markdown",
   "id": "c76d8f61-1f9f-4c41-ae7e-f960537bc249",
   "metadata": {},
   "source": [
    "# Install"
   ]
  },
  {
   "cell_type": "markdown",
   "id": "ca0ddef8-2178-4d93-9633-febfde8f9ad6",
   "metadata": {},
   "source": [
    "## change hostname\n",
    "\n",
    "https://www.balena.io/docs/reference/supervisor/supervisor-api/#patch-v1devicehost-config\n",
    "\n",
    "\n",
    "```\n",
    "curl -X PATCH --header \"Content-Type:application/json\" \\\n",
    "    --data '{\"network\": {\"hostname\": \"pi4server\"}}' \\\n",
    "    \"$BALENA_SUPERVISOR_ADDRESS/v1/device/host-config?apikey=$BALENA_SUPERVISOR_API_KEY\"\n",
    "```"
   ]
  },
  {
   "cell_type": "code",
   "execution_count": null,
   "id": "d8f1a90f-80e7-428e-b365-562b211120e7",
   "metadata": {},
   "outputs": [],
   "source": [
    "%%bash\n",
    "\n",
    "%%bash\n",
    "if [ `hostname` != $BALENA_DEVICE_NAME_AT_INIT ]; then\n",
    "    # change hostname\n",
    "    curl -X PATCH --header \"Content-Type:application/json\" \\\n",
    "        --data '{\"network\": {\"hostname\": \"'\"$BALENA_DEVICE_NAME_AT_INIT\"'\" } }' \\\n",
    "        \"$BALENA_SUPERVISOR_ADDRESS/v1/device/host-config?apikey=$BALENA_SUPERVISOR_API_KEY\"\n",
    "    # restart app for change to take effect\n",
    "    curl -X POST --header \"Content-Type: application/json\" \\\n",
    "        \"$BALENA_SUPERVISOR_ADDRESS/v2/applications/$BALENA_APP_ID/restart?apikey=$BALENA_SUPERVISOR_API_KEY\"\n",
    "fi"
   ]
  },
  {
   "cell_type": "code",
   "execution_count": 1,
   "id": "ebb621aa-4816-40b1-a91c-b3ee1af83867",
   "metadata": {},
   "outputs": [
    {
     "name": "stdout",
     "output_type": "stream",
     "text": [
      "\u001b[0m\u001b[0m"
     ]
    },
    {
     "name": "stderr",
     "output_type": "stream",
     "text": [
      "Usage:\tbalena-engine [OPTIONS] COMMAND\n",
      "\n",
      "A self-sufficient runtime for containers\n",
      "\n",
      "Options:\n",
      "      --config string      Location of client config files (default\n",
      "                           \"/home/root/.balena-engine\")\n",
      "  -c, --context string     Name of the context to use to connect to the\n",
      "                           daemon (overrides DOCKER_HOST env var and\n",
      "                           default context set with \"docker context use\")\n",
      "  -D, --debug              Enable debug mode\n",
      "  -H, --host list          Daemon socket(s) to connect to\n",
      "  -l, --log-level string   Set the logging level\n",
      "                           (\"debug\"|\"info\"|\"warn\"|\"error\"|\"fatal\")\n",
      "                           (default \"info\")\n",
      "      --tls                Use TLS; implied by --tlsverify\n",
      "      --tlscacert string   Trust certs signed only by this CA (default\n",
      "                           \"/home/root/.balena-engine/ca.pem\")\n",
      "      --tlscert string     Path to TLS certificate file (default\n",
      "                           \"/home/root/.balena-engine/cert.pem\")\n",
      "      --tlskey string      Path to TLS key file (default\n",
      "                           \"/home/root/.balena-engine/key.pem\")\n",
      "      --tlsverify          Use TLS and verify the remote\n",
      "  -v, --version            Print version information and quit\n",
      "\n",
      "Management Commands:\n",
      "  builder     Manage builds\n",
      "  container   Manage containers\n",
      "  engine      Manage the docker engine\n",
      "  image       Manage images\n",
      "  network     Manage networks\n",
      "  system      Manage Docker\n",
      "  trust       Manage trust on Docker images\n",
      "  volume      Manage volumes\n",
      "\n",
      "Commands:\n",
      "  attach      Attach local standard input, output, and error streams to a running container\n",
      "  build       Build an image from a Dockerfile\n",
      "  commit      Create a new image from a container's changes\n",
      "  cp          Copy files/folders between a container and the local filesystem\n",
      "  create      Create a new container\n",
      "  diff        Inspect changes to files or directories on a container's filesystem\n",
      "  events      Get real time events from the server\n",
      "  exec        Run a command in a running container\n",
      "  export      Export a container's filesystem as a tar archive\n",
      "  history     Show the history of an image\n",
      "  images      List images\n",
      "  import      Import the contents from a tarball to create a filesystem image\n",
      "  info        Display system-wide information\n",
      "  inspect     Return low-level information on Docker objects\n",
      "  kill        Kill one or more running containers\n",
      "  load        Load an image from a tar archive or STDIN\n",
      "  login       Log in to a Docker registry\n",
      "  logout      Log out from a Docker registry\n",
      "  logs        Fetch the logs of a container\n",
      "  pause       Pause all processes within one or more containers\n",
      "  port        List port mappings or a specific mapping for the container\n",
      "  ps          List containers\n",
      "  pull        Pull an image or a repository from a registry\n",
      "  push        Push an image or a repository to a registry\n",
      "  rename      Rename a container\n",
      "  restart     Restart one or more containers\n",
      "  rm          Remove one or more containers\n",
      "  rmi         Remove one or more images\n",
      "  run         Run a command in a new container\n",
      "  save        Save one or more images to a tar archive (streamed to STDOUT by default)\n",
      "  search      Search the Docker Hub for images\n",
      "  start       Start one or more stopped containers\n",
      "  stats       Display a live stream of container(s) resource usage statistics\n",
      "  stop        Stop one or more running containers\n",
      "  tag         Create a tag TARGET_IMAGE that refers to SOURCE_IMAGE\n",
      "  top         Display the running processes of a container\n",
      "  unpause     Unpause all processes within one or more containers\n",
      "  update      Update configuration of one or more containers\n",
      "  version     Show the Docker version information\n",
      "  wait        Block until one or more containers stop, then print their exit codes\n",
      "\n",
      "Run 'balena-engine COMMAND --help' for more information on a command.\n",
      "\u001b[0m"
     ]
    }
   ],
   "source": [
    "%%service host\n",
    "\n",
    "balena-engine "
   ]
  },
  {
   "cell_type": "code",
   "execution_count": 3,
   "id": "c00c683b-51ae-4bd1-aef8-1c7a2478c9ca",
   "metadata": {},
   "outputs": [
    {
     "name": "stdout",
     "output_type": "stream",
     "text": [
      "\u001b[0mSHELL=/bin/bash\n",
      "BALENA_APP_ID=1821890\n",
      "BALENA_DEVICE_ARCH=aarch64\n",
      "SUDO_GID=0\n",
      "HOSTNAME=pi4server\n",
      "BALENA=1\n",
      "PYTHON_VERSION=3.8.10\n",
      "IOT=/home/iot\n",
      "SUDO_COMMAND=/bin/bash -c /bin/bash\n",
      "SUDO_USER=root\n",
      "PWD=/home/iot/iot49\n",
      "LOGNAME=iot\n",
      "BALENA_SUPERVISOR_API_KEY=8eb0e78fda2cfce13a07835d7bb55520\n",
      "BALENA_SERVICE_NAME=jupyter\n",
      "_=/usr/bin/printenv\n",
      "TZ=America/Los_Angeles\n",
      "IPYTHONDIR=/service-config/iot-home/.ipython\n",
      "BALENA_APP_NAME=IoT-dev\n",
      "HOME=/home/iot\n",
      "LANG=C.UTF-8\n",
      "CLICOLOR=1\n",
      "JPY_PARENT_PID=84\n",
      "IOT49=/home/iot/iot49\n",
      "JUPYTER_RUNTIME_DIR=/service-config/iot-home/.local/share/jupyter/runtime\n",
      "BALENA_SUPERVISOR_PORT=48484\n",
      "PYTHONPATH=/home/iot/projects/robot/code-pi\n",
      "TERM=xterm-color\n",
      "USER=iot\n",
      "GIT_PAGER=cat\n",
      "BALENA_DEVICE_NAME_AT_INIT=pi4server\n",
      "BALENA_SUPERVISOR_HOST=127.0.0.1\n",
      "BALENA_DEVICE_UUID=200a469c672d5168ac53111da59b1d36\n",
      "SHLVL=1\n",
      "PAGER=cat\n",
      "MPLBACKEND=module://ipykernel.pylab.backend_inline\n",
      "LC_ALL=C.UTF-8\n",
      "PATH=/home/iot/.local/bin:/home/iot/bin:/usr/local/bin:/usr/bin:/bin:/usr/local/games:/usr/games\n",
      "BALENA_DEVICE_TYPE=raspberrypi4-64\n",
      "SUDO_UID=0\n",
      "MAIL=/var/mail/iot\n",
      "BALENA_SUPERVISOR_ADDRESS=http://127.0.0.1:48484\n",
      "PYTHON_DBUS_VERSION=1.2.8\n",
      "BALENA_HOST_OS_VERSION=balenaOS 2.73.1+rev1\n",
      "OLDPWD=/home/iot\n",
      "BALENA_SERVICE_HANDOVER_COMPLETE_PATH=/tmp/balena/handover-complete\n"
     ]
    }
   ],
   "source": [
    "!printenv"
   ]
  },
  {
   "cell_type": "code",
   "execution_count": null,
   "id": "57ca7494-7eb8-44da-a6f8-2d312bba3120",
   "metadata": {},
   "outputs": [],
   "source": []
  }
 ],
 "metadata": {
  "kernelspec": {
   "display_name": "IoT",
   "language": "python",
   "name": "iot_kernel"
  },
  "language_info": {
   "codemirror_mode": {
    "name": "python",
    "version": 3
   },
   "file_extension": ".py",
   "mimetype": "text/x-python",
   "name": "python",
   "pygments_lexer": "python3",
   "version": "3"
  }
 },
 "nbformat": 4,
 "nbformat_minor": 5
}
