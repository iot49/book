{
 "cells": [
  {
   "cell_type": "markdown",
   "id": "5722f8c2-bccd-4b91-bb13-2927b32d00c3",
   "metadata": {},
   "source": [
    "# Deploy with Balena\n",
    "\n",
    "* Create a Balena account\n",
    "* Head to the [git repo](https://github.com/iot49/ide) and click the Deploy with Balena button. \n",
    "* Give the app a name, e.g. ide49\n",
    "* On the app screen, click \"Add device\"\n",
    "* Configure - Wifi!\n",
    "* Download OS image\n",
    "* Flash to sd card with balena etcher\n",
    "* Start PI & wait for device to show up in balena.io\n",
    "* open browser @ local ip"
   ]
  },
  {
   "cell_type": "code",
   "execution_count": null,
   "id": "43defe3e-2a5c-46df-82e7-a45c0e62caa2",
   "metadata": {},
   "outputs": [],
   "source": []
  }
 ],
 "metadata": {
  "kernelspec": {
   "display_name": "Python 3",
   "language": "python",
   "name": "python3"
  },
  "language_info": {
   "codemirror_mode": {
    "name": "ipython",
    "version": 3
   },
   "file_extension": ".py",
   "mimetype": "text/x-python",
   "name": "python",
   "nbconvert_exporter": "python",
   "pygments_lexer": "ipython3",
   "version": "3.8.10"
  }
 },
 "nbformat": 4,
 "nbformat_minor": 5
}
