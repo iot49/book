{
 "cells": [
  {
   "cell_type": "markdown",
   "id": "21c34eb6-e20d-4e62-bdb4-e2611b8bf8fc",
   "metadata": {},
   "source": [
    "# Configuration"
   ]
  },
  {
   "cell_type": "markdown",
   "id": "271884fd-c09e-43c9-aa35-9fe2a6133500",
   "metadata": {},
   "source": [
    "## Password\n",
    "\n"
   ]
  },
  {
   "cell_type": "code",
   "execution_count": 1,
   "id": "f25417eb-02b0-4618-890f-856f9cd2177f",
   "metadata": {},
   "outputs": [
    {
     "name": "stdout",
     "output_type": "stream",
     "text": [
      "\u001b[0m\u001b[0muser1:$2y$05$i2vux.BL7fYQFX2.nCnk5.m/UsTVVysJdcOrio8xONPM5skoFRYsG\u001b[0m\n",
      "\u001b[0m\n",
      "user1:$2y$05$A4Ubwr1C44CcDxoG8ZU0S.VBLGcVsZAcrxfxGSpy9GD3HTaLVvSgO\u001b[0m\n",
      "\u001b[0m\n"
     ]
    }
   ],
   "source": [
    "%%bash\n",
    "\n",
    "# different output for same passwd\n",
    "#\n",
    "htpasswd -nbB user1 passwd1\n",
    "htpasswd -nbB user1 passwd1"
   ]
  },
  {
   "cell_type": "code",
   "execution_count": 1,
   "id": "67b712f8-68b0-4ccc-8865-6924df25113b",
   "metadata": {},
   "outputs": [
    {
     "name": "stdout",
     "output_type": "stream",
     "text": [
      "\u001b[0m\u001b[0mCurrent Password File:\n",
      "\u001b[0miot49:$2y$05$BbEUrYtbuTf8awjFIL7WX.fzXuatIVTQnBm9PSaFuVzB4ziD8ABVC\n",
      "user1:$2y$05$Rwk6kpHwTV.XBTEC3RNnqetY86gjDwzjP1nWcWvhtIOaK5ZJ1u4pa\n",
      "\u001b[0m"
     ]
    },
    {
     "name": "stderr",
     "output_type": "stream",
     "text": [
      "Adding password for user iot49\n",
      "\u001b[0m"
     ]
    },
    {
     "name": "stdout",
     "output_type": "stream",
     "text": [
      "\n",
      "Updated Password File:\n",
      "iot49:$2y$05$..BEC0f/YimzlbxJOi6R3.M6y0s1SIeVWfHpmFUz91xeBnPbfEkH2\n",
      "\u001b[0m"
     ]
    }
   ],
   "source": [
    "%%service nginx\n",
    "\n",
    "cd /etc/nginx\n",
    "echo Current Password File:\n",
    "cat htpasswd\n",
    "\n",
    "# set password\n",
    "# htpasswd -cbB htpasswd <user> \"<password>\"\n",
    "htpasswd -cbB htpasswd iot49 iot49\n",
    "\n",
    "# add additional passwords if desired\n",
    "# htpasswd -bB  htpasswd user2 abc\n",
    "\n",
    "echo\n",
    "echo Updated Password File:\n",
    "cat htpasswd"
   ]
  },
  {
   "cell_type": "markdown",
   "id": "feb1c285-b19b-4c97-95e6-d88a69e7dfc1",
   "metadata": {},
   "source": [
    "## Domain"
   ]
  },
  {
   "cell_type": "markdown",
   "id": "7bb83527-f7e8-45ed-8125-b74cfa002360",
   "metadata": {},
   "source": [
    "## Certificate\n",
    "\n",
    "When a secure website like *ide49* is accessed, the server (in this case the *iot49* webserver) presents a certifiate. The certificate is a bit like a passport and contains the address of the owner (default is *iot49.local* for *ide49*) and an encryption string. *ide49* generates a custom so-called self-signed certificate automatically.\n",
    "\n",
    "Below is the certificate of this server:"
   ]
  },
  {
   "cell_type": "code",
   "execution_count": 3,
   "id": "7d70a496-e029-4a80-8d8c-100aeea2859b",
   "metadata": {},
   "outputs": [
    {
     "name": "stdout",
     "output_type": "stream",
     "text": [
      "-----BEGIN CERTIFICATE-----\n",
      "MIIDxTCCAq2gAwIBAgIUYkTNn8WFWmbQvsPW/tOVsx/eQs0wDQYJKoZIhvcNAQEL\n",
      "BQAwcDELMAkGA1UEBhMCVVMxCzAJBgNVBAgMAkNBMRYwFAYDVQQHDA1TYW4gRnJh\n",
      "bmNpc2NvMRwwGgYDVQQKDBNFbGVjdHJvbmljcyBmb3IgSW9UMQ4wDAYDVQQLDAVp\n",
      "b3Q0OTEOMAwGA1UEAwwFaW90NDkwHhcNMjEwNjI2MjA0MDE0WhcNMzEwNjI0MjA0\n",
      "MDE0WjBwMQswCQYDVQQGEwJVUzELMAkGA1UECAwCQ0ExFjAUBgNVBAcMDVNhbiBG\n",
      "cmFuY2lzY28xHDAaBgNVBAoME0VsZWN0cm9uaWNzIGZvciBJb1QxDjAMBgNVBAsM\n",
      "BWlvdDQ5MQ4wDAYDVQQDDAVpb3Q0OTCCASIwDQYJKoZIhvcNAQEBBQADggEPADCC\n",
      "AQoCggEBAM5ko4DNOb1DTqgoagwZx5dkqCdTO3piPyUjDXmEEDEZv2xco2av+zYt\n",
      "AopYdmrOjUFt2WhzgSEiC17peDvZyrmW8MAM1iiPdmH3j3xQxg4SkJcoeFNdgMn5\n",
      "5tLO5Je7DnH2XGXTHtBsT/Hs56sE3Hdf3CNQ+xMlxCRhfNm9M26qHe4NPIjBdit+\n",
      "v8MEwp1pgvCQt4dsTRCrAvDOhRP/G9AUWCQLbo4kr8xt7BjsgmjxzPLhxC2tnKcR\n",
      "njVukKQuKigkxuvQpZ20Rv4rsOj8QhOscFw0j8s5P3VuCyWIAtXrnHPzP6dBn3NS\n",
      "jj9Z0LfEKQMGIck01r9MLOs4hOuy6hUCAwEAAaNXMFUwDgYDVR0PAQH/BAQDAgOI\n",
      "MBMGA1UdJQQMMAoGCCsGAQUFBwMBMC4GA1UdEQQnMCWCD2lkZTQ5LW9sZC5sb2Nh\n",
      "bIIMMTAuMzkuNDAuMTYyhwQKJyiiMA0GCSqGSIb3DQEBCwUAA4IBAQCjXtwXbop+\n",
      "tuf6HtCDe2Jj770FRN1D8Bl8FPEBmb42WPEojsY66HaBKJw6YG9JZeuPPOA7h1oO\n",
      "4OW01ocguoiKIt2eDvW6dmxaydvL+4f/aauzx8wjYn/qgVb9CEW0dap/QGcaOJ69\n",
      "ocYfB3OSYZLlrydzjQ64JK+bp9MKc7jY8QD9KI7oAVF0zOlqVuDsZVsmrld8db1y\n",
      "vNm3e+Kkx9x415aJbpfjRSvhSb0jwIDVn3jGdrFWXAwL2MsKkZFebjjtb8mDC90x\n",
      "lD3+Tm3KuVLAFWvfe1vNRzpHID68k/SRyZqG2Jq7uiuQPi7oyrKwrzwk9aP6XvwG\n",
      "eBZJjLFfXBWp\n",
      "-----END CERTIFICATE-----\n"
     ]
    }
   ],
   "source": [
    "%cat /service-config/nginx/ssl/cert.crt"
   ]
  },
  {
   "cell_type": "markdown",
   "id": "230be326-6e5f-4de3-b845-50772e6c44be",
   "metadata": {},
   "source": [
    "The webbrowser compares the certificate to a list of "
   ]
  },
  {
   "cell_type": "code",
   "execution_count": 4,
   "id": "9705b429-e273-46ac-91ab-442627d066e5",
   "metadata": {},
   "outputs": [
    {
     "name": "stdout",
     "output_type": "stream",
     "text": [
      "\u001b[0m\u001b[0m10.39.40.151\n"
     ]
    }
   ],
   "source": [
    "%%host \n",
    "\n",
    "import socket\n",
    "s = socket.socket(socket.AF_INET, socket.SOCK_DGRAM)\n",
    "s.connect((\"8.8.8.8\", 80))\n",
    "print(s.getsockname()[0])\n",
    "s.close()"
   ]
  },
  {
   "cell_type": "code",
   "execution_count": null,
   "id": "ca4eefe1-f248-4c14-9b8a-045ef1ecd286",
   "metadata": {},
   "outputs": [],
   "source": []
  }
 ],
 "metadata": {
  "kernelspec": {
   "display_name": "Python 3",
   "language": "python",
   "name": "python3"
  },
  "language_info": {
   "codemirror_mode": {
    "name": "ipython",
    "version": 3
   },
   "file_extension": ".py",
   "mimetype": "text/x-python",
   "name": "python",
   "nbconvert_exporter": "python",
   "pygments_lexer": "ipython3",
   "version": "3.8.10"
  }
 },
 "nbformat": 4,
 "nbformat_minor": 5
}
