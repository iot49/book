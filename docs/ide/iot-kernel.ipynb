{
 "cells": [
  {
   "cell_type": "markdown",
   "id": "3bb7dec4-d3cf-4904-8294-bd8dcffd63dd",
   "metadata": {},
   "source": [
    "# IoT Kernel"
   ]
  },
  {
   "cell_type": "code",
   "execution_count": null,
   "id": "2776d0cb-c40f-49cb-84fd-460aac8179ee",
   "metadata": {},
   "outputs": [],
   "source": []
  }
 ],
 "metadata": {
  "kernelspec": {
   "display_name": "IoT",
   "language": "python",
   "name": "iot_kernel"
  },
  "language_info": {
   "codemirror_mode": {
    "name": "python",
    "version": 3
   },
   "file_extension": ".py",
   "mimetype": "text/x-python",
   "name": "python",
   "pygments_lexer": "python3",
   "version": "3"
  }
 },
 "nbformat": 4,
 "nbformat_minor": 5
}
