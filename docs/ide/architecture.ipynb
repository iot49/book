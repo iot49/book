{
 "cells": [
  {
   "cell_type": "markdown",
   "id": "257076a5-70e6-4436-abfb-61b0b9f43716",
   "metadata": {},
   "source": [
    "# IoT-dev Architecture Decisions"
   ]
  },
  {
   "cell_type": "markdown",
   "id": "8843e579-e41b-476e-a6bf-42ce1726feab",
   "metadata": {},
   "source": [
    "## Disk storage\n",
    "\n",
    "* The following is stored in the container\n",
    "    * system packages\n",
    "    * python packages (pip)\n",
    "    \n",
    "* The following content is mounted in the container\n",
    "    * iot-home \n",
    "        * mounted on /home/iot & /service-config/iot-home\n",
    "        * the latter is never \"hidden\" by samba mount\n",
    "        * used to store jupyter runtime (see jupyter shart.sh)\n",
    "    * service configurations\n",
    "        * Mounted on appropriate path for resectived services\n",
    "        * Also mounted in /service-config \n",
    "          (containers jupyter, code-server, duplicati) \n",
    "          for customization (e.g. nginx password) and backup\n",
    "        * Folders:\n",
    "            * code-server\n",
    "            * duplicati\n",
    "            * nginx\n",
    "    * samba shares: /home/iot can be mounted from a samba share:\n",
    "        * on samba server:\n",
    "            * SAMBA_SERVER=yes\n",
    "        * on clients (ok to also set on server; \n",
    "          SAMBA_SERVER=yes implies SAMBA_CLIENT=no):\n",
    "            * SAMBA_CLIENT=yes\n",
    "        * on server and clients:\n",
    "            * SAMBA_IP=192.168.1.20 (server ip; dns name won't work?)\n",
    "            * SAMBA_PASSWORD=*(^#$&)(HIhksdafolkj49 (something strong ...)"
   ]
  },
  {
   "cell_type": "markdown",
   "id": "284c4191-edfe-4155-a416-93a4c904aa98",
   "metadata": {},
   "source": [
    "## Services\n",
    "\n",
    "* nginx:\n",
    "    * webserver (port 80)\n",
    "    * proxy \n",
    "        * jupyter, code-server, duplicati\n",
    "        * universal password\n",
    "        * (optional) encryption (https)\n",
    "* jupyter\n",
    "    * MCU programming environment\n",
    "    * iot-kernel\n",
    "        * %discover, %connect, %rsync, ...\n",
    "        * %%service: access other services, e.g. gcc\n",
    "* code-server\n",
    "    * visual studio code editor\n",
    "* duplicati\n",
    "    * backup to cloud or local storage (e.g. USB keys)\n",
    "    * detects & mounts (@ /mnt/label)\n",
    "    * backup \"Computer:/service-config\" (all user data)\n",
    "    * Note: container never mounts /home/iot from samba\n",
    "* gcc\n",
    "    * micropython build environment\n",
    "    * gcc-arm-none-eabi etc\n",
    "* balena-cli\n",
    "    * balena command line tools\n",
    "    * rebuild app from inside container ...\n",
    "* smb\n",
    "    * exports /home/iot as iot-data if configured (see Disk storage)"
   ]
  },
  {
   "cell_type": "code",
   "execution_count": 1,
   "id": "41b9b42b-53f1-4891-93fe-613d5ff9ccc2",
   "metadata": {},
   "outputs": [
    {
     "name": "stdout",
     "output_type": "stream",
     "text": [
      "\u001b[0m\u001b[0mcode-server\n",
      "nginx\n",
      "\u001b[0m"
     ]
    }
   ],
   "source": [
    "%%service duplicati\n",
    "\n",
    "ls '/service-config'"
   ]
  },
  {
   "cell_type": "code",
   "execution_count": null,
   "id": "09e8c5b8-17c9-4cbd-b7df-125f184636f9",
   "metadata": {},
   "outputs": [],
   "source": []
  }
 ],
 "metadata": {
  "kernelspec": {
   "display_name": "IoT",
   "language": "python",
   "name": "iot_kernel"
  },
  "language_info": {
   "codemirror_mode": {
    "name": "python",
    "version": 3
   },
   "file_extension": ".py",
   "mimetype": "text/x-python",
   "name": "python",
   "pygments_lexer": "python3",
   "version": "3"
  }
 },
 "nbformat": 4,
 "nbformat_minor": 5
}
