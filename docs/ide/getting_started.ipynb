{
 "cells": [
  {
   "cell_type": "markdown",
   "id": "0e33c8ca-f5c6-49fb-a30a-92097f449e92",
   "metadata": {},
   "source": [
    "# Getting Started\n",
    "\n",
    "*ide49* offers a range of features including a code editor, compilers (e.g. to compile MicroPython), an MQTT broker, etc. \n",
    "\n",
    "All interaction with microcontrollers takes place in the *Jupyter Lab* service. You can access it at https://iot49.local/jupyter (if you have not changed the DNS name of the Raspberry PI) or from the *Jupyter* link of *ide49* dashboard at https://iot49.local.\n",
    "\n",
    "There you will be presented with the page below. \n",
    "\n",
    "![Jupyter](figures/jupyter_annotated.png)\n",
    "\n",
    "For illustration, the key features are highlighted. The main features include a *Python 3 Kernel* for executing code on the Raspberry PI, a *Terminal* for running shell commands, and, the **IoT Kernel** for programming microcontrollers. Click on that button to get a new window:\n",
    "\n",
    "Click on the "
   ]
  },
  {
   "cell_type": "code",
   "execution_count": null,
   "id": "8e569fba-c785-49e7-9836-ccc63c41e257",
   "metadata": {},
   "outputs": [],
   "source": []
  }
 ],
 "metadata": {
  "kernelspec": {
   "display_name": "IoT",
   "language": "python",
   "name": "iot_kernel"
  },
  "language_info": {
   "codemirror_mode": {
    "name": "python",
    "version": 3
   },
   "file_extension": ".py",
   "mimetype": "text/x-python",
   "name": "python",
   "pygments_lexer": "python3",
   "version": "3"
  }
 },
 "nbformat": 4,
 "nbformat_minor": 5
}
