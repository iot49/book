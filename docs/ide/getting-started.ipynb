{
 "cells": [
  {
   "cell_type": "markdown",
   "id": "0e33c8ca-f5c6-49fb-a30a-92097f449e92",
   "metadata": {},
   "source": [
    "# Getting Started\n",
    "\n",
    "*ide49* offers a range of features including a code editor, compilers (e.g. to compile MicroPython), an MQTT broker, etc. \n",
    "\n",
    "All interaction with microcontrollers takes place in the [*Jupyter Lab*](https://jupyter.org/) service. *Jupyter* is a popular interactive Python programming environment. You can find many online tutorials and videos. Below we quickly go over the main features with special focus on the customizations for programming microcontrollers.\n",
    "\n",
    "To access *Jupyter Lab* in *ide49*, go to https://iot49.local/jupyter (change the name if you modified the DNS name of the Raspberry PI) or from the *Jupyter* link of *ide49* dashboard at https://iot49.local.\n",
    "\n",
    "You will be presented with the page below. \n",
    "\n",
    "![Jupyter](figures/jupyter_annotated.png)\n",
    "\n",
    "For illustration, the key features are highlighted. The main features include a *Python 3 Kernel* for executing code on the Raspberry PI, a *Terminal* for running shell commands, and, the **IoT Kernel** for programming microcontrollers. Click on that button to get a new window:\n",
    "\n",
    "To start an *IoT Kernel*, click on its icon to get:\n",
    "\n",
    "![IoT Kernel](figures/iot_kernel_annotated.png)\n",
    "\n",
    "Like all *Jupyter* kernels, you type code into *cells*, and click `shift-return` (return while holding down the shift key) to execute it. \n",
    "\n",
    "For example:\n",
    "\n",
    "<img src=\"figures/no_device_connected.png\" alt=\"No device\" width=\"250\"/>\n",
    "\n",
    "The error is not surprising, since, well, we have not yet connected a microcontroller to the Raspberry PI. Head over to the *IOT* section if you are anxious.\n",
    "\n",
    "But even if you are familiar with *Jupyter*, you may want to first check out the special features of the *IoT Kernel*. Like other *Jupyter* kernels, it implements several *magics*, lines that start with a percent sign `%` in the first column. To get a list of magics available in the *IoT Kernel*, execte the magic `%lsmagic%`: type it into an empty cell and hit `shift-return`:"
   ]
  },
  {
   "cell_type": "code",
   "execution_count": 1,
   "id": "8e569fba-c785-49e7-9836-ccc63c41e257",
   "metadata": {},
   "outputs": [
    {
     "name": "stdout",
     "output_type": "stream",
     "text": [
      "\u001b[0m\u001b[0mLine Magic:    -h shows help (e.g. %discover -h)\u001b[0m\n",
      "  %cat         Print contents of named file on microcontroller\u001b[0m\n",
      "  %cd          Change the working directory.\u001b[0m\n",
      "  %connect     Connect to device\u001b[0m\n",
      "  %cp          Copy files between host and microcontroller.\u001b[0m\n",
      "  %discover    Discover available devices\u001b[0m\n",
      "  %gettime     Query microcontroller time\u001b[0m\n",
      "  %loglevel    Set logging level.\u001b[0m\n",
      "  %lsmagic     List all magic functions.\u001b[0m\n",
      "  %mkdirs      Create all directories specified by the path, as needed.\u001b[0m\n",
      "  %name        Name of currently connected microcontroller.\u001b[0m\n",
      "  %pip         Install packages from PyPi\u001b[0m\n",
      "  %platform    sys.platform of currently connected device.\u001b[0m\n",
      "  %rdiff       Show differences between microcontroller and host directories\u001b[0m\n",
      "  %register    Register device\u001b[0m\n",
      "  %rlist       List files on microcontroller\u001b[0m\n",
      "  %rm          Delete files relative to path.\u001b[0m\n",
      "  %rsync       Synchronize microcontroller to host directories\u001b[0m\n",
      "  %softreset   Reset microcontroller. Similar to pressing the reset button.\u001b[0m\n",
      "  %store       Copy variables between microcontroller and storage.\u001b[0m\n",
      "  %synctime    Synchronize microcontroller time to host\u001b[0m\n",
      "  %uid         UID of currently connected microcontroller.\u001b[0m\n",
      "  %unregister  Unregister device\u001b[0m\n",
      "  %upip        Install MicroPython packages.\u001b[0m\n",
      "  %url         URL of currently connected microcontroller.\u001b[0m\n",
      "  !            Pass line to bash shell for evaluation.\u001b[0m\n",
      "\n",
      "Cell Magic:    -h shows help (e.g. %%connect -h)\u001b[0m\n",
      "  %%bash       Pass cell to bash shell for evaluation.\u001b[0m\n",
      "  %%connect    Evaluate code sequentially on named devices.\u001b[0m\n",
      "  %%host       Pass cell to host (cPython) for evaluation.\u001b[0m\n",
      "  %%service    Evaluate in named container using ssh.\u001b[0m\n",
      "  %%ssh        Pass cell body to ssh.\u001b[0m\n"
     ]
    }
   ],
   "source": [
    "%lsmagic"
   ]
  },
  {
   "cell_type": "markdown",
   "id": "cfdf85a3-f0d7-43d0-9fa0-426829186b66",
   "metadata": {},
   "source": [
    "To get additonal information about a magic, run it with the `-h` flag:"
   ]
  },
  {
   "cell_type": "code",
   "execution_count": 1,
   "id": "ef1abab6-7bb8-47a3-bd69-f07bae047176",
   "metadata": {},
   "outputs": [
    {
     "name": "stdout",
     "output_type": "stream",
     "text": [
      "\u001b[0musage: %%host [-h]\n",
      "\n",
      "Pass cell to host (cPython) for evaluation.\n",
      "\n",
      "optional arguments:\n",
      "  -h, --help  show this help message and exit\n",
      "\u001b[0m"
     ]
    }
   ],
   "source": [
    "%%host -h"
   ]
  },
  {
   "cell_type": "code",
   "execution_count": 2,
   "id": "09cda80c-5b5b-4570-8d94-6352f7f7c611",
   "metadata": {},
   "outputs": [
    {
     "name": "stdout",
     "output_type": "stream",
     "text": [
      "\u001b[0m\u001b[0mlinux\n"
     ]
    }
   ],
   "source": [
    "%%host\n",
    "\n",
    "import sys\n",
    "print(sys.platform)"
   ]
  },
  {
   "cell_type": "markdown",
   "id": "87e6b7f7-e9ea-41c9-bb8a-b21cb6127ac8",
   "metadata": {},
   "source": [
    "Code preceded by the `%%host` magic is submitted to the Raspberry PI for execution. See [iot-kernel](iot-kernel) for additional information about these magics.\n",
    "\n",
    "Then, at last, proceed to [Programming Microcontrollers with MicroPython](../iot/micropython)."
   ]
  },
  {
   "cell_type": "code",
   "execution_count": null,
   "id": "b0e4b993-5339-4dbf-8fc5-34edbe1a0095",
   "metadata": {},
   "outputs": [],
   "source": []
  }
 ],
 "metadata": {
  "kernelspec": {
   "display_name": "IoT",
   "language": "python",
   "name": "iot_kernel"
  },
  "language_info": {
   "codemirror_mode": {
    "name": "python",
    "version": 3
   },
   "file_extension": ".py",
   "mimetype": "text/x-python",
   "name": "python",
   "pygments_lexer": "python3",
   "version": "3"
  }
 },
 "nbformat": 4,
 "nbformat_minor": 5
}
