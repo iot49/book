{
 "cells": [
  {
   "cell_type": "markdown",
   "id": "1d245e0b-2d31-485a-b1fe-0d7d9555ab91",
   "metadata": {},
   "source": [
    "# Overview\n",
    "\n",
    "Connect to the Raspberry PI at http://ide49.local. You will be greeted by your browser with a message that this is unsafe ([more on that later](security.ipynb)). Click the advanced button (or whatever your particular browser calls the workaround) and proceed anyway. \n",
    "\n",
    "You get a simple menu with several option including *Jupyter*, *Editor*, *Backup*, etc. The first time you click a link you will be asked to login. The default is login and password are both *iot49*. Instructions for how to change it are [here](security.ipynb).\n",
    "\n",
    "Each link corresponds to a function of *ide49*:\n",
    "\n",
    "* [Jupyter](services/jupyter.ipynb) is a [code execution environment](https://jupyter.org/) that is quite popular among datascientists and is also a great option for interacting with and programming microcontrollers.\n",
    "* [Editor](services/editor.ipynb) is an Internet enabled version of [Microsoft Visual Studio Code](https://code.visualstudio.com/), a powerful coding envornment.\n",
    "* [Backup](services/backup.ipynb) is a versatile applications for backing up the data on your Raspberry PI to the cloud or local storage. It is based on [Duplicati](https://www.duplicati.com/).\n",
    "* The [Webbrowser] is implemented with [nginx](https://www.nginx.com/). It operates as a reverse proxy responsible for encryption and password protection and serves *ide49* the landing page.\n",
    "\n",
    "The other options are more specialized.\n",
    "\n",
    "* [Plots](services/plotserver.ipynb) is a plotting environment that is convenient to display sensor data in a browser window. Microcontrollers can send this data directly to the *plot* application.\n",
    "* [Balena CLI](services/balena-cli.ipynb) is the tool used to create and modify applications such as *ide49*. It lets you change *ide49* right from *ide49* itself!\n",
    "\n",
    "Additional services provided by *ide49* include:\n",
    "\n",
    "* [MQTT broker](services/mosquitto.ipynb).\n",
    "* [Samba/CIFS file server](services/samba.ipynb) that exports user data stored on the Raspberry PI. It is disabled by default.\n",
    "* [ARM cross compiler](services/gcc.ipynb) used to compile MicroPython and other microcontroller applications written in C/C++."
   ]
  },
  {
   "cell_type": "code",
   "execution_count": null,
   "id": "ad20d5ff-9a0d-4975-a9fb-7e0de7da07cb",
   "metadata": {},
   "outputs": [],
   "source": []
  }
 ],
 "metadata": {
  "kernelspec": {
   "display_name": "IoT",
   "language": "python",
   "name": "iot_kernel"
  },
  "language_info": {
   "codemirror_mode": {
    "name": "python",
    "version": 3
   },
   "file_extension": ".py",
   "mimetype": "text/x-python",
   "name": "python",
   "pygments_lexer": "python3",
   "version": "3"
  }
 },
 "nbformat": 4,
 "nbformat_minor": 5
}
