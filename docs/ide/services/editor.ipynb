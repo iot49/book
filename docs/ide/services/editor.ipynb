{
 "cells": [
  {
   "cell_type": "markdown",
   "id": "d1000dc3-c068-435c-aead-5591e66902b8",
   "metadata": {},
   "source": [
    "# Editor"
   ]
  },
  {
   "cell_type": "code",
   "execution_count": null,
   "id": "8d1aaa8f-8b5d-4b26-a413-d76e208d0945",
   "metadata": {},
   "outputs": [],
   "source": []
  }
 ],
 "metadata": {
  "kernelspec": {
   "display_name": "IoT",
   "language": "python",
   "name": "iot_kernel"
  },
  "language_info": {
   "codemirror_mode": {
    "name": "python",
    "version": 3
   },
   "file_extension": ".py",
   "mimetype": "text/x-python",
   "name": "python",
   "pygments_lexer": "python3",
   "version": "3"
  }
 },
 "nbformat": 4,
 "nbformat_minor": 5
}
