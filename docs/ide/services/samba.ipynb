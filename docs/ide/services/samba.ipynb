{
 "cells": [
  {
   "cell_type": "markdown",
   "id": "a8cfd0bf-493a-4945-9534-691ad9e31b37",
   "metadata": {},
   "source": [
    "# Samba"
   ]
  },
  {
   "cell_type": "code",
   "execution_count": null,
   "id": "5d9904cb-fd42-4b5d-bc45-45298f3ec67b",
   "metadata": {},
   "outputs": [],
   "source": []
  }
 ],
 "metadata": {
  "kernelspec": {
   "display_name": "IoT",
   "language": "python",
   "name": "iot_kernel"
  },
  "language_info": {
   "codemirror_mode": {
    "name": "python",
    "version": 3
   },
   "file_extension": ".py",
   "mimetype": "text/x-python",
   "name": "python",
   "pygments_lexer": "python3",
   "version": "3"
  }
 },
 "nbformat": 4,
 "nbformat_minor": 5
}
