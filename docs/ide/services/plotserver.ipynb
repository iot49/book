{
 "cells": [
  {
   "cell_type": "markdown",
   "id": "d19a30b7-7f8e-4755-9b8f-1ea8cbb2353a",
   "metadata": {},
   "source": [
    "# Plotserver\n",
    "\n",
    "The need to plot sensor and other data from microcontrollers occurs frequently. The plotserver helps with this. \n",
    "\n",
    "Communication relies on [MQTT](https://en.wikipedia.org/wiki/MQTT), a protocol implemented on many microcontrollers.\n",
    "\n",
    "Let's look at the LinePlot application, installed in `~/plotserver/lib`. The `LinePlot` class runs in the plotserver service. It uses the [Bokeh Visualization Library](https://bokeh.org/) to render plots in a webbrowser. \n",
    "\n",
    "To plot a sinusoid, we first set up a proxy on the host (microcontroller, or, in this example, the Raspberry Pi). The first parameter in the *LinePlotProxy* constructor is the app name and must be a valid Python identified. The next parameter lists the name of the x-axis and of the traces that will be plotted. \n",
    "\n",
    "The optional *rollover* parameter controls how much data will be retained. Once that value is reached, the plot scrolls. The default is to retain all data."
   ]
  },
  {
   "cell_type": "code",
   "execution_count": 30,
   "id": "e79a7bde-1548-4e89-b4d0-842a89018481",
   "metadata": {},
   "outputs": [
    {
     "name": "stdout",
     "output_type": "stream",
     "text": [
      "serving app at https://pi4server.home/plotserver/sin\n"
     ]
    }
   ],
   "source": [
    "import os, sys, math\n",
    "\n",
    "sys.path.append(os.path.expanduser('~/plotserver/lib'))\n",
    "\n",
    "from line_plot_proxy import LinePlotProxy\n",
    "\n",
    "proxy = LinePlotProxy(\"sin\", ['time', 'y'], rollover=50, title=\"Awesome sinusoid\")\n",
    "t = 0"
   ]
  },
  {
   "cell_type": "markdown",
   "id": "39101b0c-e212-48f2-8836-632cbe7c53ab",
   "metadata": {},
   "source": [
    "Click on the link. An empty plot window shows up. The code below sends data to the plotserver. The plot window in the browser updates instantly."
   ]
  },
  {
   "cell_type": "code",
   "execution_count": 32,
   "id": "cae00760-fcb7-453c-a014-ed8a86d17a0e",
   "metadata": {},
   "outputs": [],
   "source": [
    "for i in range(10):\n",
    "    proxy.add_row([t, math.sin(0.1*t)])\n",
    "    t += 1"
   ]
  },
  {
   "cell_type": "markdown",
   "id": "ac4b9720-f85b-4372-8989-41557df571ed",
   "metadata": {},
   "source": [
    "Add more data ..."
   ]
  },
  {
   "cell_type": "code",
   "execution_count": 33,
   "id": "7b98a86b-2487-4665-b77c-75e951a98106",
   "metadata": {},
   "outputs": [],
   "source": [
    "for i in range(80):\n",
    "    proxy.add_row([t, math.sin(0.1*t)])\n",
    "    t += 1"
   ]
  },
  {
   "cell_type": "markdown",
   "id": "207f2d6b-6f0f-4d9f-ad02-ac9678ea463f",
   "metadata": {},
   "source": [
    "Note how the plot starts scrolling once *rollover* datapoints are displayed.\n",
    "\n",
    "The code for *LinePlotProxy* is simple and can easily be ported to microcontrollers."
   ]
  },
  {
   "cell_type": "code",
   "execution_count": 34,
   "id": "c040107c-56e0-40da-bde3-8268f5a4ca65",
   "metadata": {},
   "outputs": [
    {
     "name": "stdout",
     "output_type": "stream",
     "text": [
      "import paho.mqtt.client as mqtt\n",
      "import json, urllib.request\n",
      "import os, sys\n",
      "\n",
      "sys.path.append(os.path.expanduser('~/plotserver/lib'))\n",
      "\n",
      "from plot_proxy import PlotProxy\n",
      "from config import *\n",
      "\n",
      "class LinePlotProxy(PlotProxy):\n",
      "    \n",
      "    def __init__(self, app_name, column_names, *, rollover=None, update_interval=0.1, **figure_args):\n",
      "        super().__init__(app_name, \n",
      "            \"line_plot\", \"LinePlot\", \n",
      "            column_names, rollover, update_interval, **figure_args)\n",
      "        \n",
      "    def add_row(self, row):\n",
      "        topic = f\"{TOPIC_ROOT}/call/{self._app_name}\"\n",
      "        payload = (\"add_row\", [row], {})\n",
      "        self._mqttc.publish(topic, json.dumps(payload))\n",
      "        \n",
      "        \n",
      "# lp = LinePlotProxy(f\"my_line_plot{i}\", ['x', 'y'], rollover=10, title=\"sinusoid\")\n"
     ]
    }
   ],
   "source": [
    "!cat ~/plotserver/lib/line_plot_proxy.py"
   ]
  },
  {
   "cell_type": "markdown",
   "id": "eb726d27-a913-4973-9f9c-82a735c6a8b4",
   "metadata": {},
   "source": [
    "Reinitializing the proxy resets the plot and discards all data sent so far. Refresh the browser window to start anew.\n",
    "\n",
    "The plotserver can handle up to ten applications (with different names) simultaneously. Once that limit is reached, requests for additional plots are ignored.\n",
    "\n",
    "A list of currently open plots is available at"
   ]
  },
  {
   "cell_type": "code",
   "execution_count": 35,
   "id": "eb3f9308-5733-4e66-b49a-f802184fa14b",
   "metadata": {},
   "outputs": [
    {
     "name": "stdout",
     "output_type": "stream",
     "text": [
      "https://pi4server.local/plotserver\n"
     ]
    }
   ],
   "source": [
    "!echo https://`hostname`.local/plotserver"
   ]
  },
  {
   "cell_type": "markdown",
   "id": "6c9f490f-cd6b-4d86-9fc1-cae9caec66b5",
   "metadata": {},
   "source": [
    "Delete plots from that page or programmatically with"
   ]
  },
  {
   "cell_type": "code",
   "execution_count": 36,
   "id": "45aa81af-c3b3-4bed-b791-0eb2cb9d0965",
   "metadata": {},
   "outputs": [],
   "source": [
    "proxy.shutdown()"
   ]
  }
 ],
 "metadata": {
  "kernelspec": {
   "display_name": "Python 3",
   "language": "python",
   "name": "python3"
  },
  "language_info": {
   "codemirror_mode": {
    "name": "ipython",
    "version": 3
   },
   "file_extension": ".py",
   "mimetype": "text/x-python",
   "name": "python",
   "nbconvert_exporter": "python",
   "pygments_lexer": "ipython3",
   "version": "3.8.10"
  }
 },
 "nbformat": 4,
 "nbformat_minor": 5
}
