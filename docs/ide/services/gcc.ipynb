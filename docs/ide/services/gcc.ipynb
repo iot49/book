{
 "cells": [
  {
   "cell_type": "markdown",
   "id": "fe49062c-09f1-4104-9a82-e46eed2839f4",
   "metadata": {},
   "source": [
    "# GCC"
   ]
  },
  {
   "cell_type": "code",
   "execution_count": null,
   "id": "828ab501-0226-4953-bb56-80205ddf75e0",
   "metadata": {},
   "outputs": [],
   "source": []
  }
 ],
 "metadata": {
  "kernelspec": {
   "display_name": "IoT",
   "language": "python",
   "name": "iot_kernel"
  },
  "language_info": {
   "codemirror_mode": {
    "name": "python",
    "version": 3
   },
   "file_extension": ".py",
   "mimetype": "text/x-python",
   "name": "python",
   "pygments_lexer": "python3",
   "version": "3"
  }
 },
 "nbformat": 4,
 "nbformat_minor": 5
}
