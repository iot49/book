{
 "cells": [
  {
   "cell_type": "markdown",
   "id": "26389be6-4c20-4e57-90b9-a6b14d4846ae",
   "metadata": {},
   "source": [
    "# Change Password\n",
    "\n",
    "A single login protects all *ide49* applications. The default username and password are both *iot49*. To change it, replace the two occurrances of *iot49* in the code below with the desired username and password and run the cell from the *IoT* kernel:"
   ]
  },
  {
   "cell_type": "code",
   "execution_count": 1,
   "id": "d00a305d-4322-4dbf-8450-342b95f2e657",
   "metadata": {},
   "outputs": [
    {
     "name": "stdout",
     "output_type": "stream",
     "text": [
      "\u001b[0m\u001b[0mCurrent Password File:\n",
      "iot49:$2y$05$mu6GlKvTDWuV9Ig3ih/8EOOz6F.rItoeZDIodjkEz21ySmolaC6B.\n",
      "\u001b[0m"
     ]
    },
    {
     "name": "stderr",
     "output_type": "stream",
     "text": [
      "Adding \u001b[0mpassword for user iot49\n",
      "\u001b[0m"
     ]
    },
    {
     "name": "stdout",
     "output_type": "stream",
     "text": [
      "\n",
      "Updated Password File:\n",
      "\u001b[0miot49:$2y$05$BdXHlb5gIHaX5SOnqzO0i.VT40vh6mOW6q76i6B2C75BfdfJtijAa\n",
      "\u001b[0m"
     ]
    }
   ],
   "source": [
    "%%service nginx\n",
    "\n",
    "cd /etc/nginx\n",
    "echo Current Password File:\n",
    "cat htpasswd\n",
    "\n",
    "# set password\n",
    "# htpasswd -cbB htpasswd \"<username>\" \"<password>\"\n",
    "htpasswd -cbB htpasswd \"iot49\" \"iot49\"\n",
    "\n",
    "# add additional passwords if desired (same account)\n",
    "# htpasswd -bB  htpasswd user2 abc\n",
    "\n",
    "echo\n",
    "echo Updated Password File:\n",
    "cat htpasswd"
   ]
  }
 ],
 "metadata": {
  "kernelspec": {
   "display_name": "IoT",
   "language": "python",
   "name": "iot_kernel"
  },
  "language_info": {
   "codemirror_mode": {
    "name": "python",
    "version": 3
   },
   "file_extension": ".py",
   "mimetype": "text/x-python",
   "name": "python",
   "pygments_lexer": "python3",
   "version": "3"
  }
 },
 "nbformat": 4,
 "nbformat_minor": 5
}
