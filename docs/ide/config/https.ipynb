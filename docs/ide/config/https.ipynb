{
 "cells": [
  {
   "cell_type": "markdown",
   "id": "333d7036-2751-4a65-a8c2-87f220c8aa57",
   "metadata": {},
   "source": [
    "# Https & Certificates\n",
    "\n",
    "*ide49* uses the https protocol to encrypt the traffic between the Raspberry PI and the browser.\n",
    "\n",
    "Despite, and, actually, because of this \"secure\" choice, browsers give a warning to the contrary:\n",
    "\n",
    "```{image} ../figures/browser_warning.png\n",
    ":width: 500px\n",
    "```\n",
    "\n",
    "If you ignore the warnings and load the site anyway, the url in the search bar shows a warning:\n",
    "\n",
    "```{image} ../figures/not_secure.png\n",
    ":width: 300px\n",
    "```\n",
    "\n",
    "The reason for this is the way https works. To guarantee safe communication, https\n",
    "\n",
    "1. Encrypts all traffic, and\n",
    "2. Ensures the identiy of the server.\n",
    "\n",
    "For example, when you access your bank over https, the browser verifies that the website you are looking at actually belongs to your bank and not a hitch-hiker presenting itself with a similar (same) website at a similar (or the same) URL as your bank. \n",
    "\n",
    "This is ensured with a [certificate](https://www.cloudflare.com/learning/ssl/what-is-an-ssl-certificate/), a digital document that encodes the URL of the server along with some additional data and a public encryption key. On the PI this notebook is running on, the certificate looks as follows:"
   ]
  },
  {
   "cell_type": "code",
   "execution_count": 5,
   "id": "ae7c0525-3323-4cdb-b240-fe33d7e77a98",
   "metadata": {},
   "outputs": [
    {
     "name": "stdout",
     "output_type": "stream",
     "text": [
      "\u001b[0m-----BEGIN CERTIFICATE-----\n",
      "MIIDxTCCAq2gAwIBAgIUC4/mzMvLEBXS0dEbeP/RC+xfmAkwDQYJKoZIhvcNAQEL\n",
      "BQAwcDELMAkGA1UEBhMCVVMxCzAJBgNVBAgMAkNBMRYwFAYDVQQHDA1TYW4gRnJh\n",
      "bmNpc2NvMRwwGgYDVQQKDBNFbGVjdHJvbmljcyBmb3IgSW9UMQ4wDAYDVQQLDAVp\n",
      "b3Q0OTEOMAwGA1UEAwwFaW90NDkwHhcNMjEwNjI4MTg0ODI4WhcNMzEwNjI2MTg0\n",
      "ODI4WjBwMQswCQYDVQQGEwJVUzELMAkGA1UECAwCQ0ExFjAUBgNVBAcMDVNhbiBG\n",
      "cmFuY2lzY28xHDAaBgNVBAoME0VsZWN0cm9uaWNzIGZvciBJb1QxDjAMBgNVBAsM\n",
      "BWlvdDQ5MQ4wDAYDVQQDDAVpb3Q0OTCCASIwDQYJKoZIhvcNAQEBBQADggEPADCC\n",
      "AQoCggEBAOWhUlDZWBA7E9G96/2IXaAicSpFXHsZi3R8gk8HWRQVf1LkyjV37U5M\n",
      "oHAT+G3ZxfK6NNniEW2ZV7l+EVqf8MYBUjs/nKpti8hwcWsoLkh07gTJ9G5gqlXx\n",
      "H+gXKV10f9DtqyLjQqXn541rLogLSzg0FvHe/yeLh0oKblO+rsvP3bUfDt3lRbgh\n",
      "VAwO3LDYtuRhzKbxLuoRCSLFjiq+Ig7ipA58+AwIXfFnRCl8bEFR6KglO3j7SSwJ\n",
      "jOKtiljwZccdQpjV7ATiR0PnXLvfPJK6nsgQXFDCTrk/mcVL4zii1HITFp5sfNy7\n",
      "6m3KcNYK5q7tbpGmFe5AG2V//UmEY50CAwEAAaNXMFUwDgYDVR0PAQH/BAQDAgOI\n",
      "MBMGA1UdJQQMMAoGCCsGAQUFBwMBMC4GA1UdEQQnMCWCD3BpNHNlcnZlci5sb2Nh\n",
      "bIIMMTAuMzkuNDAuMTUxhwQKJyiXMA0GCSqGSIb3DQEBCwUAA4IBAQCwR2l7i1Ud\n",
      "KqGjtJKxg4jiHwAgixQKUrJlcrC2sDWmdntIuyj8feNqGGflax7a+o31cByoQcc+\n",
      "mGoeA9W7YvWXCjvQrlVsJbzJP0hEmsM+9nRu7WkwP+X4OtF2ULplxvIcvTiqBUyu\n",
      "lflOr9wXBoMHEDz+cHIJondQXul5MIzYRypemYVWMAIpt53iwufv1p4ARtLA0co7\n",
      "V5dLaRM/cIytubcvb+Pq7OgDu9Gt6SJPecJAdVkD/8UPvaheO0l+zjmYtFARpoKV\n",
      "VBbF8BBVsylj8nFyaPSzKgfBY/eXk9w6Lg4OQ5ZkM5izzD9RZyhowYfbC9i8AM0J\n",
      "XaTG2RPUp/BG\n",
      "-----END CERTIFICATE-----\n"
     ]
    }
   ],
   "source": [
    "!cat /service-config/nginx/ssl/cert.crt"
   ]
  },
  {
   "cell_type": "markdown",
   "id": "09c374a3-2e5a-4f96-9dc2-1b5e7832170f",
   "metadata": {},
   "source": [
    "When the browser connects to the server, the server sends the certificate. The browser decodes it and verifies that the URLs match (which is why the certificate changes when you alter the [`DNS_NAME`](dns). It also sends a challenge to the server which requires the private key to solve. \n",
    "\n",
    "*ide49* stores the private key at `/service-config/nginx/ssl/cert.key`. It looks similar to the certificate but I won't reproduce it here since it is private, aka secret. In addition, that I can assure you that the private key on your instance differs, even if you use the same `DNS_NAME`.\n",
    "\n",
    "Finally the browser checks if the certificate is valid. This is a bit like a customs agent checking your passport-s/he verifies your name, picture, eye color and what do I know, and then also makes sure your passport is a real passport issued by a real country. \n",
    "\n",
    "Here lies the problem with *ide49*'s certificates: they meet all requirements and the encryption is just as strong as with a real certificate, but the browser has never seen one alike. Just like the customs agent rejects the beautiful passport you created yourself on your 3D printer, the browser won't trust certificates issued by *ide49*. \n",
    "\n",
    "This begs the question how browsers verify certificates from other websites such as https://iot49.org. The answer is that browsers come with preinstalled certificates (an elaborate chaining scheme permits allows one certficate to vouch for many derived certificates), but unfortunately the certificates created by *ide49* are not among them.\n",
    "\n",
    "There are two solutions to this problem:\n",
    "\n",
    "1. Buy a real domain name such as `iot49.org` or `google.com` and get a real certificate for it from a real [certificate authority](https://en.wikipedia.org/wiki/Certificate_authority). You'll also need to expose your PI to the internet (not just locally).\n",
    "\n",
    "2. Alternatively you can add the certificate of your PI to the list of trusted certificates. \n",
    "\n",
    "Adding certificates depends on the operating system. \"Google\" *add certificate to chrome* or something similar for instructions for your setup. \n",
    "\n",
    "Your efforts will be rewarded with a nice lock displayed in the search bar and there will no longer be warnings when you connect to https://iot49.local.\n",
    "\n",
    "```{image} figures/secure.png\n",
    ":width: 300px\n",
    "```"
   ]
  },
  {
   "cell_type": "code",
   "execution_count": null,
   "id": "b9df3675-b4f7-4db4-a1c2-74fd8e80729b",
   "metadata": {},
   "outputs": [],
   "source": []
  }
 ],
 "metadata": {
  "kernelspec": {
   "display_name": "IoT",
   "language": "python",
   "name": "iot_kernel"
  },
  "language_info": {
   "codemirror_mode": {
    "name": "python",
    "version": 3
   },
   "file_extension": ".py",
   "mimetype": "text/x-python",
   "name": "python",
   "pygments_lexer": "python3",
   "version": "3"
  }
 },
 "nbformat": 4,
 "nbformat_minor": 5
}
