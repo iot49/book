{
 "cells": [
  {
   "cell_type": "markdown",
   "id": "333d7036-2751-4a65-a8c2-87f220c8aa57",
   "metadata": {},
   "source": [
    "# Certificates"
   ]
  },
  {
   "cell_type": "code",
   "execution_count": null,
   "id": "ae7c0525-3323-4cdb-b240-fe33d7e77a98",
   "metadata": {},
   "outputs": [],
   "source": []
  }
 ],
 "metadata": {
  "kernelspec": {
   "display_name": "IoT",
   "language": "python",
   "name": "iot_kernel"
  },
  "language_info": {
   "codemirror_mode": {
    "name": "python",
    "version": 3
   },
   "file_extension": ".py",
   "mimetype": "text/x-python",
   "name": "python",
   "pygments_lexer": "python3",
   "version": "3"
  }
 },
 "nbformat": 4,
 "nbformat_minor": 5
}
