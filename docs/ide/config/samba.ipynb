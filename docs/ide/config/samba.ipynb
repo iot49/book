{
 "cells": [
  {
   "cell_type": "markdown",
   "id": "ac700ec7-667d-46a3-a552-353ad63295ac",
   "metadata": {},
   "source": [
    "# Samba File Server/Client\n",
    "\n",
    "*ide49* can optionally act as a [Samba/CIFS](https://en.wikipedia.org/wiki/Samba_(software)) File server or client. When configured as a server, it exports the `home/iot` folder. Conversely, when set as client it mounts `home/iot`.\n",
    "\n",
    "## Server\n",
    "\n",
    "To enable the Samba server, got to the `Device Variables` tab on the dashboard\n",
    "\n",
    "![Device Variables](figures/device_variables.png) \n",
    "\n",
    "Click override to set the value of `SAMBA` to `server` and choose an strong password for `SAMBA_PASSWORD`. Restart the `smb` service from the Summary tab. The share is available as `smb://pi4server.local` as `iot-data` and the user is `iot`. \n",
    "\n",
    "For example, in the Finder on Mac choose the `Go/Connect to Server ...` menu and enter this information to mount the partition from the Raspberry PI.\n",
    "\n",
    "## Client\n",
    "\n",
    "Alternatively you can configure *ide49* as a client by setting `SAMBA` to `client` and `SAMBA_SERVER_IP` to the IP address of the server you are using. Also set `SAMBA_PASSWORD` to the correct value for your server. User is `iot` and `iot-data` is mounted on `/home/iot`.\n",
    "\n",
    "The local home directory stored on the SD Card is available at `/service-config/iot-home`.\n",
    "\n",
    "You need to restart the device for the changes to take effect.\n",
    "\n",
    "The intended use of this feature is environments with multiple Raspberry PIs where one operates as server and the others as client to have the same environment."
   ]
  },
  {
   "cell_type": "code",
   "execution_count": null,
   "id": "0349a79d-9d70-4c3b-91fe-c8306db0ab6b",
   "metadata": {},
   "outputs": [],
   "source": []
  }
 ],
 "metadata": {
  "kernelspec": {
   "display_name": "IoT",
   "language": "python",
   "name": "iot_kernel"
  },
  "language_info": {
   "codemirror_mode": {
    "name": "python",
    "version": 3
   },
   "file_extension": ".py",
   "mimetype": "text/x-python",
   "name": "python",
   "pygments_lexer": "python3",
   "version": "3"
  }
 },
 "nbformat": 4,
 "nbformat_minor": 5
}
