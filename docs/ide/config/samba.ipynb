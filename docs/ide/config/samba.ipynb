{
 "cells": [
  {
   "cell_type": "markdown",
   "id": "ac700ec7-667d-46a3-a552-353ad63295ac",
   "metadata": {},
   "source": [
    "# Samba"
   ]
  }
 ],
 "metadata": {
  "kernelspec": {
   "display_name": "IoT",
   "language": "python",
   "name": "iot_kernel"
  },
  "language_info": {
   "codemirror_mode": {
    "name": "python",
    "version": 3
   },
   "file_extension": ".py",
   "mimetype": "text/x-python",
   "name": "python",
   "pygments_lexer": "python3",
   "version": "3"
  }
 },
 "nbformat": 4,
 "nbformat_minor": 5
}
