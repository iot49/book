{
 "cells": [
  {
   "cell_type": "markdown",
   "id": "cd0b7ffd-0ff8-4f94-bb79-6674fbc6e812",
   "metadata": {},
   "source": [
    "# Domain Name\n",
    "\n",
    "By default, *ide49* advertises the Raspberry PI on the local network as `iot49.local`. This can be changed by overriding the value of `DNS_NAME` in the dashboard:\n",
    "\n",
    "![Device Variables](figures/device_variables.png) \n",
    "\n",
    "For example, if you set `DNS_NAME` to `my_awesome_pi`, after a restart the Raspberry PI is available at https://my_awesome_pi.local.\n",
    "\n",
    "*ide49* automatically issues a new certificate for the new domain name. If you have [exported the certificate](https) to the host from which you connect to the Raspberry PI you need to export the new certificate."
   ]
  },
  {
   "cell_type": "code",
   "execution_count": null,
   "id": "63d55117-dbf4-468e-8496-8b48430ea221",
   "metadata": {},
   "outputs": [],
   "source": []
  }
 ],
 "metadata": {
  "kernelspec": {
   "display_name": "IoT",
   "language": "python",
   "name": "iot_kernel"
  },
  "language_info": {
   "codemirror_mode": {
    "name": "python",
    "version": 3
   },
   "file_extension": ".py",
   "mimetype": "text/x-python",
   "name": "python",
   "pygments_lexer": "python3",
   "version": "3"
  }
 },
 "nbformat": 4,
 "nbformat_minor": 5
}
