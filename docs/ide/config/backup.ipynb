{
 "cells": [
  {
   "cell_type": "markdown",
   "id": "e9769a96-262a-47d8-8fd3-1739cf82f637",
   "metadata": {},
   "source": [
    "# Backup\n",
    "\n",
    "All your files on the Raspberry PI are stored on the SD Card. These cards sometimes fail, or you may inadvertently delete a file. It's important to keep backups.\n",
    "\n",
    "*ide49* makes this easy. It comes with [Duplicati](https://www.duplicati.com/), a versatile backup solution. Access it at https://iot49.local/duplicati or from the dashboard at https://iot49.local.\n",
    "\n",
    "The first time you access Duplicati, you are asked\n",
    "\n",
    "![First run](figures/duplicati_start.png)\n",
    "\n",
    "Choose \"No, my machine ...\" to get to the home screen\n",
    "\n",
    "![Duplicati](figures/duplicati.png)\n",
    "\n",
    "Click `+ Add backup` and configure a new backup. Choose Encryption and a Passphrase if you like (I do not bother as I don't keep personal information on the Raspberry PI).\n",
    "\n",
    "Duplicati offers many backup destinations. Under `Storage Type` you find all the popular online services (Dropbox, Google Cloud, etc). \n",
    "\n",
    "Alternatively you can backup to local storage. Insert a USB thumb drive into the Raspberry PI. It will show up under `Folder path` in the `mnt` folder. \n",
    "\n",
    "![Backup Destination](figures/duplicati_dest.png)\n",
    "\n",
    "If the drive does not show up, hit *Previous* and then again *Next*.\n",
    "\n",
    "On the next screen, choose the folder `service-config` as backup source. This will backup all user data on the Raspberry PI, but not the operating system and *ide49* application which can easily be reinstalled if lost or damaged.\n",
    "\n",
    "![Backup Source](figures/duplicati_src.png)\n",
    "\n",
    "You can either run backups manually, or, preferably, automatically at a set schedule. This is my choice:\n",
    "\n",
    "![Backup Schedule](figures/duplicati_schedule.png)\n",
    "\n",
    "That's it! If you ever loose data, come back to https://iot49.local/duplicati and run `Restore`. "
   ]
  },
  {
   "cell_type": "code",
   "execution_count": null,
   "id": "602abf0a-2e62-47cd-a759-cbf2c0db53d1",
   "metadata": {},
   "outputs": [],
   "source": []
  }
 ],
 "metadata": {
  "kernelspec": {
   "display_name": "IoT",
   "language": "python",
   "name": "iot_kernel"
  },
  "language_info": {
   "codemirror_mode": {
    "name": "python",
    "version": 3
   },
   "file_extension": ".py",
   "mimetype": "text/x-python",
   "name": "python",
   "pygments_lexer": "python3",
   "version": "3"
  }
 },
 "nbformat": 4,
 "nbformat_minor": 5
}
