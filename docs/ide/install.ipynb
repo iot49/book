{
 "cells": [
  {
   "cell_type": "markdown",
   "id": "c76d8f61-1f9f-4c41-ae7e-f960537bc249",
   "metadata": {},
   "source": [
    "# Install ide49\n",
    "\n",
    "*ide49* is an environment for developing IoT applications on Microcontrollers over the Internet. It runs on a Raspberry PI. It has the following requirements:\n",
    "\n",
    "#### Hardware \n",
    "\n",
    "* Raspberry PI 4 with 2GBytes of RAM (no need for more).\n",
    "* SD Card with at least 16GBytes. A good quality card is highly recommended (Sandisk, Samsung, etc).\n",
    "* A host computer (e.g. a laptop) with an SD Card slot or attachment (only used for installation)\n",
    "\n",
    "#### Software\n",
    "\n",
    "* Web-browser (e.g. Chrome)\n",
    "* [Balena Etcher](https://www.balena.io/etcher/), available for Mac, Window, and Linux (free)\n",
    "\n",
    "### Installation\n",
    "\n",
    "#### 1. Flash Balena OS to SD Card\n",
    "\n",
    "Open the [*ide49* repository on github](https://github.com/iot49/ide49) and click the `Deploy with Balena` button. Create a (free) account for [balena.io](https://www.balena.io/) or login to your existing account.\n",
    "\n",
    "In the popup window, choose a name for your application (e.g. *ide49*). Click *advanced* and set the timezone (TZ) to the desired value. Click [here](https://en.wikipedia.org/wiki/List_of_tz_database_time_zones) for a list of valid TZ names.\n",
    "and click `Create and Deploy`.\n",
    "\n",
    "Leave the other variables at their defaults (they can be changed later) and click `Create and Deploy`. The new browser window is the Balena dashboard for the ide49 application. Click `+ Add device`. You get another popup:\n",
    "\n",
    "* under edition, select `Development`\n",
    "* click the `Wifi + Ethernet` button and enter your WiFi credentials\n",
    "\n",
    "Accept the defaults for everything else and hit the `Download balenaOS` button. Keep the browser window open. Once the download finishes, start the [Balena Etcher](https://www.balena.io/etcher/) to flash the downloaded zip-file to an SD Card. Insert the card in your computer (laptop), click *Flash from file* and choose the *balena-cloud ... img.zip*, choose the SD Card as target and hit `Flash`. You may be asked to enter the administrator password to enable the flash.\n",
    "\n",
    "#### 2. Install *ide49* on the Raspberry PI\n",
    "\n",
    "Remove the SD Card from the host and insert it into the Raspberry PI, power up the device. It will automatically configure the OS. Head back to the browser window with the *Balena dashboard* and wait a few minutes for the new device to appear.\n",
    "\n",
    "The new device has some creative name (mine was called *hidden-sun*). Click on the device name. At the top of the page is that funny device name. Click the pencil to change it. Also listed are some statistics of your Raspberry PI (memory usage, device temperature, local ip address, etc). \n",
    "\n",
    "Click the application name in the Balena dashboard and wait for the release to complete (about twenty minutes). Once it's complete, the Raspberry PI will automatically download it. You can see the progress in the device window with populates itself with a list of services. \n",
    "\n",
    "After the download completes the application will automatically start.\n",
    "\n",
    "#### 3. Connecting to the Raspberry PI\n",
    "\n",
    "Once the download completes and the application started (as indicated in the device dashboard), connect to the Raspberry PI at http://ide49.local.\n",
    "\n",
    "If this does not work, try http://LOCAL_IP_ADDRESS instead. Substitute the value *LOCAL_IP_ADDRESS* from the device dashboard.\n",
    "\n",
    "Head over to the [ide49 Overview](overview.ipynb) for further steps. Or, if you rather dive right in with microcontroller programming, head over to [MicroPython with *ide49*](../iot/micropython.ipynb).\n",
    "\n",
    "#### 4. Turning off the Raspberry PI\n",
    "\n",
    "Should you ever want to turn off your Raspberry PI don't just pull the power cord. Instead head to the dashboard. At the top right is a button. Click it to get several options, including *shutdown*."
   ]
  },
  {
   "cell_type": "markdown",
   "id": "38d7e9a8-658e-4708-beb3-e9993cd31bf0",
   "metadata": {},
   "source": []
  }
 ],
 "metadata": {
  "kernelspec": {
   "display_name": "IoT",
   "language": "python",
   "name": "iot_kernel"
  },
  "language_info": {
   "codemirror_mode": {
    "name": "python",
    "version": 3
   },
   "file_extension": ".py",
   "mimetype": "text/x-python",
   "name": "python",
   "pygments_lexer": "python3",
   "version": "3"
  }
 },
 "nbformat": 4,
 "nbformat_minor": 5
}
