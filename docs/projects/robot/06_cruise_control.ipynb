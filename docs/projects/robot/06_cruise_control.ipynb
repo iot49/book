{
 "cells": [
  {
   "cell_type": "markdown",
   "id": "766d0fc7-2949-4380-b303-acc70bdaf5b4",
   "metadata": {},
   "source": [
    "# Cruise Control"
   ]
  },
  {
   "cell_type": "markdown",
   "id": "0f184555-674b-4db8-b6a0-3f4743eb32b1",
   "metadata": {},
   "source": [
    "![](figures/PID_en.svg)"
   ]
  },
  {
   "cell_type": "code",
   "execution_count": null,
   "id": "14c4daca-9a9f-42ce-bc46-86b43ecc1a3a",
   "metadata": {},
   "outputs": [],
   "source": []
  }
 ],
 "metadata": {
  "kernelspec": {
   "display_name": "IoT",
   "language": "python",
   "name": "iot_kernel"
  },
  "language_info": {
   "codemirror_mode": {
    "name": "python",
    "version": 3
   },
   "file_extension": ".py",
   "mimetype": "text/x-python",
   "name": "python",
   "pygments_lexer": "python3",
   "version": "3"
  }
 },
 "nbformat": 4,
 "nbformat_minor": 5
}
