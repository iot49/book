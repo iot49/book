{
 "cells": [
  {
   "cell_type": "markdown",
   "id": "consolidated-craft",
   "metadata": {},
   "source": [
    "# BLE UART - Central (Pi)"
   ]
  },
  {
   "cell_type": "code",
   "execution_count": 2,
   "id": "twelve-interval",
   "metadata": {},
   "outputs": [
    {
     "name": "stdout",
     "output_type": "stream",
     "text": [
      "scanning for mpy-uart\n",
      "connecting to mpy-uart ... connected\n",
      "RECV 2 =    1.000   dt =        489.3 [ms]\n",
      "RECV 1 =   -1.000   dt =        439.6 [ms]\n",
      "RECV 1 =   -2.000   dt =        97.23 [ms]\n",
      "RECV c =    1.000   dt =        390.1 [ms]\n",
      "------------------------------ Remote powered down - QUIT!\n",
      "so long ...\n",
      "DONE!\n"
     ]
    }
   ],
   "source": [
    "import nest_asyncio\n",
    "nest_asyncio.apply()\n",
    "\n",
    "import asyncio, sys, os\n",
    "\n",
    "sys.path.append(os.path.join(os.getenv('IOT49'), 'projects/robot/code-pi'))\n",
    "\n",
    "from robot import Remote\n",
    "\n",
    "def exception_handler(loop, context):\n",
    "    msg = context.get(\"exception\", context[\"message\"])\n",
    "    print(\"***** asyncio:\", context)\n",
    "    print(\"***** msg:\", msg)\n",
    "    \n",
    "remote = Remote()\n",
    "\n",
    "try:\n",
    "    asyncio.get_event_loop().set_exception_handler(exception_handler)\n",
    "    asyncio.run(remote.run(peripheral_name='mpy-uart'))\n",
    "except Exception as e:\n",
    "    print(\"*** main:\", type(e), e)\n",
    "print(\"DONE!\")"
   ]
  },
  {
   "cell_type": "code",
   "execution_count": null,
   "id": "laden-monkey",
   "metadata": {},
   "outputs": [],
   "source": []
  }
 ],
 "metadata": {
  "kernelspec": {
   "display_name": "Python 3 (ipykernel)",
   "language": "python",
   "name": "python3"
  },
  "language_info": {
   "codemirror_mode": {
    "name": "ipython",
    "version": 3
   },
   "file_extension": ".py",
   "mimetype": "text/x-python",
   "name": "python",
   "nbconvert_exporter": "python",
   "pygments_lexer": "ipython3",
   "version": "3.9.7"
  }
 },
 "nbformat": 4,
 "nbformat_minor": 5
}
