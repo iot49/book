{
 "cells": [
  {
   "cell_type": "markdown",
   "id": "decreased-writer",
   "metadata": {},
   "source": [
    "# BLE_UART Peripheral (esp32)"
   ]
  },
  {
   "cell_type": "code",
   "execution_count": 1,
   "id": "african-firewall",
   "metadata": {},
   "outputs": [
    {
     "name": "stdout",
     "output_type": "stream",
     "text": [
      "\u001b[0mrobot-remote  serial:///dev/ttyUSB0  \u001b[0m\n"
     ]
    }
   ],
   "source": [
    "%discover"
   ]
  },
  {
   "cell_type": "code",
   "execution_count": 1,
   "id": "dress-milwaukee",
   "metadata": {},
   "outputs": [
    {
     "name": "stdout",
     "output_type": "stream",
     "text": [
      "\u001b[0m\u001b[46m\u001b[30mConnected to robot-remote @ serial:///dev/ttyUSB0\u001b[0m\n",
      "\u001b[0m\u001b[34mUPDATE  /lib/loop.py\n",
      "\u001b[0m\u001b[0m\u001b[0m\u001b[0m\n",
      "\u001b[46m\u001b[31m!!!!!!!!!!!!!!!!!!!!!!!!!!!!!!!\u001b[0m\n",
      "\u001b[46m\u001b[31m!!!!!   softreset ...     !!!!!\u001b[0m\n",
      "\u001b[46m\u001b[31m!!!!!!!!!!!!!!!!!!!!!!!!!!!!!!!\u001b[0m\n",
      "\u001b[0m\n"
     ]
    }
   ],
   "source": [
    "%connect robot-remote\n",
    "\n",
    "%rsync\n",
    "%softreset"
   ]
  },
  {
   "cell_type": "code",
   "execution_count": null,
   "id": "former-beginning",
   "metadata": {},
   "outputs": [],
   "source": [
    "import main"
   ]
  },
  {
   "cell_type": "code",
   "execution_count": 1,
   "id": "liberal-serum",
   "metadata": {},
   "outputs": [
    {
     "name": "stdout",
     "output_type": "stream",
     "text": [
      ".\u001b[0m.\u001b[0m.\u001b[0m.\u001b[0m.\u001b[0m.\u001b[0mdeepsleep ...\n",
      "\u001b[0mets Jun  8 2016 00:22:57\n",
      "\n",
      "rst:0x5 (DEEPSLEEP_RESET),boot:0x13 (SPI_FAST_FLASH_BOOT)\n",
      "configsip: 0, SPIWP:0xee\n",
      "clk_drv:0x00,q_drv:0x00,d_drv:0x00,cs0_drv:0x00,hd_drv:0x00,wp_drv:0x00\n",
      "mode:DIO, clock div:2\n",
      "load:0x3fff0018,len:4\n",
      "load:0x3fff001c,len:5148\n",
      "load:0x40078000,len:12880\n",
      "load:0x40080400,len:3484\n",
      "entry 0x40080630\n",
      "\u001b[0mstarting\n",
      "\u001b[0mStart advertising\n",
      "\u001b[0m"
     ]
    },
    {
     "name": "stderr",
     "output_type": "stream",
     "text": [
      "Interrupted\u001b[0m\n"
     ]
    }
   ],
   "source": [
    "from remote import Button\n",
    "from machine import Pin, deepsleep\n",
    "import esp32\n",
    "\n",
    "deepsleep_wakeup_pin = Pin(4, mode=Pin.IN, pull=Pin.PULL_UP)\n",
    "esp32.wake_on_ext0(deepsleep_wakeup_pin, esp32.WAKEUP_ALL_LOW)\n",
    "\n",
    "button_1 = Button(deepsleep_wakeup_pin)\n",
    "\n",
    "while True:\n",
    "    if button_1.pressed:\n",
    "        print(\"deepsleep ...\")\n",
    "        deepsleep()\n",
    "    else:\n",
    "        print('.', end=\"\")\n",
    "        import time\n",
    "        time.sleep(1)\n",
    "print(\"woke up\")"
   ]
  },
  {
   "cell_type": "code",
   "execution_count": 1,
   "id": "cooperative-profit",
   "metadata": {},
   "outputs": [
    {
     "name": "stdout",
     "output_type": "stream",
     "text": [
      ".\u001b[0m.\u001b[0m.\u001b[0m.\u001b[0m.\u001b[0m.\u001b[0m.\u001b[0m.\u001b[0m.\u001b[0m.\u001b[0m.\u001b[0m.\u001b[0m.\u001b[0m.\u001b[0m.\u001b[0m.\u001b[0m.\u001b[0m.\u001b[0m.\u001b[0m.\u001b[0mlet go!\u001b[0mlet go!\u001b[0mlet go!\u001b[0mlet go!\u001b[0mlet go!\u001b[0mlet go!\u001b[0mlet go!\u001b[0mlet go!\u001b[0mdeepsleep ...\n",
      "\u001b[0mets Jun  8 2016 00:22:57\n",
      "\n",
      "rst:0x5 (DEEPSLEEP_RESET),boot:0x13 (SPI_FAST_FLASH_BOOT)\n",
      "configsip: 0, SPIWP:0xee\n",
      "clk_drv:0x00,q_drv:0x00,d_drv:0x00,cs0_drv:0x00,hd_drv:0x00,wp_drv:0x00\n",
      "mode:DIO, clock div:2\n",
      "load:0x3fff0018,len:4\n",
      "load:0x3fff001c,len:5148\n",
      "load:0x40078000,len:12880\n",
      "load:0x40080400,len:3484\n",
      "entry 0x40080630\n",
      "\u001b[0mstarting\n",
      "\u001b[0mStart advertising\n",
      "\u001b[0m"
     ]
    },
    {
     "name": "stderr",
     "output_type": "stream",
     "text": [
      "Interrupted\u001b[0m\n"
     ]
    }
   ],
   "source": [
    "from remote import Button\n",
    "from machine import Pin, deepsleep\n",
    "import esp32\n",
    "\n",
    "deepsleep_wakeup_pin = Pin(4, mode=Pin.IN, pull=Pin.PULL_UP)\n",
    "esp32.wake_on_ext0(deepsleep_wakeup_pin, esp32.WAKEUP_ALL_LOW)\n",
    "\n",
    "button_1 = Button(deepsleep_wakeup_pin)\n",
    "\n",
    "for i in range(5000):\n",
    "    if deepsleep_wakeup_pin.value() == 0:\n",
    "        while deepsleep_wakeup_pin.value() == 0:\n",
    "            print(\"let go!\", end=\"\")\n",
    "            import time\n",
    "            time.sleep(0.2)\n",
    "        print(\"deepsleep ...\")\n",
    "        deepsleep()\n",
    "    else:\n",
    "        print('.', end=\"\")\n",
    "        import time\n",
    "        time.sleep(0.2)\n",
    "print(\"woke up\")"
   ]
  },
  {
   "cell_type": "code",
   "execution_count": 1,
   "id": "english-earthquake",
   "metadata": {},
   "outputs": [],
   "source": [
    "from remote import LED\n",
    "\n",
    "red   = LED(17)\n",
    "green = LED(16)\n",
    "blue  = LED(19)\n",
    "\n",
    "green.level = 0.5"
   ]
  },
  {
   "cell_type": "code",
   "execution_count": 1,
   "id": "tight-steering",
   "metadata": {},
   "outputs": [],
   "source": [
    "from machine import Pin, PWM\n",
    "from time import sleep_ms\n",
    "\n",
    "class LED:\n",
    "    \n",
    "    def __init__(self, pin_number):\n",
    "        self._level = 0\n",
    "        self.pin = Pin(pin_number, mode=Pin.OUT)\n",
    "        self.pwm = PWM(self.pin, freq=1024)\n",
    "        # for some reason this is needed?\n",
    "        sleep_ms(10)\n",
    "        self.pwm.duty(0)\n",
    "        \n",
    "    @property\n",
    "    def level(self):\n",
    "        return self._level\n",
    "    \n",
    "    @level.setter\n",
    "    def level(self, l):\n",
    "        if l<0: l = 0\n",
    "        if l>1: l = 1\n",
    "        self._level = l\n",
    "        print(\"set {} duty = {}\".format(self.pin, int(1023*l)))\n",
    "        self.pwm.duty(int(1023*l))\n",
    "        \n",
    "    def on(self, on_off):\n",
    "        self.pin.value(on_off)\n",
    "        \n",
    "    def deinit(self):\n",
    "        self.pwm.deinit()\n",
    "        self.pwm = None\n",
    "        \n",
    "    def __enter__(self):\n",
    "        return self\n",
    "    \n",
    "    def __exit__(self, *args):\n",
    "        self.deinit()\n",
    "        \n",
    "red   = LED(17)\n",
    "green = LED(16)\n",
    "blue  = LED(19)\n",
    "\n"
   ]
  },
  {
   "cell_type": "code",
   "execution_count": 1,
   "id": "chronic-stuff",
   "metadata": {},
   "outputs": [],
   "source": [
    "blue.on(False)"
   ]
  },
  {
   "cell_type": "code",
   "execution_count": 1,
   "id": "bulgarian-discovery",
   "metadata": {},
   "outputs": [
    {
     "name": "stdout",
     "output_type": "stream",
     "text": [
      "set Pin(19) duty = 0\n",
      "\u001b[0m"
     ]
    }
   ],
   "source": [
    "blue.level = 0."
   ]
  },
  {
   "cell_type": "code",
   "execution_count": 1,
   "id": "conceptual-wednesday",
   "metadata": {},
   "outputs": [
    {
     "name": "stdout",
     "output_type": "stream",
     "text": [
      "set Pin(17) duty = 102\n",
      "\u001b[0m"
     ]
    }
   ],
   "source": [
    "red.level = 0.1"
   ]
  },
  {
   "cell_type": "code",
   "execution_count": null,
   "id": "olive-bouquet",
   "metadata": {},
   "outputs": [],
   "source": [
    "blue.on(True)\n",
    "red.on(True)\n",
    "green.on(True)"
   ]
  }
 ],
 "metadata": {
  "kernelspec": {
   "display_name": "IoT",
   "language": "python",
   "name": "iot_kernel"
  },
  "language_info": {
   "codemirror_mode": {
    "name": "python",
    "version": 3
   },
   "file_extension": ".py",
   "mimetype": "text/x-python",
   "name": "python",
   "pygments_lexer": "python3",
   "version": "3"
  }
 },
 "nbformat": 4,
 "nbformat_minor": 5
}
