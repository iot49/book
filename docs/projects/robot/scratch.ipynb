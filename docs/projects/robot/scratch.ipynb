{
 "cells": [
  {
   "cell_type": "markdown",
   "id": "7936134d-8d1a-4078-8a7e-5eefaecbd1e3",
   "metadata": {},
   "source": [
    "# Scratch"
   ]
  },
  {
   "cell_type": "code",
   "execution_count": 1,
   "id": "652c0da1-d275-42e3-a4aa-202207ff1a3a",
   "metadata": {},
   "outputs": [
    {
     "name": "stdout",
     "output_type": "stream",
     "text": [
      "\u001b[46m\u001b[30mConnected to robot-esp32 @ serial:///dev/ttyUSB0\u001b[0m\n",
      "\u001b[34mUPDATE  /lib/loop.py\n",
      "\u001b[0m\u001b[34mUPDATE  /main.py\n",
      "\u001b[0m\n",
      "\u001b[46m\u001b[31m!!!!!!!!!!!!!!!!!!!!!!!!!!!!!!!\u001b[0m\n",
      "\u001b[46m\u001b[31m!!!!!   softreset ...     !!!!!\u001b[0m\n",
      "\u001b[46m\u001b[31m!!!!!!!!!!!!!!!!!!!!!!!!!!!!!!!\u001b[0m\n"
     ]
    }
   ],
   "source": [
    "%connect robot-esp32\n",
    "%rsync\n",
    "%softreset\n"
   ]
  },
  {
   "cell_type": "code",
   "execution_count": null,
   "id": "3707351c-54d9-40cc-951c-725a5f0d3d83",
   "metadata": {},
   "outputs": [
    {
     "name": "stdout",
     "output_type": "stream",
     "text": [
      "Start advertising\n",
      "enc3 1\n",
      "enc3 2\n",
      "enc3 3\n",
      "enc3 4\n",
      "enc3 5\n",
      "Start advertising\n",
      "enc3 0\n",
      "enc2 1\n",
      "enc2 2\n",
      "enc3 -1\n",
      "enc3 -2\n",
      "enc3 -3\n",
      "enc3 -4\n",
      "enc3 -5\n",
      "enc3 -6\n",
      "enc3 -7\n",
      "enc3 -8\n",
      "enc3 -9\n",
      "enc3 -8\n",
      "enc3 -7\n",
      "enc3 -6\n",
      "enc3 -5\n",
      "Start advertising\n",
      "deepsleep timeout\n"
     ]
    },
    {
     "name": "stderr",
     "output_type": "stream",
     "text": [
      "Interrupted\u001b[0m\n"
     ]
    }
   ],
   "source": [
    "from loop import loop\n",
    "loop()"
   ]
  },
  {
   "cell_type": "code",
   "execution_count": null,
   "id": "fe3e5653-30be-4e00-97b0-a4ba325039b4",
   "metadata": {},
   "outputs": [],
   "source": []
  }
 ],
 "metadata": {
  "kernelspec": {
   "display_name": "IoT",
   "language": "python",
   "name": "iot_kernel"
  },
  "language_info": {
   "codemirror_mode": {
    "name": "python",
    "version": 3
   },
   "file_extension": ".py",
   "mimetype": "text/x-python",
   "name": "python",
   "pygments_lexer": "python3",
   "version": "3"
  }
 },
 "nbformat": 4,
 "nbformat_minor": 5
}
