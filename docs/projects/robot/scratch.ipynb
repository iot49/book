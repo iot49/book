{
 "cells": [
  {
   "cell_type": "markdown",
   "id": "7936134d-8d1a-4078-8a7e-5eefaecbd1e3",
   "metadata": {},
   "source": [
    "# Scratch"
   ]
  },
  {
   "cell_type": "code",
   "execution_count": 1,
   "id": "652c0da1-d275-42e3-a4aa-202207ff1a3a",
   "metadata": {},
   "outputs": [
    {
     "name": "stdout",
     "output_type": "stream",
     "text": [
      "\u001b[46m\u001b[30mConnected to robot-stm32 @ serial:///dev/ttyAMA1\u001b[0m\n",
      "\u001b[34mUPDATE  /flash/lib/speed_control.py\n",
      "\u001b[0m\n",
      "\u001b[46m\u001b[31m!!!!!!!!!!!!!!!!!!!!!!!!!!!!!!!\u001b[0m\n",
      "\u001b[46m\u001b[31m!!!!!   softreset ...     !!!!!\u001b[0m\n",
      "\u001b[46m\u001b[31m!!!!!!!!!!!!!!!!!!!!!!!!!!!!!!!\u001b[0m\n"
     ]
    }
   ],
   "source": [
    "%connect serial:///dev/ttyAMA1\n",
    "%rsync\n",
    "%softreset"
   ]
  },
  {
   "cell_type": "code",
   "execution_count": 1,
   "id": "ce2657e1-9348-4461-9ae3-53099adada60",
   "metadata": {},
   "outputs": [],
   "source": [
    "from pyb import UART\n",
    "\n",
    "uart = UART(3, 1_000_000, timeout=500)\n",
    "ctrl = getattr(__import__(\"speed_control\"), \"Control\")\n",
    "controller = ctrl(uart)\n"
   ]
  },
  {
   "cell_type": "code",
   "execution_count": 1,
   "id": "3229f3f3-7257-4180-84a7-77c7749d902a",
   "metadata": {},
   "outputs": [
    {
     "name": "stdout",
     "output_type": "stream",
     "text": [
      "array('f', [6435.0, -87.0896, 0.0, 0.0, 0.0, 0.0, 2493.0, 2869.0])\n"
     ]
    }
   ],
   "source": [
    "print(controller.state)"
   ]
  },
  {
   "cell_type": "code",
   "execution_count": 1,
   "id": "65d2191b-c66f-48a4-a70f-354555521b26",
   "metadata": {},
   "outputs": [
    {
     "name": "stdout",
     "output_type": "stream",
     "text": [
      "array('f', [8183.0, -87.0896, 0.0, 0.0, 0.0, 0.0, 688.0, 1064.0])\n"
     ]
    }
   ],
   "source": [
    "print(controller.state)"
   ]
  },
  {
   "cell_type": "code",
   "execution_count": null,
   "id": "f01fcc9a-99d3-43e9-b5c6-67240623c037",
   "metadata": {},
   "outputs": [],
   "source": []
  },
  {
   "cell_type": "code",
   "execution_count": 2,
   "id": "97ba9bf0-3ba5-42b4-93ab-1c225b5c32f7",
   "metadata": {},
   "outputs": [
    {
     "name": "stdout",
     "output_type": "stream",
     "text": [
      "read b''\n",
      "read b''\n",
      "read b''\n"
     ]
    }
   ],
   "source": [
    "%%host\n",
    "import nest_asyncio, sys, os\n",
    "nest_asyncio.apply()\n",
    "sys.path.append(os.path.join(os.getenv('IOT_PROJECTS'), 'robot/code/rpi'))\n",
    "\n",
    "import stm32\n",
    "from serial import Serial\n",
    "\n",
    "stm32.exec_no_follow(\"\"\"\n",
    "from pyb import UART\n",
    "uart = UART(3, 9600, timeout=500)\n",
    "\n",
    "while True:\n",
    "    t = uart.readchar()\n",
    "    if t < 0: continue\n",
    "    print(f\"cmd_handler t = {t}\")\n",
    "    uart.writechar(t)\n",
    "\"\"\")\n",
    "\n",
    "uart = Serial(port='/dev/ttyAMA2', baudrate=9600, \n",
    "              timeout=2, write_timeout=1, exclusive=False)\n",
    "\n",
    "for i in range(3):\n",
    "    uart.write(bytes([i]))\n",
    "    print(\"read\", uart.read(1))"
   ]
  },
  {
   "cell_type": "code",
   "execution_count": null,
   "id": "936e2bb2-1ae8-45ae-9c15-e3b196aeecf4",
   "metadata": {},
   "outputs": [],
   "source": []
  }
 ],
 "metadata": {
  "kernelspec": {
   "display_name": "IoT",
   "language": "python",
   "name": "iot_kernel"
  },
  "language_info": {
   "codemirror_mode": {
    "name": "python",
    "version": 3
   },
   "file_extension": ".py",
   "mimetype": "text/x-python",
   "name": "python",
   "pygments_lexer": "python3",
   "version": "3"
  }
 },
 "nbformat": 4,
 "nbformat_minor": 5
}
