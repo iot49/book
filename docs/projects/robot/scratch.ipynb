{
 "cells": [
  {
   "cell_type": "markdown",
   "id": "7936134d-8d1a-4078-8a7e-5eefaecbd1e3",
   "metadata": {},
   "source": [
    "# Scratch"
   ]
  },
  {
   "cell_type": "code",
   "execution_count": 1,
   "id": "840e294d-3039-4319-974f-90922e2e1d01",
   "metadata": {},
   "outputs": [
    {
     "name": "stdout",
     "output_type": "stream",
     "text": [
      "\u001b[46m\u001b[30mConnected to robot-stm32 @ serial:///dev/ttyAMA1\u001b[0m\n"
     ]
    }
   ],
   "source": [
    "%connect serial:///dev/ttyAMA1"
   ]
  },
  {
   "cell_type": "code",
   "execution_count": 1,
   "id": "d0a4c8cd-5c63-4204-be48-b41061f2d54a",
   "metadata": {},
   "outputs": [
    {
     "name": "stdout",
     "output_type": "stream",
     "text": [
      "duty\n"
     ]
    }
   ],
   "source": [
    "b = b'duty'\n",
    "print(b.decode())"
   ]
  },
  {
   "cell_type": "code",
   "execution_count": 1,
   "id": "817c8aeb-44bb-403d-9530-430007b48dea",
   "metadata": {},
   "outputs": [],
   "source": [
    "5"
   ]
  },
  {
   "cell_type": "code",
   "execution_count": 1,
   "id": "c4067bb9-7d1e-4911-adef-6e0d81f05f5e",
   "metadata": {},
   "outputs": [
    {
     "name": "stdout",
     "output_type": "stream",
     "text": [
      "\u001b[34mUPDATE  /flash/lib/controller.py\n",
      "\u001b[0m\u001b[34mUPDATE  /flash/lib/param.py\n",
      "\u001b[0m"
     ]
    }
   ],
   "source": [
    "%rsync"
   ]
  },
  {
   "cell_type": "code",
   "execution_count": 1,
   "id": "a598f44e-8b2c-4109-abb6-7adf35d0268b",
   "metadata": {},
   "outputs": [
    {
     "name": "stdout",
     "output_type": "stream",
     "text": [
      "                            \u001b[32mflash/\u001b[0m\n",
      "                                \u001b[32mlib/\u001b[0m\n",
      "   6491  Jan 15 16:00 2022          \u001b[34mbno055.py\u001b[0m\n",
      "   5598  Jan 15 16:00 2022          \u001b[34mbno055_base.py\u001b[0m\n",
      "   1078  Jan 15 16:00 2022          \u001b[34mbno055_test.py\u001b[0m\n",
      "   1881  Jan 17 11:55 2022          \u001b[34mcomm.py\u001b[0m\n",
      "   4051  Jan 17 10:59 2022          \u001b[34mcontroller.py\u001b[0m\n",
      "    424  Jan 16 17:57 2022          \u001b[34mduty_control.py\u001b[0m\n",
      "   2073  Jan 15 16:00 2022          \u001b[34mencoder.py\u001b[0m\n",
      "   1545  Jan 17 11:25 2022          \u001b[34mparam.py\u001b[0m\n",
      "   2599  Jan 15 16:00 2022          \u001b[34mpid.py\u001b[0m\n",
      "   1037  Jan 15 16:00 2022          \u001b[34mtb6612.py\u001b[0m\n",
      "    317  Jan 15 16:00 2022      \u001b[34msecrets.py\u001b[0m\n"
     ]
    }
   ],
   "source": [
    "%rlist"
   ]
  },
  {
   "cell_type": "code",
   "execution_count": 1,
   "id": "5a2dae2f-d4f4-4715-beae-0df9acf22b78",
   "metadata": {},
   "outputs": [
    {
     "name": "stdout",
     "output_type": "stream",
     "text": [
      "\u001b[32mDirectories match\n",
      "\u001b[0m"
     ]
    }
   ],
   "source": [
    "%rdiff"
   ]
  },
  {
   "cell_type": "code",
   "execution_count": 1,
   "id": "df619166-4270-405d-b7b3-f90c4c4588fd",
   "metadata": {},
   "outputs": [
    {
     "name": "stdout",
     "output_type": "stream",
     "text": [
      "4.1943e+06\n"
     ]
    }
   ],
   "source": [
    "f = 4_000_000.0\n",
    "while f < f+1:\n",
    "    f = f+1\n",
    "print(f)"
   ]
  },
  {
   "cell_type": "code",
   "execution_count": 1,
   "id": "93dd8299-68b6-4e62-b057-75a83f574b4c",
   "metadata": {},
   "outputs": [
    {
     "name": "stdout",
     "output_type": "stream",
     "text": [
      "-4.1943e+06\n"
     ]
    }
   ],
   "source": [
    "f = -4_000_000.0\n",
    "while f > f-1:\n",
    "    f = f-1\n",
    "print(f)"
   ]
  },
  {
   "cell_type": "code",
   "execution_count": 1,
   "id": "ee4921e9-464f-4470-9ffc-5bccccaa0df5",
   "metadata": {},
   "outputs": [
    {
     "name": "stdout",
     "output_type": "stream",
     "text": [
      "838.861\n"
     ]
    }
   ],
   "source": [
    "print((2**22)/5000)"
   ]
  },
  {
   "cell_type": "code",
   "execution_count": null,
   "id": "7a233972-5e9a-4190-b868-f0e63cdebb96",
   "metadata": {},
   "outputs": [],
   "source": []
  }
 ],
 "metadata": {
  "kernelspec": {
   "display_name": "IoT",
   "language": "python",
   "name": "iot_kernel"
  },
  "language_info": {
   "codemirror_mode": {
    "name": "python",
    "version": 3
   },
   "file_extension": ".py",
   "mimetype": "text/x-python",
   "name": "python",
   "pygments_lexer": "python3",
   "version": "3"
  }
 },
 "nbformat": 4,
 "nbformat_minor": 5
}
