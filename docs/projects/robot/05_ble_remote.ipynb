{
 "cells": [
  {
   "cell_type": "markdown",
   "id": "07e1b210-fd1b-4ca3-8a9a-a11666b7fad1",
   "metadata": {},
   "source": [
    "# BLE Remote Control"
   ]
  },
  {
   "cell_type": "code",
   "execution_count": null,
   "id": "5f30c5cd-620e-49d3-9903-23fb6bb2f5f1",
   "metadata": {},
   "outputs": [],
   "source": []
  }
 ],
 "metadata": {
  "kernelspec": {
   "display_name": "IoT",
   "language": "python",
   "name": "iot_kernel"
  },
  "language_info": {
   "codemirror_mode": {
    "name": "python",
    "version": 3
   },
   "file_extension": ".py",
   "mimetype": "text/x-python",
   "name": "python",
   "pygments_lexer": "python3",
   "version": "3"
  }
 },
 "nbformat": 4,
 "nbformat_minor": 5
}
