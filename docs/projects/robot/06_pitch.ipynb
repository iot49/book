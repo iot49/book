{
 "cells": [
  {
   "cell_type": "markdown",
   "id": "766d0fc7-2949-4380-b303-acc70bdaf5b4",
   "metadata": {},
   "source": [
    "# Pitch Control"
   ]
  },
  {
   "cell_type": "markdown",
   "id": "0f184555-674b-4db8-b6a0-3f4743eb32b1",
   "metadata": {},
   "source": [
    "![](figures/PID_en.svg)"
   ]
  },
  {
   "cell_type": "markdown",
   "id": "36ef0748-c569-4c19-8525-62d81ec07a73",
   "metadata": {},
   "source": [
    "* r --> desired\n",
    "* y --> actual pitch\n",
    "* u --> duty"
   ]
  },
  {
   "cell_type": "code",
   "execution_count": 1,
   "id": "36a8cff6-7dbd-48dc-b853-93cf7adaa02d",
   "metadata": {},
   "outputs": [
    {
     "name": "stdout",
     "output_type": "stream",
     "text": [
      "\u001b[46m\u001b[30mConnected to robot-stm32 @ serial:///dev/ttyAMA1\u001b[0m\n"
     ]
    }
   ],
   "source": [
    "%connect serial:///dev/ttyAMA1"
   ]
  },
  {
   "cell_type": "markdown",
   "id": "056a8eaa-5176-4a3a-b489-da22fc436aac",
   "metadata": {},
   "source": [
    "PID controller:"
   ]
  },
  {
   "cell_type": "code",
   "execution_count": 4,
   "id": "ecc54c52-5db9-409e-85da-2ea3cdcb34f4",
   "metadata": {},
   "outputs": [
    {
     "name": "stdout",
     "output_type": "stream",
     "text": [
      "Writing /home/iot/iot49.org/docs/projects/robot/code/stm32/lib/PID.py\n"
     ]
    }
   ],
   "source": [
    "%%writefile $IOT_PROJECTS/robot/code/stm32/lib/PID.py\n",
    "# Based on https://github.com/br3ttb/Arduino-PID-Library\n",
    "\n",
    "from array import array\n",
    "\n",
    "# config vector (may be dynamically updated)\n",
    "SETPOINT = const(0)  # setpoint            \n",
    "KP       = const(1)  # proportional term\n",
    "KI       = const(2)  # scaled by /fs\n",
    "KD       = const(3)  # scaled by *fs\n",
    "U_MIN    = const(4)  # minimum PID output (anti-windup)\n",
    "U_MAX    = const(5)  # maximum PID output (anti-windup)\n",
    "\n",
    "# state (used internally)\n",
    "_SUM     = const(0)\n",
    "_Y       = const(1)\n",
    "\n",
    "class PID:\n",
    "    \n",
    "    def __init__(self, config):\n",
    "        self.config = config\n",
    "        self.state = array('f', [0, 0])\n",
    "    \n",
    "    def update(self, y):\n",
    "        \"\"\"compute & return new PID output u from plant output y\"\"\"\n",
    "        c = self.config\n",
    "        s = self.state\n",
    "        err = c[SETPOINT] - y\n",
    "        s[_SUM] += self._clip(c[KI] * err)   # integrator state\n",
    "        u = self._clip(c[KP] * err + s[_SUM] - c[KD] * (y - s[_Y]))\n",
    "        s[_Y] = y   # save last y (for KD term)\n",
    "        return u\n",
    "    \n",
    "    def _clip(self, value):\n",
    "        c = self.config\n",
    "        if value > c[U_MAX]: return c[U_MAX]\n",
    "        if value < c[U_MIN]: return c[U_MIN]\n",
    "        return value"
   ]
  },
  {
   "cell_type": "markdown",
   "id": "9a11d40a-41f5-4eea-a54c-2b116e574d58",
   "metadata": {},
   "source": [
    "Pitch controller:"
   ]
  },
  {
   "cell_type": "code",
   "execution_count": 3,
   "id": "14c4daca-9a9f-42ce-bc46-86b43ecc1a3a",
   "metadata": {},
   "outputs": [
    {
     "name": "stdout",
     "output_type": "stream",
     "text": [
      "Writing /home/iot/iot49.org/docs/projects/robot/code/stm32/lib/pitch_control.py\n"
     ]
    }
   ],
   "source": [
    "%%writefile $IOT_PROJECTS/robot/code/stm32/lib/pitch_control.py\n",
    "from controller import *\n",
    "from param import PARAM, PARAM_RESERVED\n",
    "from pid import PID\n",
    "\n",
    "\n",
    "P0 = const(2)\n",
    "assert P0 == PARAM_RESERVED\n",
    "\n",
    "SET_PITCH = const(P0+0)\n",
    "KP        = const(P0+1)\n",
    "KI        = const(P0+2)\n",
    "KD        = const(P0+3)\n",
    "U_MIN     = const(P0+4)\n",
    "U_MAX     = const(P0+5)\n",
    "\n",
    "class Control(Controller):\n",
    "    \n",
    "    def __init__(self, uart):\n",
    "        super().__init__(uart)\n",
    "        self.pid = PID(memoryview(PARAM)[SET_PITCH:U_MAX+1])\n",
    "    \n",
    "    def update(self):\n",
    "        state = self.state\n",
    "        pitch = state[STATE_PITCH]\n",
    "        if abs(pitch) < 10:\n",
    "            duty = self.fix_duty(self.pid.update(pitch))\n",
    "        else:\n",
    "            duty = 0\n",
    "            state[STATE_DUTY1] = state[STATE_DUTY2] = duty\n",
    "        \n",
    "    @staticmethod\n",
    "    def fix_duty(duty):\n",
    "        if abs(duty) > 1:\n",
    "            duty = duty+8.5 if duty>0 else duty-8.5\n",
    "        return duty"
   ]
  },
  {
   "cell_type": "markdown",
   "id": "f833c954-90cc-40ab-b559-ce7aeab1d3dd",
   "metadata": {},
   "source": [
    "Run the show ..."
   ]
  },
  {
   "cell_type": "code",
   "execution_count": 3,
   "id": "15e31043-4484-4239-9614-d25f1b82063f",
   "metadata": {},
   "outputs": [
    {
     "name": "stdout",
     "output_type": "stream",
     "text": [
      "plot @ http://pi4robot.local:5006\n",
      "\u001b[34mUPDATE  /flash/lib/pitch_control.py\n",
      "\u001b[0mMCU: >\n",
      "     MicroPython v1.17-195-gbb7aae557 on 2022-01-09; Motor Hat with STM32F405RG\n",
      "     Type \"help()\" for \n",
      "reset stm32\n",
      "*** MCU: start Comm @ 1000000 baud\n",
      "\n",
      "starting ..., fs = 100.0\n",
      "started!\n",
      "orient robot upright, pitch 90 --> 0\n",
      "orient robot upright, pitch -85.60543823242188 --> 0\n",
      "orient robot upright, pitch -85.60543823242188 --> 0\n",
      "orient robot upright, pitch -85.60543823242188 --> 0\n",
      "orient robot upright, pitch -85.60543823242188 --> 0\n",
      "orient robot upright, pitch -85.60543823242188 --> 0\n",
      "orient robot upright, pitch -85.60543823242188 --> 0\n",
      "orient robot upright, pitch -85.60543823242188 --> 0\n",
      "orient robot upright, pitch -85.00543212890625 --> 0\n",
      "orient robot upright, pitch -75.95443725585938 --> 0\n",
      "orient robot upright, pitch -67.16485595703125 --> 0\n",
      "orient robot upright, pitch -28.488067626953125 --> 0\n",
      "orient robot upright, pitch -7.919513702392578 --> 0\n",
      "balancing, pitch =    -2.15\n",
      "balancing, pitch =     1.23\n",
      "balancing, pitch =     3.59\n",
      "balancing, pitch =     3.21\n",
      "balancing, pitch =     1.85\n",
      "balancing, pitch =     1.03\n",
      "balancing, pitch =     0.36\n",
      "balancing, pitch =     1.60\n",
      "balancing, pitch =    -1.45\n",
      "balancing, pitch =    -1.86\n",
      "balancing, pitch =     0.46\n",
      "balancing, pitch =     7.57\n",
      "balancing, pitch =    -2.77\n",
      "balancing, pitch =     0.79\n",
      "balancing, pitch =     9.62\n",
      "balancing, pitch =     9.60\n",
      "main DONE\n"
     ]
    }
   ],
   "source": [
    "%%host\n",
    "\n",
    "import nest_asyncio, sys, os\n",
    "nest_asyncio.apply()\n",
    "sys.path.append(os.path.join(os.getenv('IOT_PROJECTS'), 'robot/code/rpi'))\n",
    "\n",
    "from asyncio_mqtt import Client\n",
    "from struct import pack\n",
    "import numpy as np\n",
    "import asyncio, json, os\n",
    "\n",
    "import stm32\n",
    "from robot import *\n",
    "\n",
    "print(f\"plot @ http://{os.getenv('DNS_NAME')}.local:5006\")\n",
    "\n",
    "MQTT_BROKER = os.getenv(\"HOST_IP\")\n",
    "TOPIC_ROOT  = \"public/vis\"\n",
    "\n",
    "P0          = PARAM_RESERVED\n",
    "\n",
    "SET_PITCH   = const(P0+0)\n",
    "KP          = const(P0+1)\n",
    "KI          = const(P0+2)\n",
    "KD          = const(P0+3)\n",
    "U_MIN       = const(P0+4)\n",
    "U_MAX       = const(P0+5)\n",
    "\n",
    "FS          = 100        # controller update rate\n",
    "\n",
    "\n",
    "class Control:\n",
    "\n",
    "    def __init__(self, controller):\n",
    "        self.controller = controller\n",
    "        self.pitch = 90\n",
    "\n",
    "    async def main(self):\n",
    "        async with Client(MQTT_BROKER) as client, \\\n",
    "            Comm(self.state_listener) as robot:\n",
    "            self.client = client\n",
    "            await client.publish(f\"{TOPIC_ROOT}/new\", json.dumps({\n",
    "                \"columns\": [ \"time [s]\", \"pitch\", \"duty\" ],\n",
    "                \"rollover\": 1000,\n",
    "                \"args\": { \"title\": f\"Robot {self.controller}\" },\n",
    "            }))\n",
    "            await robot.set(PARAM_FS, FS)\n",
    "            print(\"starting ..., fs =\", await robot.get(PARAM_FS))\n",
    "            await robot.start(self.controller)\n",
    "            print(\"started!\")\n",
    "            # wait for upright position\n",
    "            while abs(self.pitch) > 3:\n",
    "                print(f\"orient robot upright, pitch {self.pitch} --> 0\")\n",
    "                await asyncio.sleep(1)\n",
    "            # balancing ...\n",
    "            while abs(self.pitch) <= 10:\n",
    "                print(f\"balancing, pitch = {self.pitch:8.2f}\")\n",
    "                await asyncio.sleep(1)\n",
    "            print(\"main DONE\")\n",
    "\n",
    "    async def state_listener(self, state):\n",
    "        try:\n",
    "            t = state[STATE_K]/FS\n",
    "            duty = state[STATE_DUTY1]\n",
    "            self.pitch = state[STATE_PITCH]\n",
    "            await self.client.publish(f\"{TOPIC_ROOT}/bin\", \n",
    "                                      pack('!3f', t, self.pitch, duty))\n",
    "        except Exception as e:\n",
    "            print(\"***** state_listener:\", e)\n",
    "            \n",
    "    async def kp(self, value):\n",
    "        await robot.set(PARAM_KP, value)\n",
    "        \n",
    "    async def ki(self, value):\n",
    "        await robot.set(PARAM_KI, value/FS)\n",
    "        \n",
    "    async def kd(self, value):\n",
    "        await robot.set(PARAM_KD, value*FS)\n",
    "\n",
    "stm32.rsync()\n",
    "\n",
    "c = Control(\"pitch_control\")\n",
    "asyncio.run(c.main())"
   ]
  },
  {
   "cell_type": "code",
   "execution_count": null,
   "id": "30bbc65e-a8a8-4700-bf69-2d71e16e20e1",
   "metadata": {},
   "outputs": [],
   "source": []
  }
 ],
 "metadata": {
  "kernelspec": {
   "display_name": "IoT",
   "language": "python",
   "name": "iot_kernel"
  },
  "language_info": {
   "codemirror_mode": {
    "name": "python",
    "version": 3
   },
   "file_extension": ".py",
   "mimetype": "text/x-python",
   "name": "python",
   "pygments_lexer": "python3",
   "version": "3"
  }
 },
 "nbformat": 4,
 "nbformat_minor": 5
}
