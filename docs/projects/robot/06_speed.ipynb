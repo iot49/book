{
 "cells": [
  {
   "cell_type": "markdown",
   "id": "f09cbbae-07b4-4d73-8189-f314534aefdb",
   "metadata": {},
   "source": [
    "# Motor Speed vs Duty Cycle\n",
    "\n",
    "The relation of motor rpm and duty cycle is nonlinear, especially around the origin. This can lead to problems with feedback control.\n",
    "\n",
    "Ideally motor rpm should be proportional to the input. Unfortunately, simply control\n",
    "\n",
    "Setup the environment:"
   ]
  },
  {
   "cell_type": "code",
   "execution_count": 3,
   "id": "4e617d9b-656a-424c-9105-72f1c39eb0cd",
   "metadata": {},
   "outputs": [],
   "source": [
    "%%host\n",
    "import nest_asyncio, sys, os\n",
    "nest_asyncio.apply()\n",
    "sys.path.append(os.path.join(os.getenv('IOT_PROJECTS'), 'robot/code/rpi'))"
   ]
  },
  {
   "cell_type": "markdown",
   "id": "de9b7a57-78ae-40d6-8be8-1afe6715e81e",
   "metadata": {},
   "source": [
    "## Open Loop Response"
   ]
  },
  {
   "cell_type": "code",
   "execution_count": 4,
   "id": "509d05dd-98d7-4886-acb1-ee6ed0ff874f",
   "metadata": {},
   "outputs": [
    {
     "name": "stdout",
     "output_type": "stream",
     "text": [
      "plot @ http://pi4robot.local:5006\n",
      "MCU: start Comm @ 1000000 baud\n",
      "     \n",
      "wait\n",
      "_cmd_response 255\n",
      "*** PI: unknown type: 255\n",
      "MCU: >\n",
      "     MicroPython v1.17-195-gbb7aae557 on 2022-01-09; Motor Hat with STM32F405RG\n",
      "     Type \"help()\" for more information.\n",
      "     >>> \n",
      "MCU: >\n",
      "MCU: \n",
      "     MicroPython v1.17-195-gbb7aae557 on 2022-01-09; Motor Hat with STM32F405RG\n",
      "     Type \"help()\" for more information.\n",
      "     >>> \n",
      "MCU: MPY: can't mount SD card\n",
      "     MicroPython v1.17-195-gbb7aae557 on 2022-01-09; Motor Hat with STM32F405RG\n",
      "     Type \"help()\" for more information.\n",
      "     >>> \n"
     ]
    },
    {
     "ename": "RuntimeError",
     "evalue": "Event loop stopped before Future completed.",
     "output_type": "error",
     "traceback": [
      "\u001b[0;31m---------------------------------------------------------------------------\u001b[0m",
      "\u001b[0;31mKeyboardInterrupt\u001b[0m                         Traceback (most recent call last)",
      "\u001b[0;32m/opt/conda/lib/python3.9/site-packages/nest_asyncio.py\u001b[0m in \u001b[0;36mrun\u001b[0;34m(main, debug)\u001b[0m\n\u001b[1;32m     37\u001b[0m         \u001b[0;32mtry\u001b[0m\u001b[0;34m:\u001b[0m\u001b[0;34m\u001b[0m\u001b[0;34m\u001b[0m\u001b[0m\n\u001b[0;32m---> 38\u001b[0;31m             \u001b[0;32mreturn\u001b[0m \u001b[0mloop\u001b[0m\u001b[0;34m.\u001b[0m\u001b[0mrun_until_complete\u001b[0m\u001b[0;34m(\u001b[0m\u001b[0mtask\u001b[0m\u001b[0;34m)\u001b[0m\u001b[0;34m\u001b[0m\u001b[0;34m\u001b[0m\u001b[0m\n\u001b[0m\u001b[1;32m     39\u001b[0m         \u001b[0;32mfinally\u001b[0m\u001b[0;34m:\u001b[0m\u001b[0;34m\u001b[0m\u001b[0;34m\u001b[0m\u001b[0m\n",
      "\u001b[0;32m/opt/conda/lib/python3.9/site-packages/nest_asyncio.py\u001b[0m in \u001b[0;36mrun_until_complete\u001b[0;34m(self, future)\u001b[0m\n\u001b[1;32m     74\u001b[0m             \u001b[0;32mwhile\u001b[0m \u001b[0;32mnot\u001b[0m \u001b[0mf\u001b[0m\u001b[0;34m.\u001b[0m\u001b[0mdone\u001b[0m\u001b[0;34m(\u001b[0m\u001b[0;34m)\u001b[0m\u001b[0;34m:\u001b[0m\u001b[0;34m\u001b[0m\u001b[0;34m\u001b[0m\u001b[0m\n\u001b[0;32m---> 75\u001b[0;31m                 \u001b[0mself\u001b[0m\u001b[0;34m.\u001b[0m\u001b[0m_run_once\u001b[0m\u001b[0;34m(\u001b[0m\u001b[0;34m)\u001b[0m\u001b[0;34m\u001b[0m\u001b[0;34m\u001b[0m\u001b[0m\n\u001b[0m\u001b[1;32m     76\u001b[0m                 \u001b[0;32mif\u001b[0m \u001b[0mself\u001b[0m\u001b[0;34m.\u001b[0m\u001b[0m_stopping\u001b[0m\u001b[0;34m:\u001b[0m\u001b[0;34m\u001b[0m\u001b[0;34m\u001b[0m\u001b[0m\n",
      "\u001b[0;32m/opt/conda/lib/python3.9/site-packages/nest_asyncio.py\u001b[0m in \u001b[0;36m_run_once\u001b[0;34m(self)\u001b[0m\n\u001b[1;32m     97\u001b[0m             else None)\n\u001b[0;32m---> 98\u001b[0;31m         \u001b[0mevent_list\u001b[0m \u001b[0;34m=\u001b[0m \u001b[0mself\u001b[0m\u001b[0;34m.\u001b[0m\u001b[0m_selector\u001b[0m\u001b[0;34m.\u001b[0m\u001b[0mselect\u001b[0m\u001b[0;34m(\u001b[0m\u001b[0mtimeout\u001b[0m\u001b[0;34m)\u001b[0m\u001b[0;34m\u001b[0m\u001b[0;34m\u001b[0m\u001b[0m\n\u001b[0m\u001b[1;32m     99\u001b[0m         \u001b[0mself\u001b[0m\u001b[0;34m.\u001b[0m\u001b[0m_process_events\u001b[0m\u001b[0;34m(\u001b[0m\u001b[0mevent_list\u001b[0m\u001b[0;34m)\u001b[0m\u001b[0;34m\u001b[0m\u001b[0;34m\u001b[0m\u001b[0m\n",
      "\u001b[0;32m/opt/conda/lib/python3.9/selectors.py\u001b[0m in \u001b[0;36mselect\u001b[0;34m(self, timeout)\u001b[0m\n\u001b[1;32m    468\u001b[0m             \u001b[0;32mtry\u001b[0m\u001b[0;34m:\u001b[0m\u001b[0;34m\u001b[0m\u001b[0;34m\u001b[0m\u001b[0m\n\u001b[0;32m--> 469\u001b[0;31m                 \u001b[0mfd_event_list\u001b[0m \u001b[0;34m=\u001b[0m \u001b[0mself\u001b[0m\u001b[0;34m.\u001b[0m\u001b[0m_selector\u001b[0m\u001b[0;34m.\u001b[0m\u001b[0mpoll\u001b[0m\u001b[0;34m(\u001b[0m\u001b[0mtimeout\u001b[0m\u001b[0;34m,\u001b[0m \u001b[0mmax_ev\u001b[0m\u001b[0;34m)\u001b[0m\u001b[0;34m\u001b[0m\u001b[0;34m\u001b[0m\u001b[0m\n\u001b[0m\u001b[1;32m    470\u001b[0m             \u001b[0;32mexcept\u001b[0m \u001b[0mInterruptedError\u001b[0m\u001b[0;34m:\u001b[0m\u001b[0;34m\u001b[0m\u001b[0;34m\u001b[0m\u001b[0m\n",
      "\u001b[0;31mKeyboardInterrupt\u001b[0m: ",
      "\nDuring handling of the above exception, another exception occurred:\n",
      "\u001b[0;31mRuntimeError\u001b[0m                              Traceback (most recent call last)",
      "\u001b[0;32m/tmp/ipykernel_312/3150522208.py\u001b[0m in \u001b[0;36m<module>\u001b[0;34m\u001b[0m\n\u001b[1;32m     45\u001b[0m \u001b[0;34m\u001b[0m\u001b[0m\n\u001b[1;32m     46\u001b[0m \u001b[0mdc\u001b[0m \u001b[0;34m=\u001b[0m \u001b[0mDutyControl\u001b[0m\u001b[0;34m(\u001b[0m\u001b[0;34m)\u001b[0m\u001b[0;34m\u001b[0m\u001b[0;34m\u001b[0m\u001b[0m\n\u001b[0;32m---> 47\u001b[0;31m \u001b[0masyncio\u001b[0m\u001b[0;34m.\u001b[0m\u001b[0mrun\u001b[0m\u001b[0;34m(\u001b[0m\u001b[0mdc\u001b[0m\u001b[0;34m.\u001b[0m\u001b[0mmain\u001b[0m\u001b[0;34m(\u001b[0m\u001b[0;34m)\u001b[0m\u001b[0;34m)\u001b[0m\u001b[0;34m\u001b[0m\u001b[0;34m\u001b[0m\u001b[0m\n\u001b[0m",
      "\u001b[0;32m/opt/conda/lib/python3.9/site-packages/nest_asyncio.py\u001b[0m in \u001b[0;36mrun\u001b[0;34m(main, debug)\u001b[0m\n\u001b[1;32m     41\u001b[0m                 \u001b[0mtask\u001b[0m\u001b[0;34m.\u001b[0m\u001b[0mcancel\u001b[0m\u001b[0;34m(\u001b[0m\u001b[0;34m)\u001b[0m\u001b[0;34m\u001b[0m\u001b[0;34m\u001b[0m\u001b[0m\n\u001b[1;32m     42\u001b[0m                 \u001b[0;32mwith\u001b[0m \u001b[0msuppress\u001b[0m\u001b[0;34m(\u001b[0m\u001b[0masyncio\u001b[0m\u001b[0;34m.\u001b[0m\u001b[0mCancelledError\u001b[0m\u001b[0;34m)\u001b[0m\u001b[0;34m:\u001b[0m\u001b[0;34m\u001b[0m\u001b[0;34m\u001b[0m\u001b[0m\n\u001b[0;32m---> 43\u001b[0;31m                     \u001b[0mloop\u001b[0m\u001b[0;34m.\u001b[0m\u001b[0mrun_until_complete\u001b[0m\u001b[0;34m(\u001b[0m\u001b[0mtask\u001b[0m\u001b[0;34m)\u001b[0m\u001b[0;34m\u001b[0m\u001b[0;34m\u001b[0m\u001b[0m\n\u001b[0m\u001b[1;32m     44\u001b[0m \u001b[0;34m\u001b[0m\u001b[0m\n\u001b[1;32m     45\u001b[0m     \u001b[0;32mif\u001b[0m \u001b[0msys\u001b[0m\u001b[0;34m.\u001b[0m\u001b[0mversion_info\u001b[0m \u001b[0;34m>=\u001b[0m \u001b[0;34m(\u001b[0m\u001b[0;36m3\u001b[0m\u001b[0;34m,\u001b[0m \u001b[0;36m6\u001b[0m\u001b[0;34m,\u001b[0m \u001b[0;36m0\u001b[0m\u001b[0;34m)\u001b[0m\u001b[0;34m:\u001b[0m\u001b[0;34m\u001b[0m\u001b[0;34m\u001b[0m\u001b[0m\n",
      "\u001b[0;32m/opt/conda/lib/python3.9/site-packages/nest_asyncio.py\u001b[0m in \u001b[0;36mrun_until_complete\u001b[0;34m(self, future)\u001b[0m\n\u001b[1;32m     77\u001b[0m                     \u001b[0;32mbreak\u001b[0m\u001b[0;34m\u001b[0m\u001b[0;34m\u001b[0m\u001b[0m\n\u001b[1;32m     78\u001b[0m             \u001b[0;32mif\u001b[0m \u001b[0;32mnot\u001b[0m \u001b[0mf\u001b[0m\u001b[0;34m.\u001b[0m\u001b[0mdone\u001b[0m\u001b[0;34m(\u001b[0m\u001b[0;34m)\u001b[0m\u001b[0;34m:\u001b[0m\u001b[0;34m\u001b[0m\u001b[0;34m\u001b[0m\u001b[0m\n\u001b[0;32m---> 79\u001b[0;31m                 raise RuntimeError(\n\u001b[0m\u001b[1;32m     80\u001b[0m                     'Event loop stopped before Future completed.')\n\u001b[1;32m     81\u001b[0m             \u001b[0;32mreturn\u001b[0m \u001b[0mf\u001b[0m\u001b[0;34m.\u001b[0m\u001b[0mresult\u001b[0m\u001b[0;34m(\u001b[0m\u001b[0;34m)\u001b[0m\u001b[0;34m\u001b[0m\u001b[0;34m\u001b[0m\u001b[0m\n",
      "\u001b[0;31mRuntimeError\u001b[0m: Event loop stopped before Future completed."
     ]
    }
   ],
   "source": [
    "%%host\n",
    "from asyncio_mqtt import Client\n",
    "from struct import pack\n",
    "import numpy as np\n",
    "import asyncio, json, os\n",
    "\n",
    "import stm32\n",
    "from robot import *\n",
    "\n",
    "print(f\"plot @ http://{os.getenv('DNS_NAME')}.local:5006\")\n",
    "\n",
    "MQTT_BROKER = os.getenv(\"HOST_IP\")\n",
    "TOPIC_ROOT = \"public/vis\"\n",
    "\n",
    "PARAM_DUTY1  = const(PARAM_RESERVED+0)   # motor1 duty cycle setpoint\n",
    "PARAM_DUTY2  = const(PARAM_RESERVED+1)   # motor2 duty cycle setpoint\n",
    "\n",
    "class DutyControl:\n",
    "\n",
    "    async def main(self):\n",
    "        async with Client(MQTT_BROKER) as client, \\\n",
    "            Comm(self.state_listener) as robot:\n",
    "            self.client = client\n",
    "            await client.publish(f\"{TOPIC_ROOT}/new\", json.dumps({\n",
    "                \"columns\": [ \"duty [%]\", \"cpt\" ],\n",
    "                \"rollover\": 1000,\n",
    "                \"args\": { \"title\": \"Robot CPT vs Duty Cycle\" },\n",
    "            }))\n",
    "            await robot.set(PARAM_FS, 5)\n",
    "            await robot.start('duty_control')\n",
    "            for duty in np.linspace(-100, 100, 50):\n",
    "                await robot.set(PARAM_DUTY1, duty)\n",
    "                await asyncio.sleep(1)\n",
    "            for duty in np.linspace(100, -100, 50):\n",
    "                await robot.set(PARAM_DUTY1, duty)\n",
    "                await asyncio.sleep(1)\n",
    "\n",
    "    async def state_listener(self, state):\n",
    "        try:\n",
    "            duty = state[STATE_DUTY1]\n",
    "            cpt1 = state[STATE_CPT1]\n",
    "            await self.client.publish(f\"{TOPIC_ROOT}/bin\", pack('!2f', duty, cpt1))\n",
    "        except Exception as e:\n",
    "            print(\"*****\", e)\n",
    "\n",
    "\n",
    "dc = DutyControl()\n",
    "asyncio.run(dc.main())"
   ]
  },
  {
   "cell_type": "markdown",
   "id": "41415353-db01-4600-9792-956daff0c8b9",
   "metadata": {},
   "source": [
    "Ah, there is a dead zone around zero. That's not surprising (and of course would be rather \"worse\" with a combustion engine). There is also a little hysteresis. This could pose problems with feedback controllers, especially balancing since that runs the motors around zero speed.\n",
    "\n",
    "![](figures/cpt_vs_duty.png)\n",
    "\n",
    "Let's zoom in:"
   ]
  },
  {
   "cell_type": "code",
   "execution_count": 2,
   "id": "98dcbc75-e9f7-484e-b563-7e642eda4a66",
   "metadata": {},
   "outputs": [
    {
     "name": "stdout",
     "output_type": "stream",
     "text": [
      "plot @ http://pi4robot.local:5006\n",
      "MCU: b'\\x85\\xc9\\xd1\\x81\\r\\xbd\\xb5\\xb5\\x81\\x01\\x81\\xc5\\xc1\\xc1\\xc1\\xc1\\xc1\\xc1\\x81\\x89\\x85\\xd5\\x91kR\\xfe'\n",
      "wait\n"
     ]
    },
    {
     "ename": "KeyboardInterrupt",
     "evalue": "",
     "output_type": "error",
     "traceback": [
      "\u001b[0;31m---------------------------------------------------------------------------\u001b[0m",
      "\u001b[0;31mKeyboardInterrupt\u001b[0m                         Traceback (most recent call last)",
      "\u001b[0;32m/tmp/ipykernel_312/987131674.py\u001b[0m in \u001b[0;36m<module>\u001b[0;34m\u001b[0m\n\u001b[1;32m     55\u001b[0m \u001b[0;34m\u001b[0m\u001b[0m\n\u001b[1;32m     56\u001b[0m \u001b[0mc\u001b[0m \u001b[0;34m=\u001b[0m \u001b[0mControl\u001b[0m\u001b[0;34m(\u001b[0m\u001b[0;34m\"duty_control\"\u001b[0m\u001b[0;34m)\u001b[0m\u001b[0;34m\u001b[0m\u001b[0;34m\u001b[0m\u001b[0m\n\u001b[0;32m---> 57\u001b[0;31m \u001b[0masyncio\u001b[0m\u001b[0;34m.\u001b[0m\u001b[0mrun\u001b[0m\u001b[0;34m(\u001b[0m\u001b[0mc\u001b[0m\u001b[0;34m.\u001b[0m\u001b[0mmain\u001b[0m\u001b[0;34m(\u001b[0m\u001b[0;34m)\u001b[0m\u001b[0;34m)\u001b[0m\u001b[0;34m\u001b[0m\u001b[0;34m\u001b[0m\u001b[0m\n\u001b[0m",
      "\u001b[0;32m/opt/conda/lib/python3.9/site-packages/nest_asyncio.py\u001b[0m in \u001b[0;36mrun\u001b[0;34m(main, debug)\u001b[0m\n\u001b[1;32m     36\u001b[0m         \u001b[0mtask\u001b[0m \u001b[0;34m=\u001b[0m \u001b[0masyncio\u001b[0m\u001b[0;34m.\u001b[0m\u001b[0mensure_future\u001b[0m\u001b[0;34m(\u001b[0m\u001b[0mmain\u001b[0m\u001b[0;34m)\u001b[0m\u001b[0;34m\u001b[0m\u001b[0;34m\u001b[0m\u001b[0m\n\u001b[1;32m     37\u001b[0m         \u001b[0;32mtry\u001b[0m\u001b[0;34m:\u001b[0m\u001b[0;34m\u001b[0m\u001b[0;34m\u001b[0m\u001b[0m\n\u001b[0;32m---> 38\u001b[0;31m             \u001b[0;32mreturn\u001b[0m \u001b[0mloop\u001b[0m\u001b[0;34m.\u001b[0m\u001b[0mrun_until_complete\u001b[0m\u001b[0;34m(\u001b[0m\u001b[0mtask\u001b[0m\u001b[0;34m)\u001b[0m\u001b[0;34m\u001b[0m\u001b[0;34m\u001b[0m\u001b[0m\n\u001b[0m\u001b[1;32m     39\u001b[0m         \u001b[0;32mfinally\u001b[0m\u001b[0;34m:\u001b[0m\u001b[0;34m\u001b[0m\u001b[0;34m\u001b[0m\u001b[0m\n\u001b[1;32m     40\u001b[0m             \u001b[0;32mif\u001b[0m \u001b[0;32mnot\u001b[0m \u001b[0mtask\u001b[0m\u001b[0;34m.\u001b[0m\u001b[0mdone\u001b[0m\u001b[0;34m(\u001b[0m\u001b[0;34m)\u001b[0m\u001b[0;34m:\u001b[0m\u001b[0;34m\u001b[0m\u001b[0;34m\u001b[0m\u001b[0m\n",
      "\u001b[0;32m/opt/conda/lib/python3.9/site-packages/nest_asyncio.py\u001b[0m in \u001b[0;36mrun_until_complete\u001b[0;34m(self, future)\u001b[0m\n\u001b[1;32m     73\u001b[0m                 \u001b[0mf\u001b[0m\u001b[0;34m.\u001b[0m\u001b[0m_log_destroy_pending\u001b[0m \u001b[0;34m=\u001b[0m \u001b[0;32mFalse\u001b[0m\u001b[0;34m\u001b[0m\u001b[0;34m\u001b[0m\u001b[0m\n\u001b[1;32m     74\u001b[0m             \u001b[0;32mwhile\u001b[0m \u001b[0;32mnot\u001b[0m \u001b[0mf\u001b[0m\u001b[0;34m.\u001b[0m\u001b[0mdone\u001b[0m\u001b[0;34m(\u001b[0m\u001b[0;34m)\u001b[0m\u001b[0;34m:\u001b[0m\u001b[0;34m\u001b[0m\u001b[0;34m\u001b[0m\u001b[0m\n\u001b[0;32m---> 75\u001b[0;31m                 \u001b[0mself\u001b[0m\u001b[0;34m.\u001b[0m\u001b[0m_run_once\u001b[0m\u001b[0;34m(\u001b[0m\u001b[0;34m)\u001b[0m\u001b[0;34m\u001b[0m\u001b[0;34m\u001b[0m\u001b[0m\n\u001b[0m\u001b[1;32m     76\u001b[0m                 \u001b[0;32mif\u001b[0m \u001b[0mself\u001b[0m\u001b[0;34m.\u001b[0m\u001b[0m_stopping\u001b[0m\u001b[0;34m:\u001b[0m\u001b[0;34m\u001b[0m\u001b[0;34m\u001b[0m\u001b[0m\n\u001b[1;32m     77\u001b[0m                     \u001b[0;32mbreak\u001b[0m\u001b[0;34m\u001b[0m\u001b[0;34m\u001b[0m\u001b[0m\n",
      "\u001b[0;32m/opt/conda/lib/python3.9/site-packages/nest_asyncio.py\u001b[0m in \u001b[0;36m_run_once\u001b[0;34m(self)\u001b[0m\n\u001b[1;32m     96\u001b[0m                 scheduled[0]._when - self.time(), 0), 86400) if scheduled\n\u001b[1;32m     97\u001b[0m             else None)\n\u001b[0;32m---> 98\u001b[0;31m         \u001b[0mevent_list\u001b[0m \u001b[0;34m=\u001b[0m \u001b[0mself\u001b[0m\u001b[0;34m.\u001b[0m\u001b[0m_selector\u001b[0m\u001b[0;34m.\u001b[0m\u001b[0mselect\u001b[0m\u001b[0;34m(\u001b[0m\u001b[0mtimeout\u001b[0m\u001b[0;34m)\u001b[0m\u001b[0;34m\u001b[0m\u001b[0;34m\u001b[0m\u001b[0m\n\u001b[0m\u001b[1;32m     99\u001b[0m         \u001b[0mself\u001b[0m\u001b[0;34m.\u001b[0m\u001b[0m_process_events\u001b[0m\u001b[0;34m(\u001b[0m\u001b[0mevent_list\u001b[0m\u001b[0;34m)\u001b[0m\u001b[0;34m\u001b[0m\u001b[0;34m\u001b[0m\u001b[0m\n\u001b[1;32m    100\u001b[0m \u001b[0;34m\u001b[0m\u001b[0m\n",
      "\u001b[0;32m/opt/conda/lib/python3.9/selectors.py\u001b[0m in \u001b[0;36mselect\u001b[0;34m(self, timeout)\u001b[0m\n\u001b[1;32m    470\u001b[0m             \u001b[0;32mexcept\u001b[0m \u001b[0mInterruptedError\u001b[0m\u001b[0;34m:\u001b[0m\u001b[0;34m\u001b[0m\u001b[0;34m\u001b[0m\u001b[0m\n\u001b[1;32m    471\u001b[0m                 \u001b[0;32mreturn\u001b[0m \u001b[0mready\u001b[0m\u001b[0;34m\u001b[0m\u001b[0;34m\u001b[0m\u001b[0m\n\u001b[0;32m--> 472\u001b[0;31m             \u001b[0;32mfor\u001b[0m \u001b[0mfd\u001b[0m\u001b[0;34m,\u001b[0m \u001b[0mevent\u001b[0m \u001b[0;32min\u001b[0m \u001b[0mfd_event_list\u001b[0m\u001b[0;34m:\u001b[0m\u001b[0;34m\u001b[0m\u001b[0;34m\u001b[0m\u001b[0m\n\u001b[0m\u001b[1;32m    473\u001b[0m                 \u001b[0mevents\u001b[0m \u001b[0;34m=\u001b[0m \u001b[0;36m0\u001b[0m\u001b[0;34m\u001b[0m\u001b[0;34m\u001b[0m\u001b[0m\n\u001b[1;32m    474\u001b[0m                 \u001b[0;32mif\u001b[0m \u001b[0mevent\u001b[0m \u001b[0;34m&\u001b[0m \u001b[0;34m~\u001b[0m\u001b[0mselect\u001b[0m\u001b[0;34m.\u001b[0m\u001b[0mEPOLLIN\u001b[0m\u001b[0;34m:\u001b[0m\u001b[0;34m\u001b[0m\u001b[0;34m\u001b[0m\u001b[0m\n",
      "\u001b[0;31mKeyboardInterrupt\u001b[0m: "
     ]
    }
   ],
   "source": [
    "%%host\n",
    "\n",
    "import nest_asyncio, sys, os\n",
    "nest_asyncio.apply()\n",
    "sys.path.append(os.path.join(os.getenv('IOT_PROJECTS'), 'robot/code/rpi'))\n",
    "\n",
    "from asyncio_mqtt import Client\n",
    "from struct import pack\n",
    "import numpy as np\n",
    "import asyncio, json, os\n",
    "\n",
    "import stm32\n",
    "from robot import *\n",
    "\n",
    "print(f\"plot @ http://{os.getenv('DNS_NAME')}.local:5006\")\n",
    "\n",
    "MQTT_BROKER = os.getenv(\"HOST_IP\")\n",
    "TOPIC_ROOT = \"public/vis\"\n",
    "\n",
    "PARAM_DUTY1  = const(PARAM_RESERVED+0)   # motor1 duty cycle setpoint\n",
    "PARAM_DUTY2  = const(PARAM_RESERVED+1)   # motor2 duty cycle setpoint\n",
    "\n",
    "\n",
    "class Control:\n",
    "\n",
    "    def __init__(self, controller):\n",
    "        self.controller = controller\n",
    "\n",
    "    async def main(self):\n",
    "        async with Client(MQTT_BROKER) as client, \\\n",
    "            Comm(self.state_listener) as robot:\n",
    "            self.client = client\n",
    "            await client.publish(f\"{TOPIC_ROOT}/new\", json.dumps({\n",
    "                \"columns\": [ \"duty [%]\", \"cpt\" ],\n",
    "                \"rollover\": 1000,\n",
    "                \"args\": { \"title\": f\"Robot {self.controller}\" },\n",
    "            }))\n",
    "            await robot.set(PARAM_FS, 5)\n",
    "            await robot.start(self.controller)\n",
    "            range = 30\n",
    "            N = 50\n",
    "            for duty in np.linspace(-range, range, N):\n",
    "                await robot.set(PARAM_DUTY1, duty)\n",
    "                await asyncio.sleep(1)\n",
    "            for duty in np.linspace(range, -range, N):\n",
    "                await robot.set(PARAM_DUTY1, duty)\n",
    "                await asyncio.sleep(1)\n",
    "\n",
    "    async def state_listener(self, state):\n",
    "        try:\n",
    "            duty = PARAM[PARAM_DUTY1]\n",
    "            cpt1 = state[STATE_CPT1]\n",
    "            await self.client.publish(f\"{TOPIC_ROOT}/bin\", pack('!2f', duty, cpt1))\n",
    "        except Exception as e:\n",
    "            print(\"*****\", e)\n",
    "\n",
    "\n",
    "c = Control(\"duty_control\")\n",
    "asyncio.run(c.main())"
   ]
  },
  {
   "cell_type": "markdown",
   "id": "6bc7d00a-e4f9-42b5-8e86-534a1b2e669c",
   "metadata": {},
   "source": [
    "![](figures/duty_control.png)\n",
    "\n",
    "## Feed-Forward Control\n",
    "\n",
    "Perhaps adding an offset to the duty input will improve the situation. `speed_control` does just that:"
   ]
  },
  {
   "cell_type": "code",
   "execution_count": 1,
   "id": "7b68ec09-06aa-497d-be2c-7b79812684fb",
   "metadata": {},
   "outputs": [
    {
     "name": "stdout",
     "output_type": "stream",
     "text": [
      "Writing /home/iot/iot49.org/docs/projects/robot/code/stm32/lib/speed_control.py\n"
     ]
    }
   ],
   "source": [
    "%%writefile $IOT_PROJECTS/robot/code/stm32/lib/speed_control.py\n",
    "from controller import *\n",
    "from param import PARAM\n",
    "\n",
    "PARAM_DUTY1  = const(2)   # motor1 duty cycle setpoint\n",
    "PARAM_DUTY2  = const(3)   # motor2 duty cycle setpoint\n",
    "\n",
    "class Control(Controller):\n",
    "    \n",
    "    @staticmethod\n",
    "    def fix_duty(duty):\n",
    "        if abs(duty) > 1:\n",
    "            duty = duty+8.5 if duty>0 else duty-8.5\n",
    "        return duty\n",
    "\n",
    "    def update(self):\n",
    "        # set motor duty cycle\n",
    "        self.state[STATE_DUTY1] = self.fix_duty(PARAM[PARAM_DUTY1])\n",
    "        self.state[STATE_DUTY2] = self.fix_duty(PARAM[PARAM_DUTY2])"
   ]
  },
  {
   "cell_type": "code",
   "execution_count": 1,
   "id": "110ffc3c-52e3-4db5-9b2d-03693a267e73",
   "metadata": {},
   "outputs": [
    {
     "ename": "NameError",
     "evalue": "name 'Control' is not defined",
     "output_type": "error",
     "traceback": [
      "\u001b[0;31m---------------------------------------------------------------------------\u001b[0m",
      "\u001b[0;31mNameError\u001b[0m                                 Traceback (most recent call last)",
      "\u001b[0;32m/tmp/ipykernel_312/1651018985.py\u001b[0m in \u001b[0;36m<module>\u001b[0;34m\u001b[0m\n\u001b[0;32m----> 1\u001b[0;31m \u001b[0mc\u001b[0m \u001b[0;34m=\u001b[0m \u001b[0mControl\u001b[0m\u001b[0;34m(\u001b[0m\u001b[0;34m\"speed_control\"\u001b[0m\u001b[0;34m)\u001b[0m\u001b[0;34m\u001b[0m\u001b[0;34m\u001b[0m\u001b[0m\n\u001b[0m\u001b[1;32m      2\u001b[0m \u001b[0masyncio\u001b[0m\u001b[0;34m.\u001b[0m\u001b[0mrun\u001b[0m\u001b[0;34m(\u001b[0m\u001b[0mc\u001b[0m\u001b[0;34m.\u001b[0m\u001b[0mmain\u001b[0m\u001b[0;34m(\u001b[0m\u001b[0;34m)\u001b[0m\u001b[0;34m)\u001b[0m\u001b[0;34m\u001b[0m\u001b[0;34m\u001b[0m\u001b[0m\n",
      "\u001b[0;31mNameError\u001b[0m: name 'Control' is not defined"
     ]
    }
   ],
   "source": [
    "%%host\n",
    "c = Control(\"speed_control\")\n",
    "asyncio.run(c.main())"
   ]
  },
  {
   "cell_type": "markdown",
   "id": "a344c44c-d99e-49f9-82ce-df8588f462ea",
   "metadata": {},
   "source": [
    "![](figures/speed_control.png)"
   ]
  },
  {
   "cell_type": "markdown",
   "id": "5fa5d38e-a898-4a37-8065-e80adff09ee7",
   "metadata": {},
   "source": [
    "Not perfect, but much improved. \n",
    "\n",
    "## PID Controller\n",
    "\n",
    "In the PID controller shown below, the \"plant/process\" is the controlled system (e.g. a motor). `r(t)` is the setpoint (desired value, e.g. motor rpm), `y(t)` is the actual value (e.g. motor rpm measured by an encoder), and `u(t)` is the control input (e.g. motor duty cycle). The controller attempts to minimize the error `e(t)`, i.e. make `y(t)` follow `r(t)`.\n",
    "\n",
    "![](figures/PID_en.svg)\n",
    "\n",
    "PID controller code:"
   ]
  },
  {
   "cell_type": "code",
   "execution_count": null,
   "id": "f47e6694-0f89-4897-a390-e5d02a10ce11",
   "metadata": {},
   "outputs": [],
   "source": [
    "%%writefile $IOT_PROJECTS/robot/code/stm32/lib/PID.py\n",
    "# Based on https://github.com/br3ttb/Arduino-PID-Library\n",
    "\n",
    "from array import array\n",
    "\n",
    "# config vector (may be dynamically updated)\n",
    "SETPOINT = const(0)  # setpoint            \n",
    "KP       = const(1)  # proportional term\n",
    "KI       = const(2)  # scaled by /fs\n",
    "KD       = const(3)  # scaled by *fs\n",
    "U_MIN    = const(4)  # minimum PID output (anti-windup)\n",
    "U_MAX    = const(5)  # maximum PID output (anti-windup)\n",
    "\n",
    "# state (used internally)\n",
    "_SUM     = const(0)\n",
    "_Y       = const(1)\n",
    "\n",
    "class PID:\n",
    "    \n",
    "    def __init__(self, config):\n",
    "        self.config = config\n",
    "        self.state = array('f', [0, 0])\n",
    "    \n",
    "    def update(self, y):\n",
    "        \"\"\"compute & return new PID output u from plant output y\"\"\"\n",
    "        c = self.config\n",
    "        s = self.state\n",
    "        err = c[SETPOINT] - y\n",
    "        s[_SUM] += self._clip(c[KI] * err)   # integrator state\n",
    "        u = self._clip(c[KP] * err + s[_SUM] - c[KD] * (y - s[_Y]))\n",
    "        s[_Y] = y   # save last y (for KD term)\n",
    "        return u\n",
    "    \n",
    "    def _clip(self, value):\n",
    "        c = self.config\n",
    "        if value > c[U_MAX]: return c[U_MAX]\n",
    "        if value < c[U_MIN]: return c[U_MIN]\n",
    "        return value"
   ]
  },
  {
   "cell_type": "markdown",
   "id": "8ae2da32-8cc9-4840-b9c9-f32f9ae1bb41",
   "metadata": {},
   "source": [
    "## Feedback Speed Controller\n",
    "\n",
    "Now we use a PID controller to determine the duty cycle to achieve a set speed determined by the cpt count.\n",
    "\n",
    "We use the average cpt count for the two motors. A second PID controller will be added later to set the difference for turning."
   ]
  },
  {
   "cell_type": "code",
   "execution_count": 4,
   "id": "909bac1a-4a09-4de5-97d0-d173b43a57fe",
   "metadata": {},
   "outputs": [
    {
     "name": "stdout",
     "output_type": "stream",
     "text": [
      "Writing /home/iot/iot49.org/docs/projects/robot/code/stm32/lib/speed_control.py\n"
     ]
    }
   ],
   "source": [
    "%%writefile $IOT_PROJECTS/robot/code/stm32/lib/speed_control.py\n",
    "from controller import *\n",
    "from param import PARAM, PARAM_RESERVED\n",
    "from pid import PID\n",
    "\n",
    "\n",
    "P0 = const(2)\n",
    "assert P0 == PARAM_RESERVED\n",
    "\n",
    "# cpt PID\n",
    "SET_CPT   = const(P0+0)\n",
    "KP        = const(P0+1)\n",
    "KI        = const(P0+2)\n",
    "KD        = const(P0+3)\n",
    "U_MIN     = const(P0+4)\n",
    "U_MAX     = const(P0+5)\n",
    "\n",
    "class Control(Controller):\n",
    "    \n",
    "    def __init__(self, uart):\n",
    "        super().__init__(uart)\n",
    "        self.pid = PID(memoryview(PARAM)[SET_CPT:U_MAX+1])\n",
    "    \n",
    "    def update(self):\n",
    "        state = self.state\n",
    "        cpt = 0.1 * (state[STATE_CPT1] + state[STATE_CPT2])\n",
    "        state[STATE_DUTY1] = state[STATE_DUTY2] = cpt\n",
    "        \n",
    "    @staticmethod\n",
    "    def fix_duty(duty):\n",
    "        if abs(duty) > 1:\n",
    "            duty = duty+8.5 if duty>0 else duty-8.5\n",
    "        return duty"
   ]
  },
  {
   "cell_type": "code",
   "execution_count": 1,
   "id": "4c06bb44-6942-4b0e-b3da-cdaedcd02750",
   "metadata": {},
   "outputs": [
    {
     "name": "stdout",
     "output_type": "stream",
     "text": [
      "plot @ http://pi4robot.local:5006\n",
      "\u001b[32mDirectories match\n",
      "\u001b[0mControl ...\n",
      "MCU: start Comm @ 1000000 baud\n",
      "     \n",
      "fs\n",
      "so long\n",
      "MCU: 10633823966279326983230456482242756608\n",
      "     \n",
      "MCU: >\n",
      "     MicroPython v1.17-195-gbb7aae557 on 2022-01-09; Motor Hat with STM32F405RG\n",
      "     Type \"help()\" for more information.\n",
      "     >>> \n"
     ]
    }
   ],
   "source": [
    "%%host\n",
    "\n",
    "import nest_asyncio, sys, os\n",
    "nest_asyncio.apply()\n",
    "sys.path.append(os.path.join(os.getenv('IOT_PROJECTS'), 'robot/code/rpi'))\n",
    "\n",
    "from asyncio_mqtt import Client\n",
    "from struct import pack\n",
    "import numpy as np\n",
    "import asyncio, json, os\n",
    "\n",
    "import stm32\n",
    "from robot import *\n",
    "\n",
    "print(f\"plot @ http://{os.getenv('DNS_NAME')}.local:5006\")\n",
    "\n",
    "MQTT_BROKER = os.getenv(\"HOST_IP\")\n",
    "TOPIC_ROOT = \"public/vis\"\n",
    "\n",
    "P0 = const(2)\n",
    "assert P0 == PARAM_RESERVED\n",
    "\n",
    "# cpt PID\n",
    "SET_CPT   = const(P0+0)\n",
    "KP        = const(P0+1)\n",
    "KI        = const(P0+2)\n",
    "KD        = const(P0+3)\n",
    "U_MIN     = const(P0+4)\n",
    "U_MAX     = const(P0+5)\n",
    "\n",
    "\n",
    "class Control:\n",
    "\n",
    "    async def main(self):\n",
    "        x = Comm(self.state_listener)\n",
    "        async with Client(MQTT_BROKER) as client, \\\n",
    "            x as robot: #Comm(self.state_listener) as robot:\n",
    "            self.client = client\n",
    "            await client.publish(f\"{TOPIC_ROOT}/new\", json.dumps({\n",
    "                \"columns\": [ \"duty [%]\", \"cpt\" ],\n",
    "                \"rollover\": 1000,\n",
    "                \"args\": { \"title\": f\"Robot PID cpt\" },\n",
    "            }))\n",
    "            await robot.set(PARAM_FS, 5)\n",
    "            print(\"fs\")\n",
    "            print(\"start\", await robot.get(PARAM_FS))\n",
    "            await robot.start(\"speed_control\")\n",
    "            print(\"run\")\n",
    "            range = 30\n",
    "            N = 50\n",
    "            for cpt in np.linspace(-range, range, N):\n",
    "                await robot.set(SET_CPT, cpt)\n",
    "                print(f\"SET_CPT = {await robot.get(SET_CPT)}\")\n",
    "                await asyncio.sleep(1)\n",
    "            for cpt in np.linspace(range, -range, N):\n",
    "                await robot.set(SET_CPT, cpt)\n",
    "                await asyncio.sleep(1)\n",
    "\n",
    "    async def state_listener(self, state):\n",
    "        try:\n",
    "            duty = PARAM[PARAM_DUTY1]\n",
    "            cpt1 = state[STATE_CPT1]\n",
    "            await self.client.publish(f\"{TOPIC_ROOT}/bin\", pack('!2f', duty, cpt1))\n",
    "        except Exception as e:\n",
    "            print(\"*****\", e)\n",
    "\n",
    "\n",
    "stm32.hard_reset()\n",
    "stm32.rsync()\n",
    "\n",
    "try:\n",
    "    print(\"Control ...\")\n",
    "    c = Control()\n",
    "    asyncio.run(c.main())\n",
    "except KeyboardInterrupt:\n",
    "    print(\"so long\")"
   ]
  },
  {
   "cell_type": "code",
   "execution_count": null,
   "id": "1fa886a4-566c-48ab-aae1-0487beb5bf5b",
   "metadata": {},
   "outputs": [],
   "source": []
  }
 ],
 "metadata": {
  "kernelspec": {
   "display_name": "IoT",
   "language": "python",
   "name": "iot_kernel"
  },
  "language_info": {
   "codemirror_mode": {
    "name": "python",
    "version": 3
   },
   "file_extension": ".py",
   "mimetype": "text/x-python",
   "name": "python",
   "pygments_lexer": "python3",
   "version": "3"
  }
 },
 "nbformat": 4,
 "nbformat_minor": 5
}
