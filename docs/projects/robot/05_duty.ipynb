{
 "cells": [
  {
   "cell_type": "markdown",
   "id": "f09cbbae-07b4-4d73-8189-f314534aefdb",
   "metadata": {},
   "source": [
    "# Motor Speed vs Duty Cycle\n",
    "\n",
    "Setup the environment:"
   ]
  },
  {
   "cell_type": "code",
   "execution_count": 2,
   "id": "4e617d9b-656a-424c-9105-72f1c39eb0cd",
   "metadata": {},
   "outputs": [],
   "source": [
    "import nest_asyncio, sys, os\n",
    "nest_asyncio.apply()\n",
    "sys.path.append(os.path.join(os.getenv('IOT_PROJECTS'), 'robot/code/rpi'))"
   ]
  },
  {
   "cell_type": "code",
   "execution_count": null,
   "id": "509d05dd-98d7-4886-acb1-ee6ed0ff874f",
   "metadata": {},
   "outputs": [],
   "source": [
    "from asyncio_mqtt import Client\n",
    "from struct import pack\n",
    "import numpy as np\n",
    "import asyncio, json, os\n",
    "\n",
    "import stm32\n",
    "from robot import *\n",
    "\n",
    "print(f\"plot @ http://{os.getenv('DNS_NAME')}.local:5006\")\n",
    "\n",
    "MQTT_BROKER = os.getenv(\"HOST_IP\")\n",
    "TOPIC_ROOT = \"public/vis\"\n",
    "\n",
    "PARAM_DUTY1  = const(PARAM_RESERVED+0)   # motor1 duty cycle setpoint\n",
    "PARAM_DUTY2  = const(PARAM_RESERVED+1)   # motor2 duty cycle setpoint\n",
    "\n",
    "class DutyControl:\n",
    "\n",
    "    def __init__(self):\n",
    "        pass\n",
    "\n",
    "    async def main(self):\n",
    "        async with Client(MQTT_BROKER) as client, \\\n",
    "            Comm(self.state_listener) as robot:\n",
    "            self.client = client\n",
    "            await client.publish(f\"{TOPIC_ROOT}/new\", json.dumps({\n",
    "                \"columns\": [ \"duty [%]\", \"cpt\" ],\n",
    "                \"rollover\": 1000,\n",
    "                \"args\": { \"title\": \"Robot CPT vs Duty Cycle\" },\n",
    "            }))\n",
    "            await robot.set(PARAM_FS, 5)\n",
    "            await robot.start('duty_control')\n",
    "            for duty in np.linspace(-100, 100, 50):\n",
    "                await robot.set(PARAM_DUTY1, duty)\n",
    "                await asyncio.sleep(1)\n",
    "            for duty in np.linspace(100, -100, 50):\n",
    "                await robot.set(PARAM_DUTY1, duty)\n",
    "                await asyncio.sleep(1)\n",
    "\n",
    "    async def state_listener(self, state):\n",
    "        try:\n",
    "            duty = state[STATE_DUTY1]\n",
    "            cpt1 = state[STATE_CPT1]\n",
    "            await self.client.publish(f\"{TOPIC_ROOT}/bin\", pack('!2f', duty, cpt1))\n",
    "        except Exception as e:\n",
    "            print(\"*****\", e)\n",
    "\n",
    "\n",
    "dc = DutyControl()\n",
    "asyncio.run(dc.main())"
   ]
  },
  {
   "cell_type": "markdown",
   "id": "41415353-db01-4600-9792-956daff0c8b9",
   "metadata": {},
   "source": [
    "Ah, there is a dead zone around zero. That's not surprising (and of course would be rather \"worse\" with a combustion engine). There is also a little hysteresis. This could pose problems with feedback controllers, especially balancing since that runs the motors around zero speed.\n",
    "\n",
    "![](figures/cpt_vs_duty.png)\n",
    "\n",
    "Let's zoom in:"
   ]
  },
  {
   "cell_type": "code",
   "execution_count": 5,
   "id": "98dcbc75-e9f7-484e-b563-7e642eda4a66",
   "metadata": {},
   "outputs": [
    {
     "name": "stdout",
     "output_type": "stream",
     "text": [
      "plot @ http://pi4robot.local:5006\n",
      "MCU: start Comm @ 1000000 baud\n",
      "     \n"
     ]
    }
   ],
   "source": [
    "import nest_asyncio, sys, os\n",
    "nest_asyncio.apply()\n",
    "sys.path.append(os.path.join(os.getenv('IOT_PROJECTS'), 'robot/code/rpi'))\n",
    "\n",
    "from asyncio_mqtt import Client\n",
    "from struct import pack\n",
    "import numpy as np\n",
    "import asyncio, json, os\n",
    "\n",
    "import stm32\n",
    "from robot import *\n",
    "\n",
    "print(f\"plot @ http://{os.getenv('DNS_NAME')}.local:5006\")\n",
    "\n",
    "MQTT_BROKER = os.getenv(\"HOST_IP\")\n",
    "TOPIC_ROOT = \"public/vis\"\n",
    "\n",
    "PARAM_DUTY1  = const(PARAM_RESERVED+0)   # motor1 duty cycle setpoint\n",
    "PARAM_DUTY2  = const(PARAM_RESERVED+1)   # motor2 duty cycle setpoint\n",
    "\n",
    "\n",
    "class Control:\n",
    "\n",
    "    def __init__(self, controller):\n",
    "        self.controller = controller\n",
    "\n",
    "    async def main(self):\n",
    "        async with Client(MQTT_BROKER) as client, \\\n",
    "            Comm(self.state_listener) as robot:\n",
    "            self.client = client\n",
    "            await client.publish(f\"{TOPIC_ROOT}/new\", json.dumps({\n",
    "                \"columns\": [ \"duty [%]\", \"cpt\" ],\n",
    "                \"rollover\": 1000,\n",
    "                \"args\": { \"title\": f\"Robot {self.controller}\" },\n",
    "            }))\n",
    "            await robot.set(PARAM_FS, 5)\n",
    "            await robot.start(self.controller)\n",
    "            range = 30\n",
    "            N = 50\n",
    "            for duty in np.linspace(-range, range, N):\n",
    "                await robot.set(PARAM_DUTY1, duty)\n",
    "                await asyncio.sleep(1)\n",
    "            for duty in np.linspace(range, -range, N):\n",
    "                await robot.set(PARAM_DUTY1, duty)\n",
    "                await asyncio.sleep(1)\n",
    "\n",
    "    async def state_listener(self, state):\n",
    "        try:\n",
    "            duty = PARAM[PARAM_DUTY1]\n",
    "            cpt1 = state[STATE_CPT1]\n",
    "            await self.client.publish(f\"{TOPIC_ROOT}/bin\", pack('!2f', duty, cpt1))\n",
    "        except Exception as e:\n",
    "            print(\"*****\", e)\n",
    "\n",
    "\n",
    "c = Control(\"duty_control\")\n",
    "asyncio.run(c.main())"
   ]
  },
  {
   "cell_type": "markdown",
   "id": "6bc7d00a-e4f9-42b5-8e86-534a1b2e669c",
   "metadata": {},
   "source": [
    "![](figures/duty_control.png)\n",
    "\n",
    "Perhaps adding an offset to the duty input will improve the situation. `speed_control` does just that:"
   ]
  },
  {
   "cell_type": "code",
   "execution_count": 9,
   "id": "2541825e-10c4-4a16-9e56-d92a9ec5b950",
   "metadata": {},
   "outputs": [
    {
     "name": "stdout",
     "output_type": "stream",
     "text": [
      "from controller import *\n",
      "from param import PARAM\n",
      "\n",
      "# Trivial \"controller\" that just turns on motors and sets pwm duty cycle.\n",
      "\n",
      "PARAM_DUTY1  = const(2)   # motor1 duty cycle setpoint\n",
      "PARAM_DUTY2  = const(3)   # motor2 duty cycle setpoint\n",
      "\n",
      "\n",
      "class Control(Controller):\n",
      "    \n",
      "    @staticmethod\n",
      "    def fix_duty(duty):\n",
      "        if abs(duty) > 1:\n",
      "            duty = duty+8.5 if duty>0 else duty-8.5\n",
      "        return duty\n",
      "\n",
      "    def update(self):\n",
      "        # set motor duty cycle\n",
      "        self.state[STATE_DUTY1] = self.fix_duty(PARAM[PARAM_DUTY1])\n",
      "        self.state[STATE_DUTY2] = self.fix_duty(PARAM[PARAM_DUTY2])"
     ]
    }
   ],
   "source": [
    "!cat $IOT_PROJECTS/robot/code/stm32/lib/speed_control.py"
   ]
  },
  {
   "cell_type": "code",
   "execution_count": null,
   "id": "110ffc3c-52e3-4db5-9b2d-03693a267e73",
   "metadata": {},
   "outputs": [],
   "source": [
    "c = Control(\"speed_control\")\n",
    "asyncio.run(c.main())"
   ]
  },
  {
   "cell_type": "markdown",
   "id": "a344c44c-d99e-49f9-82ce-df8588f462ea",
   "metadata": {},
   "source": [
    "![](figures/speed_control.png)"
   ]
  },
  {
   "cell_type": "markdown",
   "id": "5fa5d38e-a898-4a37-8065-e80adff09ee7",
   "metadata": {},
   "source": [
    "Not perfect, but much improved. Let's remember in case we run into problems later."
   ]
  },
  {
   "cell_type": "code",
   "execution_count": null,
   "id": "acce9a25-c454-47d8-b410-7803b4376871",
   "metadata": {},
   "outputs": [],
   "source": []
  }
 ],
 "metadata": {
  "kernelspec": {
   "display_name": "Python 3 (ipykernel)",
   "language": "python",
   "name": "python3"
  },
  "language_info": {
   "codemirror_mode": {
    "name": "ipython",
    "version": 3
   },
   "file_extension": ".py",
   "mimetype": "text/x-python",
   "name": "python",
   "nbconvert_exporter": "python",
   "pygments_lexer": "ipython3",
   "version": "3.9.7"
  }
 },
 "nbformat": 4,
 "nbformat_minor": 5
}
