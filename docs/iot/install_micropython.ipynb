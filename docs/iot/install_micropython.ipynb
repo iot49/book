{
 "cells": [
  {
   "cell_type": "markdown",
   "id": "434850e5-703d-4fc5-ba43-1b63bce24b98",
   "metadata": {},
   "source": [
    "# Install MicroPython"
   ]
  },
  {
   "cell_type": "code",
   "execution_count": null,
   "id": "7fb1bdb2-0c5b-4eb6-8eeb-7edbeadf4105",
   "metadata": {},
   "outputs": [],
   "source": []
  }
 ],
 "metadata": {
  "kernelspec": {
   "display_name": "IoT",
   "language": "python",
   "name": "iot_kernel"
  },
  "language_info": {
   "codemirror_mode": {
    "name": "python",
    "version": 3
   },
   "file_extension": ".py",
   "mimetype": "text/x-python",
   "name": "python",
   "pygments_lexer": "python3",
   "version": "3"
  }
 },
 "nbformat": 4,
 "nbformat_minor": 5
}
