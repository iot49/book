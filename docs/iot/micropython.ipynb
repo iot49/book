{
 "cells": [
  {
   "cell_type": "markdown",
   "id": "9b330d02-f09e-465e-9030-c17d1b4a88a9",
   "metadata": {},
   "source": [
    "# MicroPython\n",
    "\n",
    "[MicroPython](https://micropython.org/) is a port of [Python](https://www.python.org/) to [microcontrollers](https://en.wikipedia.org/wiki/Microcontroller).\n",
    "\n",
    "A wide variety of devices are supported by MicroPython that cover a wide range of computer power, peripherals, wireless connectivity, power dissipation. In this overview we use an [ESP32](https://www.espressif.com/en/products/socs/esp32). With built-in support for [WiFi](https://en.wikipedia.org/wiki/Wi-Fi) and [Bluetooth](https://en.wikipedia.org/wiki/Bluetooth) it is well suited for IoT projects. \n",
    "\n",
    "Like all computer chips, the ESP32 requires a few additional components - memory, a USB interface, power supply - to operate. Fortunately breakout boards are available that not only contain these circuits but also a mechanically and electrically conventient interface for connecting with IoT projects.\n",
    "\n",
    "![TinyPICO](figures/tinypico-features-v2.jpg)\n",
    "\n",
    "Boards are available from several vendors including the manufacturer. Below we use the [TinyPICO](https://www.tinypico.com/), but boards from other vendors will work with minor modifications to the code."
   ]
  },
  {
   "cell_type": "markdown",
   "id": "eb4cb911-c4f1-43cf-9563-8f913aa32f7d",
   "metadata": {},
   "source": [
    "## Connecting to the Board\n",
    "\n",
    "The first step after connecting the microcontroller to the Raspberry Pi with a USB cable is discovering the port to which it is connected."
   ]
  },
  {
   "cell_type": "code",
   "execution_count": 1,
   "id": "5a73fa5d-fc00-429a-b76f-fb1f0135c5c6",
   "metadata": {},
   "outputs": [
    {
     "name": "stdout",
     "output_type": "stream",
     "text": [
      "\u001b[0m\u001b[0m50:02:91:a1:a7:2c  serial:///dev/ttyUSB0  \u001b[0m\n"
     ]
    }
   ],
   "source": [
    "%discover"
   ]
  },
  {
   "cell_type": "markdown",
   "id": "6c61cb29-95bf-40aa-8d36-fb0adb1533e5",
   "metadata": {},
   "source": [
    "The `%discover` magic searches all ports for available devices. For each device it reports a hexadecimal string that uniquely identifies the processors (hence you'll get a different number) and the port it is connected to.\n",
    "\n",
    "Connection is initiated with the `%connect` magic."
   ]
  },
  {
   "cell_type": "code",
   "execution_count": 1,
   "id": "b14c03b0-80ee-4f7e-8b0f-0b82da845a29",
   "metadata": {},
   "outputs": [
    {
     "name": "stdout",
     "output_type": "stream",
     "text": [
      "\u001b[0m\u001b[0m\u001b[46m\u001b[30mConnected to 50:02:91:a1:a7:2c @ serial:///dev/ttyUSB0\u001b[0m\n"
     ]
    }
   ],
   "source": [
    "%connect 50:02:91:a1:a7:2c"
   ]
  },
  {
   "cell_type": "markdown",
   "id": "a01d3b36-75b1-4f90-b615-4c72781da712",
   "metadata": {},
   "source": [
    "Code typed into notebook cells is sent to the microcontroller and results reported back. For example:"
   ]
  },
  {
   "cell_type": "code",
   "execution_count": 1,
   "id": "90f32e18-8071-45d1-a786-d665a2c8845c",
   "metadata": {},
   "outputs": [
    {
     "name": "stdout",
     "output_type": "stream",
     "text": [
      "\u001b[0m0 0\n",
      "1 1\n",
      "2 32\n",
      "3 243\n",
      "4 1024\n",
      "5 3125\n",
      "\u001b[0m"
     ]
    }
   ],
   "source": [
    "for i in range(6):\n",
    "    print(i, i**5)"
   ]
  },
  {
   "cell_type": "markdown",
   "id": "ade7470f-b8a7-4fd0-bf40-742352adb521",
   "metadata": {},
   "source": [
    "But how do we know that the code has actually been executed on the microcontroller and not the Raspberry Pi?"
   ]
  },
  {
   "cell_type": "code",
   "execution_count": 1,
   "id": "f847dc97-7ccf-4f68-ba43-85fa6df3dbc0",
   "metadata": {},
   "outputs": [
    {
     "name": "stdout",
     "output_type": "stream",
     "text": [
      "\u001b[0mesp32\n",
      "\u001b[0m"
     ]
    }
   ],
   "source": [
    "import sys\n",
    "print(sys.platform)"
   ]
  },
  {
   "cell_type": "markdown",
   "id": "1b74cb7a-48a8-4926-b47f-2ebd2352d84b",
   "metadata": {},
   "source": [
    "On the \"host\" (the Raspberry Pi) we get a different response:"
   ]
  },
  {
   "cell_type": "code",
   "execution_count": 2,
   "id": "ead4d17e-547b-451a-851e-494482e9b09e",
   "metadata": {},
   "outputs": [
    {
     "name": "stdout",
     "output_type": "stream",
     "text": [
      "\u001b[0m\u001b[0mlinux\n"
     ]
    }
   ],
   "source": [
    "%%host\n",
    "\n",
    "import sys\n",
    "print(sys.platform)"
   ]
  },
  {
   "cell_type": "markdown",
   "id": "86adbd87-d0b0-43e3-8f13-bfeeed406588",
   "metadata": {},
   "source": [
    "## Naming the Board\n",
    "\n",
    "Identifying microcontrollers with hexadecimal strings is useful for keeping track of devices (I have an entire drawer full), but about as informative and convenient to remember as a phone number. \n",
    "\n",
    "Fortunately it is easy to associate the device with a \"name\", by simply recording this information in a file and saving it to folder `~/iot49/devices`. The `%%writefile` magic does this for us:\n",
    "\n"
   ]
  },
  {
   "cell_type": "code",
   "execution_count": 3,
   "id": "57793fbe-defb-4a12-9317-e06b44d4d988",
   "metadata": {},
   "outputs": [
    {
     "name": "stdout",
     "output_type": "stream",
     "text": [
      "\u001b[0mWriting /home/iot/iot49/devices/boards.yaml\n"
     ]
    }
   ],
   "source": [
    "%%writefile ~/iot49/devices/boards.yaml\n",
    "pico:\n",
    "    uid: 50:02:91:a1:a7:2c"
   ]
  },
  {
   "cell_type": "markdown",
   "id": "8ebfb592-2af7-4edd-b952-fbb232bb728e",
   "metadata": {},
   "source": [
    "Don't forget to change the name of the microcontroller (I called mine `pico`) and it's uid! If you have more than one device, you can add additional entries to the same file or a different one in `~/iot49/devices`. The name does not matter, only the extension (`.yaml`).\n",
    "\n",
    "Now `%discover` reports the name rather than a hex number."
   ]
  },
  {
   "cell_type": "code",
   "execution_count": 3,
   "id": "e5fd347b-a957-41f3-8f5d-107e9106489a",
   "metadata": {},
   "outputs": [
    {
     "name": "stdout",
     "output_type": "stream",
     "text": [
      "\u001b[0m\u001b[0mpico  serial:///dev/ttyUSB0  \u001b[0m\n"
     ]
    }
   ],
   "source": [
    "%discover"
   ]
  },
  {
   "cell_type": "markdown",
   "id": "1d860754-6139-40d3-af0d-f1f5408de1f7",
   "metadata": {},
   "source": [
    "Connect also understand the name:"
   ]
  },
  {
   "cell_type": "code",
   "execution_count": 3,
   "id": "ee9ca98f-e3c9-4c0f-9ff5-d084c9deadb6",
   "metadata": {},
   "outputs": [
    {
     "name": "stdout",
     "output_type": "stream",
     "text": [
      "\u001b[0m\u001b[0m\u001b[46m\u001b[30mConnected to pico @ serial:///dev/ttyUSB0\u001b[0m\n"
     ]
    }
   ],
   "source": [
    "%connect pico"
   ]
  },
  {
   "cell_type": "markdown",
   "id": "d4ace16a-897c-48f0-8a2f-5d111acd412c",
   "metadata": {},
   "source": [
    "## Hello World\n",
    "\n",
    "Blinking an LED is a good first \"verification\" that the controller actually works. Most breakout boards include one or serveral LEDs that can easily be turned on and off by the microcontroller. For example, the code for [Adafruit Huzzah32](https://www.adafruit.com/product/3405) is"
   ]
  },
  {
   "cell_type": "code",
   "execution_count": 3,
   "id": "19c8e01a-b7ce-459a-ab57-31885ba7f5e1",
   "metadata": {},
   "outputs": [
    {
     "name": "stdout",
     "output_type": "stream",
     "text": [
      "\u001b[0m\u001b[0m\u001b[46m\u001b[30mConnected to huzzah32 @ serial:///dev/ttyUSB1\u001b[0m\n"
     ]
    }
   ],
   "source": [
    "%connect huzzah32\n",
    "\n",
    "from machine import Pin\n",
    "from time import sleep\n",
    "\n",
    "# connect to the LED and configure the Pin as an output\n",
    "led = Pin(13, mode=Pin.OUT)\n",
    "\n",
    "# turn the LED on and off ten times\n",
    "for i in range(10):\n",
    "    led.value(1)\n",
    "    sleep(0.2)\n",
    "    led.value(0)\n",
    "    sleep(0.5)  "
   ]
  },
  {
   "cell_type": "markdown",
   "id": "c3785e9c-fddd-467e-b4e1-32e5af35277f",
   "metadata": {},
   "source": [
    "This code snippet first imports `Pin`, a class that is specific to MicroPython and allows to set or read the value of a and electrical connection between 3.3V and 0V.\n",
    "\n",
    "The ESP32 has many electrical connections (pins) that are identified by numbers. On the Huzzah32 board the on-board LED is connected to pin number 13."
   ]
  },
  {
   "cell_type": "markdown",
   "id": "a53ee2d1-bbf6-434a-b32c-1e5dcffd545b",
   "metadata": {},
   "source": [
    "Alas, the TinyPICO has a more sophisticated three-color LED that is controlled from an SPI bus. Fortunately the code to operate the LED are already flashed into the MicroPython interpreter installed on the TinyPICO. For now we simply copy an [example](https://www.tinypico.com/code-examples) from the web, leaving the details for later."
   ]
  },
  {
   "cell_type": "code",
   "execution_count": 1,
   "id": "01cc7cc5-a6ba-4bf7-a38b-c4d847dba832",
   "metadata": {},
   "outputs": [
    {
     "name": "stdout",
     "output_type": "stream",
     "text": [
      "\u001b[0m\u001b[0m\u001b[46m\u001b[30mConnected to pico @ serial:///dev/ttyUSB0\u001b[0m\n"
     ]
    },
    {
     "name": "stderr",
     "output_type": "stream",
     "text": [
      "Interrupted\u001b[0m\n"
     ]
    }
   ],
   "source": [
    "%connect pico\n",
    "\n",
    "from machine import SoftSPI, Pin\n",
    "import tinypico as TinyPICO\n",
    "from dotstar import DotStar\n",
    "import time\n",
    "\n",
    "# Configure the DotStar 3-color LED\n",
    "spi = SoftSPI(sck=Pin(TinyPICO.DOTSTAR_CLK), \n",
    "              mosi=Pin(TinyPICO.DOTSTAR_DATA), \n",
    "              miso=Pin(TinyPICO.SPI_MISO)) \n",
    "dotstar = DotStar(spi, 1, brightness = 0.5) # One DotStar, half brightness\n",
    "TinyPICO.set_dotstar_power(True)\n",
    "\n",
    "# Create a colour wheel index int\n",
    "color_index = 0\n",
    "\n",
    "# Rainbow colours on the Dotstar\n",
    "while True:\n",
    "    # Get the R,G,B values of the next colour\n",
    "    r,g,b = TinyPICO.dotstar_color_wheel(color_index)\n",
    "    # Set the colour on the dotstar\n",
    "    dotstar[0] = (r, g, b, 0.5)\n",
    "    # Increase the wheel index\n",
    "    color_index += 1\n",
    "    # Sleep a little so the colour cycle isn't too fast\n",
    "    time.sleep_ms(10)"
   ]
  },
  {
   "cell_type": "markdown",
   "id": "3141d183-f583-4cbd-972e-37cb9e9b91c2",
   "metadata": {},
   "source": [
    "Admire the beautiful colors. Click the black square in the toolbar at the top of the notebook to stop the show."
   ]
  },
  {
   "cell_type": "code",
   "execution_count": null,
   "id": "c894ef2c-6763-4a1a-8acf-62a70c2f7804",
   "metadata": {},
   "outputs": [],
   "source": []
  }
 ],
 "metadata": {
  "kernelspec": {
   "display_name": "IoT",
   "language": "python",
   "name": "iot_kernel"
  },
  "language_info": {
   "codemirror_mode": {
    "name": "python",
    "version": 3
   },
   "file_extension": ".py",
   "mimetype": "text/x-python",
   "name": "python",
   "pygments_lexer": "python3",
   "version": "3"
  }
 },
 "nbformat": 4,
 "nbformat_minor": 5
}
