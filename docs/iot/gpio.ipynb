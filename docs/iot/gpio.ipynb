{
 "cells": [
  {
   "cell_type": "markdown",
   "id": "cdad5ecf-0a25-4f0a-97bd-42f314a94dc3",
   "metadata": {},
   "source": [
    "# GPIO\n",
    "\n",
    "GPIO stands for \"General Purpose Input Output\" (thankfully there is an abbreviation!) and is a means by which microcontrollers communicate electrically with the \"outside\" world. The details vary from one controller to the other, but the basic capabilities are shared by all of them.\n",
    "\n",
    "Generally we can divide GPIO functions into \"analog\" and \"digital\". The former represents voltage (e.g. at a microcontroller \"pin\") as a continuous voltage. The latter, digital version, restricts voltage to just two extremes: high and low, or 3.3V and 0V for the pins on our microcontroller. Anything in the middle will be interpreted as high or low, depending which voltage is closer, or random the zone that is close to the middle, 1.65V. In programs high and low are represented by 1's and zeros, although other interpretations (e.g. True and False) are equally valid and also used.\n",
    "\n",
    "Like many microcontrollers, the \"pins\" on the ESP32 can be configured under software control for either analog or digital and for either input or output, though not all pins support all functions.\n",
    "\n",
    "This information is captured in pin diagrams, and the one for the TinyPICO is reproduced below (downloaded from the [website](https://www.tinypico.com/gettingstarted)).\n",
    "\n",
    "![TinyPICO Pinout](figures/tinypico-pinout-v2.jpg)"
   ]
  },
  {
   "cell_type": "markdown",
   "id": "1e3f3efd-5566-44dc-947f-8bb2ac2aa97f",
   "metadata": {},
   "source": [
    "Several pins (3V3, 5V, BAT, GND) are dedicated to power, and one is used for reset. The connections APA102 3-color LED are internal to the board.\n",
    "\n",
    "This leaves 14 pins to GPIO. All are capable of digital input and output. Two, marked DAC1 and DAC2, can be configured for analog output an several, marked ADC, for analog input. Note that many pins have multiple functions set (on the fly) by software, but pins cannot serve multiple functions simultaneously.\n",
    "\n",
    "To checkout the pins you need a voltmeter (DVM, digital multimeter). These are available online with prices starting at less then ten dollar increasing to well over a thousand. Twenty dollars gets a meter that is perfectly adequate for our purposes.\n",
    "\n",
    "<img src=\"figures/dvm.jpg\" alt=\"Digital Multimeter\" width=\"200\"/>"
   ]
  },
  {
   "cell_type": "markdown",
   "id": "7b5791a7-eb33-4dfe-a313-d3a0e7252e9d",
   "metadata": {},
   "source": [
    "## Supply\n",
    "\n",
    "Let's start with measuring the supply voltage. For that connect one terminal of the DVM to one of the pins labeled GND in the pinout diagram for the TinyPICO and the other to 5V. You will measure a little less than 5V because the input from the USB port passes through a protection diode on the TinyPICO board (see [schematic](https://github.com/tinypico/tinypico-hardware)).\n",
    "\n",
    "By contrast, the 3.3V output comes straight from the on-board regulator and is very close to the nominal voltage.\n",
    "\n",
    "The voltage at the battery (BAT) terminal varies depnding on charging status and is about 4.2V when the no battery is connected and the board is powered from USB."
   ]
  },
  {
   "cell_type": "markdown",
   "id": "3b03200d-3268-4c6f-b46f-561460afc3d3",
   "metadata": {},
   "source": [
    "## Digital Input and Output"
   ]
  },
  {
   "cell_type": "markdown",
   "id": "e6e6eb2e-0a52-46d7-ae39-4e30c1a14453",
   "metadata": {},
   "source": [
    "Every pin marked as I/O in the diagram can be configured as either a digital input or output. MicroPython uses the [Pin class](http://docs.micropython.org/en/latest/esp32/quickref.html#pins-and-gpio) for this purpose. The constructor takes the pin number, direction (input or output), and a few optional parameters that we will consider later.\n",
    "\n",
    "The following code configures pin 23 (marked IO23, in the lower right in the diagram) as an output and switches it slowly between low and high, so we can observe the change with the DVM."
   ]
  },
  {
   "cell_type": "code",
   "execution_count": 1,
   "id": "9545b25d-f55c-4812-ac8b-85203f6765b7",
   "metadata": {},
   "outputs": [
    {
     "name": "stdout",
     "output_type": "stream",
     "text": [
      "\u001b[0m\u001b[0m\u001b[46m\u001b[30mConnected to pico @ serial:///dev/ttyUSB0\u001b[0m\n"
     ]
    },
    {
     "name": "stderr",
     "output_type": "stream",
     "text": [
      "Interrupted\u001b[0m\n"
     ]
    }
   ],
   "source": [
    "%connect pico\n",
    "\n",
    "from machine import Pin\n",
    "from time import sleep\n",
    "\n",
    "pin = Pin(23, Pin.OUT)\n",
    "\n",
    "while True:\n",
    "    pin.value(1)\n",
    "    time.sleep(2)\n",
    "    pin.value(0)\n",
    "    time.sleep(2)"
   ]
  },
  {
   "cell_type": "markdown",
   "id": "fc8f5bed-e759-45e9-ba7f-0068f6c0636a",
   "metadata": {},
   "source": [
    "You should see the DVM display change between 3.3V and 0V, with possibly a few values in-between. That's because firstly the voltage does not change abruptly (although much faster than the DVM can measure) and secondly since the DVM presents some middle value when the input changes while it measures."
   ]
  },
  {
   "cell_type": "code",
   "execution_count": null,
   "id": "26546139-cdbf-4d36-8bdd-ebc02d79daf6",
   "metadata": {},
   "outputs": [],
   "source": []
  }
 ],
 "metadata": {
  "kernelspec": {
   "display_name": "IoT",
   "language": "python",
   "name": "iot_kernel"
  },
  "language_info": {
   "codemirror_mode": {
    "name": "python",
    "version": 3
   },
   "file_extension": ".py",
   "mimetype": "text/x-python",
   "name": "python",
   "pygments_lexer": "python3",
   "version": "3"
  }
 },
 "nbformat": 4,
 "nbformat_minor": 5
}
